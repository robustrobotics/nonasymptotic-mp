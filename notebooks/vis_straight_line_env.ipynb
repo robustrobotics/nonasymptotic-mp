{
 "cells": [
  {
   "cell_type": "code",
   "execution_count": 5,
   "id": "initial_id",
   "metadata": {
    "collapsed": true,
    "ExecuteTime": {
     "end_time": "2024-01-26T05:07:22.082719347Z",
     "start_time": "2024-01-26T05:07:22.040923014Z"
    }
   },
   "outputs": [],
   "source": [
    "from nonasymptotic.envs import StraightLine\n",
    "from nonasymptotic.prm import SimplePRM\n",
    "\n",
    "import numpy as np"
   ]
  },
  {
   "cell_type": "code",
   "execution_count": 6,
   "outputs": [
    {
     "name": "stdout",
     "output_type": "stream",
     "text": [
      "N Components: 1\n",
      "N nodes: 1000\n",
      "N edges: 8212\n"
     ]
    }
   ],
   "source": [
    "seed = 1\n",
    "prm_env_2d = StraightLine(dim=2, delta_clearance=0.5, seed=seed)\n",
    "prm = SimplePRM(0.10, prm_env_2d.is_motion_valid, prm_env_2d.sample_from_env, prm_env_2d.distance_to_path, seed=seed)\n",
    "prm.grow_to_n_samples(1000)\n",
    "\n",
    "# plt.figure()\n",
    "# for u, v in prm.g_prm.iterEdges():\n",
    "#     coords_u = prm.samples[u]\n",
    "#     coords_v = prm.samples[v]\n",
    "# \n",
    "#     plt.plot([coords_u[0], coords_v[0]], [coords_u[1], coords_v[1]], 'ro-')\n",
    "# \n",
    "# plt.show()\n",
    "\n",
    "# some other computations to help other visual tests later on:\n",
    "print('N Components: %i' % len(prm.g_cc.getComponents()))\n",
    "print('N nodes: %i' % prm.num_vertices())\n",
    "print('N edges: %i' % prm.num_edges())\n"
   ],
   "metadata": {
    "collapsed": false,
    "ExecuteTime": {
     "end_time": "2024-01-26T05:07:23.156932765Z",
     "start_time": "2024-01-26T05:07:22.637427065Z"
    }
   },
   "id": "a451572cb2a8ac5"
  },
  {
   "cell_type": "code",
   "execution_count": 7,
   "outputs": [
    {
     "name": "stdout",
     "output_type": "stream",
     "text": [
      "covered!\n",
      "covered!\n",
      "covered!\n",
      "covered!\n",
      "covered!\n",
      "covered!\n",
      "covered!\n",
      "covered!\n",
      "covered!\n",
      "covered!\n",
      "covered!\n",
      "covered!\n",
      "covered!\n",
      "covered!\n",
      "covered!\n",
      "covered!\n",
      "covered!\n",
      "covered!\n",
      "covered!\n",
      "covered!\n",
      "covered!\n",
      "covered!\n",
      "covered!\n",
      "covered!\n",
      "covered!\n",
      "covered!\n",
      "covered!\n",
      "covered!\n",
      "covered!\n",
      "covered!\n",
      "covered!\n",
      "covered!\n",
      "covered!\n",
      "covered!\n",
      "covered!\n",
      "covered!\n",
      "covered!\n",
      "covered!\n",
      "covered!\n",
      "covered!\n",
      "0.0004036820077975012\n"
     ]
    },
    {
     "ename": "RuntimeError",
     "evalue": "Triangulation failed -- probably because of invalid geometry on input.",
     "output_type": "error",
     "traceback": [
      "\u001B[0;31m---------------------------------------------------------------------------\u001B[0m",
      "\u001B[0;31mRuntimeError\u001B[0m                              Traceback (most recent call last)",
      "File \u001B[0;32m~/Research/nonasymptotic-mp/nonasymptotic/util.py:62\u001B[0m, in \u001B[0;36mrandom_point_in_mpolygon\u001B[0;34m(mpolygon, rng, vis)\u001B[0m\n\u001B[1;32m     61\u001B[0m \u001B[38;5;28;01mtry\u001B[39;00m:\n\u001B[0;32m---> 62\u001B[0m     triangle_out \u001B[38;5;241m=\u001B[39m \u001B[43mtr\u001B[49m\u001B[38;5;241;43m.\u001B[39;49m\u001B[43mtriangulate\u001B[49m\u001B[43m(\u001B[49m\u001B[43mdata\u001B[49m\u001B[43m,\u001B[49m\u001B[43m \u001B[49m\u001B[38;5;124;43m'\u001B[39;49m\u001B[38;5;124;43mp\u001B[39;49m\u001B[38;5;124;43m'\u001B[39;49m\u001B[43m)\u001B[49m  \u001B[38;5;66;03m# so the boundaries are included in the triangulation\u001B[39;00m\n\u001B[1;32m     63\u001B[0m \u001B[38;5;28;01mexcept\u001B[39;00m \u001B[38;5;167;01mRuntimeError\u001B[39;00m \u001B[38;5;28;01mas\u001B[39;00m e:\n\u001B[1;32m     64\u001B[0m     \u001B[38;5;66;03m# fig, ax = plt.subplots()\u001B[39;00m\n\u001B[1;32m     65\u001B[0m     \u001B[38;5;66;03m# plot_polygon(mpolygon, ax=ax, color='blue')\u001B[39;00m\n\u001B[0;32m   (...)\u001B[0m\n\u001B[1;32m     74\u001B[0m \n\u001B[1;32m     75\u001B[0m     \u001B[38;5;66;03m# look at precision\u001B[39;00m\n",
      "File \u001B[0;32m~/Research/nonasymptotic-mp/venv/lib/python3.8/site-packages/triangle/tri.py:73\u001B[0m, in \u001B[0;36mtriangulate\u001B[0;34m(tri, opts)\u001B[0m\n\u001B[1;32m     72\u001B[0m tri \u001B[38;5;241m=\u001B[39m {translate_inv[_]: tri[_] \u001B[38;5;28;01mfor\u001B[39;00m _ \u001B[38;5;129;01min\u001B[39;00m tri}\n\u001B[0;32m---> 73\u001B[0m tri, _ \u001B[38;5;241m=\u001B[39m \u001B[43mtriang\u001B[49m\u001B[43m(\u001B[49m\u001B[43mtri\u001B[49m\u001B[43m,\u001B[49m\u001B[43m \u001B[49m\u001B[43mopts\u001B[49m\u001B[43m)\u001B[49m\n\u001B[1;32m     74\u001B[0m tri \u001B[38;5;241m=\u001B[39m {translate_frw[_]: tri[_] \u001B[38;5;28;01mfor\u001B[39;00m _ \u001B[38;5;129;01min\u001B[39;00m tri}\n",
      "File \u001B[0;32mtriangle/core.pyx:252\u001B[0m, in \u001B[0;36mtriangle.core.triang\u001B[0;34m()\u001B[0m\n",
      "\u001B[0;31mRuntimeError\u001B[0m: Triangulation failed -- probably because of invalid geometry on input.",
      "\nDuring handling of the above exception, another exception occurred:\n",
      "\u001B[0;31mRuntimeError\u001B[0m                              Traceback (most recent call last)",
      "Cell \u001B[0;32mIn[7], line 6\u001B[0m\n\u001B[1;32m      4\u001B[0m \u001B[38;5;28;01mfor\u001B[39;00m _ \u001B[38;5;129;01min\u001B[39;00m \u001B[38;5;28mrange\u001B[39m(\u001B[38;5;241m50\u001B[39m):\n\u001B[1;32m      5\u001B[0m     t_start \u001B[38;5;241m=\u001B[39m time\u001B[38;5;241m.\u001B[39mprocess_time()\n\u001B[0;32m----> 6\u001B[0m     \u001B[43mprm_env_2d\u001B[49m\u001B[38;5;241;43m.\u001B[39;49m\u001B[43mis_prm_epsilon_delta_complete\u001B[49m\u001B[43m(\u001B[49m\u001B[43mprm\u001B[49m\u001B[43m,\u001B[49m\u001B[43m \u001B[49m\u001B[38;5;241;43m0.50\u001B[39;49m\u001B[43m,\u001B[49m\u001B[43m \u001B[49m\u001B[43mn_samples_per_check\u001B[49m\u001B[38;5;241;43m=\u001B[39;49m\u001B[38;5;241;43m100\u001B[39;49m\u001B[43m,\u001B[49m\u001B[43m \u001B[49m\u001B[43mtimeout\u001B[49m\u001B[38;5;241;43m=\u001B[39;49m\u001B[38;5;241;43m60.0\u001B[39;49m\u001B[43m,\u001B[49m\u001B[43m \u001B[49m\u001B[43mtimeout_area_tol\u001B[49m\u001B[38;5;241;43m=\u001B[39;49m\u001B[38;5;241;43m1e-6\u001B[39;49m\u001B[43m,\u001B[49m\u001B[43m \u001B[49m\u001B[43mvis\u001B[49m\u001B[38;5;241;43m=\u001B[39;49m\u001B[38;5;28;43;01mFalse\u001B[39;49;00m\u001B[43m)\u001B[49m\n\u001B[1;32m      7\u001B[0m     t_end \u001B[38;5;241m=\u001B[39m time\u001B[38;5;241m.\u001B[39mprocess_time()\n\u001B[1;32m      8\u001B[0m     times\u001B[38;5;241m.\u001B[39mappend(t_end \u001B[38;5;241m-\u001B[39m t_start)\n",
      "File \u001B[0;32m~/Research/nonasymptotic-mp/nonasymptotic/envs.py:260\u001B[0m, in \u001B[0;36mStraightLine.is_prm_epsilon_delta_complete\u001B[0;34m(self, prm, tol, n_samples_per_check, timeout, timeout_area_tol, vis)\u001B[0m\n\u001B[1;32m    257\u001B[0m \u001B[38;5;28;01mif\u001B[39;00m \u001B[38;5;129;01mnot\u001B[39;00m vertex_heap:\n\u001B[1;32m    258\u001B[0m     \u001B[38;5;66;03m# sample a point query new solutions and add convex sets\u001B[39;00m\n\u001B[1;32m    259\u001B[0m     mp_left \u001B[38;5;241m=\u001B[39m difference(length_space_to_cover, cover_union)\n\u001B[0;32m--> 260\u001B[0m     sample_pt \u001B[38;5;241m=\u001B[39m \u001B[43mrandom_point_in_mpolygon\u001B[49m\u001B[43m(\u001B[49m\u001B[43mmp_left\u001B[49m\u001B[43m,\u001B[49m\u001B[43m \u001B[49m\u001B[43mrng\u001B[49m\u001B[38;5;241;43m=\u001B[39;49m\u001B[38;5;28;43mself\u001B[39;49m\u001B[38;5;241;43m.\u001B[39;49m\u001B[43mrng\u001B[49m\u001B[43m)\u001B[49m\n\u001B[1;32m    261\u001B[0m     length_space_sample \u001B[38;5;241m=\u001B[39m np\u001B[38;5;241m.\u001B[39marray(sample_pt\u001B[38;5;241m.\u001B[39mcoords)\u001B[38;5;241m.\u001B[39mflatten()\n\u001B[1;32m    263\u001B[0m     \u001B[38;5;28;01mif\u001B[39;00m vis:\n",
      "File \u001B[0;32m~/Research/nonasymptotic-mp/nonasymptotic/util.py:81\u001B[0m, in \u001B[0;36mrandom_point_in_mpolygon\u001B[0;34m(mpolygon, rng, vis)\u001B[0m\n\u001B[1;32m     78\u001B[0m     dists \u001B[38;5;241m=\u001B[39m np\u001B[38;5;241m.\u001B[39mlinalg\u001B[38;5;241m.\u001B[39mnorm(vert_segs[:, \u001B[38;5;241m0\u001B[39m] \u001B[38;5;241m-\u001B[39m vert_segs[:, \u001B[38;5;241m1\u001B[39m], axis\u001B[38;5;241m=\u001B[39m\u001B[38;5;241m1\u001B[39m)\n\u001B[1;32m     79\u001B[0m     \u001B[38;5;28mprint\u001B[39m(np\u001B[38;5;241m.\u001B[39mmin(dists))\n\u001B[0;32m---> 81\u001B[0m     \u001B[38;5;28;01mraise\u001B[39;00m \u001B[38;5;167;01mRuntimeError\u001B[39;00m(e)\n\u001B[1;32m     83\u001B[0m \u001B[38;5;66;03m# extract triangles (in terms of coordinates) using advanced indexing\u001B[39;00m\n\u001B[1;32m     84\u001B[0m \u001B[38;5;66;03m# dims: (N tries) X (3 points in tries) X (2D coords)\u001B[39;00m\n\u001B[1;32m     85\u001B[0m triangles \u001B[38;5;241m=\u001B[39m triangle_out[\u001B[38;5;124m'\u001B[39m\u001B[38;5;124mvertices\u001B[39m\u001B[38;5;124m'\u001B[39m][triangle_out[\u001B[38;5;124m'\u001B[39m\u001B[38;5;124mtriangles\u001B[39m\u001B[38;5;124m'\u001B[39m]]\n",
      "\u001B[0;31mRuntimeError\u001B[0m: Triangulation failed -- probably because of invalid geometry on input."
     ]
    }
   ],
   "source": [
    "import time\n",
    "\n",
    "times = []\n",
    "for _ in range(50):\n",
    "    t_start = time.process_time()\n",
    "    prm_env_2d.is_prm_epsilon_delta_complete(prm, 0.50, n_samples_per_check=100, timeout=60.0, timeout_area_tol=1e-6, vis=False)\n",
    "    t_end = time.process_time()\n",
    "    times.append(t_end - t_start)\n",
    "    \n",
    "print('mean: %f, std: %f' % (np.mean(times), np.std(times)))"
   ],
   "metadata": {
    "collapsed": false,
    "ExecuteTime": {
     "end_time": "2024-01-26T05:07:32.103250517Z",
     "start_time": "2024-01-26T05:07:23.308483209Z"
    }
   },
   "id": "7db9ea99edcd953e"
  },
  {
   "cell_type": "markdown",
   "source": [],
   "metadata": {
    "collapsed": false
   },
   "id": "24443a2d5e71e991"
  },
  {
   "cell_type": "code",
   "outputs": [],
   "source": [
    "import triangle as tr\n",
    "import numpy as np\n",
    "data = np.load('bad_triangulate.npz')\n",
    "tri_out = tr.triangulate(data, 'p')"
   ],
   "metadata": {
    "collapsed": false,
    "ExecuteTime": {
     "end_time": "2024-01-26T04:53:21.318436502Z",
     "start_time": "2024-01-26T04:53:21.318028174Z"
    }
   },
   "id": "ed0f02c4a018241c",
   "execution_count": null
  }
 ],
 "metadata": {
  "kernelspec": {
   "display_name": "Python 3",
   "language": "python",
   "name": "python3"
  },
  "language_info": {
   "codemirror_mode": {
    "name": "ipython",
    "version": 2
   },
   "file_extension": ".py",
   "mimetype": "text/x-python",
   "name": "python",
   "nbconvert_exporter": "python",
   "pygments_lexer": "ipython2",
   "version": "2.7.6"
  }
 },
 "nbformat": 4,
 "nbformat_minor": 5
}
