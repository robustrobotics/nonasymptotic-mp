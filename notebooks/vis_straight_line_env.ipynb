{
 "cells": [
  {
   "cell_type": "code",
   "id": "initial_id",
   "metadata": {
    "ExecuteTime": {
     "end_time": "2024-04-25T04:42:35.754556Z",
     "start_time": "2024-04-25T04:42:32.094100Z"
    }
   },
   "source": [
    "from nonasymptotic.envs import StraightLine\n",
    "from nonasymptotic.prm import SimpleRadiusPRM, SimpleNearestNeighborRadiusPRM\n",
    "\n",
    "import numpy as np\n",
    "import matplotlib.pyplot as plt"
   ],
   "execution_count": 2,
   "outputs": []
  },
  {
   "cell_type": "code",
   "id": "a451572cb2a8ac5",
   "metadata": {
    "ExecuteTime": {
     "end_time": "2024-04-25T04:44:24.838242Z",
     "start_time": "2024-04-25T04:44:15.118606Z"
    }
   },
   "source": [
    "seed = 1\n",
    "prm_env_2d = StraightLine(dim=2, delta_clearance=0.5, seed=seed)\n",
    "# prm = SimpleRadiusPRM(0.1, prm_env_2d.is_motion_valid, prm_env_2d.sample_from_env, prm_env_2d.distance_to_path, seed=seed,\n",
    "#                 verbose=True)\n",
    "prm = SimpleNearestNeighborRadiusPRM(2, \n",
    "                                     prm_env_2d.is_motion_valid, \n",
    "                                     prm_env_2d.sample_from_env, \n",
    "                                     prm_env_2d.distance_to_path, seed=seed, verbose=True)\n",
    "prm.grow_to_n_samples(1000)\n",
    "\n",
    "plt.figure()\n",
    "for u, v in prm.prm_graph.iterEdges():\n",
    "    coords_u = prm.prm_samples[u]\n",
    "    coords_v = prm.prm_samples[v]\n",
    "\n",
    "    plt.plot([coords_u[0], coords_v[0]], [coords_u[1], coords_v[1]], 'ro-')\n",
    "\n",
    "plt.show()\n",
    "\n",
    "# some other computations to help other visual tests later on:\n",
    "print('N nodes: %i' % prm.num_vertices())\n",
    "print('N edges: %i' % prm.num_edges())\n"
   ],
   "execution_count": 4,
   "outputs": []
  },
  {
   "cell_type": "code",
   "id": "342b2877cf3c8b2c",
   "metadata": {
    "ExecuteTime": {
     "end_time": "2024-04-25T04:52:04.742285Z",
     "start_time": "2024-04-25T04:51:51.692687Z"
    }
   },
   "source": [
    "start = np.array([0.2, 0.00])\n",
    "goal = np.array([0.5, 0.0])\n",
    "pair_coords, _, pair_ids = prm.query_all_graph_connections(start, goal)\n",
    "\n",
    "plt.figure()\n",
    "for u, v in prm.prm_graph.iterEdges():\n",
    "    coords_u = prm.prm_samples[u]\n",
    "    coords_v = prm.prm_samples[v]\n",
    "\n",
    "    plt.plot([coords_u[0], coords_v[0]], [coords_u[1], coords_v[1]], 'ro-', zorder=0)\n",
    "\n",
    "for u, v in pair_coords:\n",
    "    plt.plot([u[0], v[0]], [u[1], v[1]], color='blue', zorder=1)\n",
    "    \n",
    "plt.scatter([start[0], goal[0]], [start[1], goal[1]], color='green', zorder=2)\n",
    "    \n",
    "\n",
    "plt.show()\n"
   ],
   "execution_count": 10,
   "outputs": []
  },
  {
   "cell_type": "code",
   "id": "8681d45b94f0072e",
   "metadata": {
    "ExecuteTime": {
     "end_time": "2024-04-25T04:47:48.126636Z",
     "start_time": "2024-04-25T04:47:38.350324Z"
    }
   },
   "source": [
    "start = np.array([0.0, 0.0])\n",
    "goal = np.array([1.0, 0.0])\n",
    "d, path = prm.query_best_solution(start, goal)\n",
    "\n",
    "plt.figure()\n",
    "for u, v in prm.prm_graph.iterEdges():\n",
    "    coords_u = prm.prm_samples[u]\n",
    "    coords_v = prm.prm_samples[v]\n",
    "\n",
    "    plt.plot([coords_u[0], coords_v[0]], [coords_u[1], coords_v[1]], 'ro-')\n",
    "\n",
    "for i in range(len(path) - 1):\n",
    "    u, v = path[i], path[i+1]\n",
    "    plt.plot([u[0], v[0]], [u[1], v[1]], 'bo-')\n",
    "\n",
    "plt.plot([start[0], path[0, 0]], [start[1], path[0, 1]], 'bo-')\n",
    "plt.plot([goal[0], path[-1, 0]], [goal[1], path[-1, 1]], 'bo-')\n",
    "\n",
    "plt.show()\n"
   ],
   "execution_count": 8,
   "outputs": []
  },
  {
   "cell_type": "code",
   "execution_count": 6,
   "id": "7db9ea99edcd953e",
   "metadata": {
    "ExecuteTime": {
     "end_time": "2024-02-20T19:21:50.223189811Z",
     "start_time": "2024-02-20T19:21:45.271257913Z"
    }
   },
   "source": [
    "import time\n",
    "\n",
    "times = []\n",
    "for _ in range(10):\n",
    "    t_start = time.process_time()\n",
    "    prm_env_2d.is_prm_epsilon_delta_complete(prm, 0.15, n_samples_per_check=100, timeout=60.0, area_tol=1e-6, vis=False)\n",
    "    t_end = time.process_time()\n",
    "    times.append(t_end - t_start)\n",
    "    \n",
    "print('mean: %f, std: %f' % (np.mean(times), np.std(times)))"
   ],
   "outputs": []
  },
  {
   "cell_type": "code",
   "execution_count": 10,
   "id": "3ea26d8804a654a",
   "metadata": {
    "ExecuteTime": {
     "end_time": "2024-02-20T19:26:32.584013812Z",
     "start_time": "2024-02-20T19:26:32.538631847Z"
    }
   },
   "source": [
    "prm.query_best_solution(np.array([0.49324, 0.0]), np.array([0.60943, 0.0]))[0] + 1.15 * (0.49324 - 0.60943)"
   ],
   "outputs": []
  },
  {
   "cell_type": "code",
   "execution_count": 12,
   "id": "ab03c0c7681c8561",
   "metadata": {
    "ExecuteTime": {
     "end_time": "2024-02-20T19:32:48.842097968Z",
     "start_time": "2024-02-20T19:32:48.780503528Z"
    },
    "collapsed": false
   },
   "source": [
    "if isinstance(prm, SimpleNearestNeighborRadiusPRM):\n",
    "    prm.reset()"
   ],
   "outputs": []
  }
 ],
 "metadata": {
  "kernelspec": {
   "display_name": "Python 3 (ipykernel)",
   "language": "python",
   "name": "python3"
  },
  "language_info": {
   "codemirror_mode": {
    "name": "ipython",
    "version": 3
   },
   "file_extension": ".py",
   "mimetype": "text/x-python",
   "name": "python",
   "nbconvert_exporter": "python",
   "pygments_lexer": "ipython3",
   "version": "3.10.13"
  }
 },
 "nbformat": 4,
 "nbformat_minor": 5
}
