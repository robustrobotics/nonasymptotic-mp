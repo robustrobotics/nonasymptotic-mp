{
 "cells": [
  {
   "cell_type": "code",
   "execution_count": 1,
   "id": "initial_id",
   "metadata": {
    "collapsed": true,
    "ExecuteTime": {
     "end_time": "2024-01-16T16:36:53.280356333Z",
     "start_time": "2024-01-16T16:36:49.817931140Z"
    }
   },
   "outputs": [
    {
     "data": {
      "text/html": "\n\t\t\t<script type=\"text/javascript\">\n\t\t\t<!--\n\t\t\t\t\n\t\t\t{\n\t\t\t\tvar element = document.getElementById('NetworKit_script');\n\t\t\t\tif (element) {\n\t\t\t\t\telement.parentNode.removeChild(element);\n\t\t\t\t}\n\t\t\t\telement = document.createElement('script');\n\t\t\t\telement.type = 'text/javascript';\n\t\t\t\telement.innerHTML = 'function NetworKit_pageEmbed(id) { var i, j; var elements; elements = document.getElementById(id).getElementsByClassName(\"Plot\"); for (i=0; i<elements.length; i++) { elements[i].id = id + \"_Plot_\" + i; var data = elements[i].getAttribute(\"data-image\").split(\"|\"); elements[i].removeAttribute(\"data-image\"); var content = \"<div class=\\\\\"Image\\\\\" id=\\\\\"\" + elements[i].id + \"_Image\\\\\" />\"; elements[i].innerHTML = content; elements[i].setAttribute(\"data-image-index\", 0); elements[i].setAttribute(\"data-image-length\", data.length); for (j=0; j<data.length; j++) { elements[i].setAttribute(\"data-image-\" + j, data[j]); } NetworKit_plotUpdate(elements[i]); elements[i].onclick = function (e) { NetworKit_overlayShow((e.target) ? e.target : e.srcElement); } } elements = document.getElementById(id).getElementsByClassName(\"HeatCell\"); for (i=0; i<elements.length; i++) { var data = parseFloat(elements[i].getAttribute(\"data-heat\")); var color = \"#00FF00\"; if (data <= 1 && data > 0) { color = \"hsla(0, 100%, 75%, \" + (data) + \")\"; } else if (data <= 0 && data >= -1) { color = \"hsla(240, 100%, 75%, \" + (-data) + \")\"; } elements[i].style.backgroundColor = color; } elements = document.getElementById(id).getElementsByClassName(\"Details\"); for (i=0; i<elements.length; i++) { elements[i].setAttribute(\"data-title\", \"-\"); NetworKit_toggleDetails(elements[i]); elements[i].onclick = function (e) { NetworKit_toggleDetails((e.target) ? e.target : e.srcElement); } } elements = document.getElementById(id).getElementsByClassName(\"MathValue\"); for (i=elements.length-1; i>=0; i--) { value = elements[i].innerHTML.trim(); if (value === \"nan\") { elements[i].parentNode.innerHTML = \"\" } } elements = document.getElementById(id).getElementsByClassName(\"SubCategory\"); for (i=elements.length-1; i>=0; i--) { value = elements[i].innerHTML.trim(); if (value === \"\") { elements[i].parentNode.removeChild(elements[i]) } } elements = document.getElementById(id).getElementsByClassName(\"Category\"); for (i=elements.length-1; i>=0; i--) { value = elements[i].innerHTML.trim(); if (value === \"\") { elements[i].parentNode.removeChild(elements[i]) } } var isFirefox = false; try { isFirefox = typeof InstallTrigger !== \"undefined\"; } catch (e) {} if (!isFirefox) { alert(\"Currently the function\\'s output is only fully supported by Firefox.\"); } } function NetworKit_plotUpdate(source) { var index = source.getAttribute(\"data-image-index\"); var data = source.getAttribute(\"data-image-\" + index); var image = document.getElementById(source.id + \"_Image\"); image.style.backgroundImage = \"url(\" + data + \")\"; } function NetworKit_showElement(id, show) { var element = document.getElementById(id); element.style.display = (show) ? \"block\" : \"none\"; } function NetworKit_overlayShow(source) { NetworKit_overlayUpdate(source); NetworKit_showElement(\"NetworKit_Overlay\", true); } function NetworKit_overlayUpdate(source) { document.getElementById(\"NetworKit_Overlay_Title\").innerHTML = source.title; var index = source.getAttribute(\"data-image-index\"); var data = source.getAttribute(\"data-image-\" + index); var image = document.getElementById(\"NetworKit_Overlay_Image\"); image.setAttribute(\"data-id\", source.id); image.style.backgroundImage = \"url(\" + data + \")\"; var link = document.getElementById(\"NetworKit_Overlay_Toolbar_Bottom_Save\"); link.href = data; link.download = source.title + \".svg\"; } function NetworKit_overlayImageShift(delta) { var image = document.getElementById(\"NetworKit_Overlay_Image\"); var source = document.getElementById(image.getAttribute(\"data-id\")); var index = parseInt(source.getAttribute(\"data-image-index\")); var length = parseInt(source.getAttribute(\"data-image-length\")); var index = (index+delta) % length; if (index < 0) { index = length + index; } source.setAttribute(\"data-image-index\", index); NetworKit_overlayUpdate(source); } function NetworKit_toggleDetails(source) { var childs = source.children; var show = false; if (source.getAttribute(\"data-title\") == \"-\") { source.setAttribute(\"data-title\", \"+\"); show = false; } else { source.setAttribute(\"data-title\", \"-\"); show = true; } for (i=0; i<childs.length; i++) { if (show) { childs[i].style.display = \"block\"; } else { childs[i].style.display = \"none\"; } } }';\n\t\t\t\telement.setAttribute('id', 'NetworKit_script');\n\t\t\t\tdocument.head.appendChild(element);\n\t\t\t}\n\t\t\n\t\t\t\t\n\t\t\t{\n\t\t\t\tvar element = document.getElementById('NetworKit_style');\n\t\t\t\tif (element) {\n\t\t\t\t\telement.parentNode.removeChild(element);\n\t\t\t\t}\n\t\t\t\telement = document.createElement('style');\n\t\t\t\telement.type = 'text/css';\n\t\t\t\telement.innerHTML = '.NetworKit_Page { font-family: Arial, Helvetica, sans-serif; font-size: 14px; } .NetworKit_Page .Value:before { font-family: Arial, Helvetica, sans-serif; font-size: 1.05em; content: attr(data-title) \":\"; margin-left: -2.5em; padding-right: 0.5em; } .NetworKit_Page .Details .Value:before { display: block; } .NetworKit_Page .Value { font-family: monospace; white-space: pre; padding-left: 2.5em; white-space: -moz-pre-wrap !important; white-space: -pre-wrap; white-space: -o-pre-wrap; white-space: pre-wrap; word-wrap: break-word; tab-size: 4; -moz-tab-size: 4; } .NetworKit_Page .Category { clear: both; padding-left: 1em; margin-bottom: 1.5em; } .NetworKit_Page .Category:before { content: attr(data-title); font-size: 1.75em; display: block; margin-left: -0.8em; margin-bottom: 0.5em; } .NetworKit_Page .SubCategory { margin-bottom: 1.5em; padding-left: 1em; } .NetworKit_Page .SubCategory:before { font-size: 1.6em; display: block; margin-left: -0.8em; margin-bottom: 0.5em; } .NetworKit_Page .SubCategory[data-title]:before { content: attr(data-title); } .NetworKit_Page .Block { display: block; } .NetworKit_Page .Block:after { content: \".\"; visibility: hidden; display: block; height: 0; clear: both; } .NetworKit_Page .Block .Thumbnail_Overview, .NetworKit_Page .Block .Thumbnail_ScatterPlot { width: 260px; float: left; } .NetworKit_Page .Block .Thumbnail_Overview img, .NetworKit_Page .Block .Thumbnail_ScatterPlot img { width: 260px; } .NetworKit_Page .Block .Thumbnail_Overview:before, .NetworKit_Page .Block .Thumbnail_ScatterPlot:before { display: block; text-align: center; font-weight: bold; } .NetworKit_Page .Block .Thumbnail_Overview:before { content: attr(data-title); } .NetworKit_Page .HeatCell { font-family: \"Courier New\", Courier, monospace; cursor: pointer; } .NetworKit_Page .HeatCell, .NetworKit_Page .HeatCellName { display: inline; padding: 0.1em; margin-right: 2px; background-color: #FFFFFF } .NetworKit_Page .HeatCellName { margin-left: 0.25em; } .NetworKit_Page .HeatCell:before { content: attr(data-heat); display: inline-block; color: #000000; width: 4em; text-align: center; } .NetworKit_Page .Measure { clear: both; } .NetworKit_Page .Measure .Details { cursor: pointer; } .NetworKit_Page .Measure .Details:before { content: \"[\" attr(data-title) \"]\"; display: block; } .NetworKit_Page .Measure .Details .Value { border-left: 1px dotted black; margin-left: 0.4em; padding-left: 3.5em; pointer-events: none; } .NetworKit_Page .Measure .Details .Spacer:before { content: \".\"; opacity: 0.0; pointer-events: none; } .NetworKit_Page .Measure .Plot { width: 440px; height: 440px; cursor: pointer; float: left; margin-left: -0.9em; margin-right: 20px; } .NetworKit_Page .Measure .Plot .Image { background-repeat: no-repeat; background-position: center center; background-size: contain; height: 100%; pointer-events: none; } .NetworKit_Page .Measure .Stat { width: 500px; float: left; } .NetworKit_Page .Measure .Stat .Group { padding-left: 1.25em; margin-bottom: 0.75em; } .NetworKit_Page .Measure .Stat .Group .Title { font-size: 1.1em; display: block; margin-bottom: 0.3em; margin-left: -0.75em; border-right-style: dotted; border-right-width: 1px; border-bottom-style: dotted; border-bottom-width: 1px; background-color: #D0D0D0; padding-left: 0.2em; } .NetworKit_Page .Measure .Stat .Group .List { -webkit-column-count: 3; -moz-column-count: 3; column-count: 3; } .NetworKit_Page .Measure .Stat .Group .List .Entry { position: relative; line-height: 1.75em; } .NetworKit_Page .Measure .Stat .Group .List .Entry[data-tooltip]:before { position: absolute; left: 0; top: -40px; background-color: #808080; color: #ffffff; height: 30px; line-height: 30px; border-radius: 5px; padding: 0 15px; content: attr(data-tooltip); white-space: nowrap; display: none; } .NetworKit_Page .Measure .Stat .Group .List .Entry[data-tooltip]:after { position: absolute; left: 15px; top: -10px; border-top: 7px solid #808080; border-left: 7px solid transparent; border-right: 7px solid transparent; content: \"\"; display: none; } .NetworKit_Page .Measure .Stat .Group .List .Entry[data-tooltip]:hover:after, .NetworKit_Page .Measure .Stat .Group .List .Entry[data-tooltip]:hover:before { display: block; } .NetworKit_Page .Measure .Stat .Group .List .Entry .MathValue { font-family: \"Courier New\", Courier, monospace; } .NetworKit_Page .Measure:after { content: \".\"; visibility: hidden; display: block; height: 0; clear: both; } .NetworKit_Page .PartitionPie { clear: both; } .NetworKit_Page .PartitionPie img { width: 600px; } #NetworKit_Overlay { left: 0px; top: 0px; display: none; position: absolute; width: 100%; height: 100%; background-color: rgba(0,0,0,0.6); z-index: 1000; } #NetworKit_Overlay_Title { position: absolute; color: white; transform: rotate(-90deg); width: 32em; height: 32em; padding-right: 0.5em; padding-top: 0.5em; text-align: right; font-size: 40px; } #NetworKit_Overlay .button { background: white; cursor: pointer; } #NetworKit_Overlay .button:before { size: 13px; display: inline-block; text-align: center; margin-top: 0.5em; margin-bottom: 0.5em; width: 1.5em; height: 1.5em; } #NetworKit_Overlay .icon-close:before { content: \"X\"; } #NetworKit_Overlay .icon-previous:before { content: \"P\"; } #NetworKit_Overlay .icon-next:before { content: \"N\"; } #NetworKit_Overlay .icon-save:before { content: \"S\"; } #NetworKit_Overlay_Toolbar_Top, #NetworKit_Overlay_Toolbar_Bottom { position: absolute; width: 40px; right: 13px; text-align: right; z-index: 1100; } #NetworKit_Overlay_Toolbar_Top { top: 0.5em; } #NetworKit_Overlay_Toolbar_Bottom { Bottom: 0.5em; } #NetworKit_Overlay_ImageContainer { position: absolute; top: 5%; left: 5%; height: 90%; width: 90%; background-repeat: no-repeat; background-position: center center; background-size: contain; } #NetworKit_Overlay_Image { height: 100%; width: 100%; background-repeat: no-repeat; background-position: center center; background-size: contain; }';\n\t\t\t\telement.setAttribute('id', 'NetworKit_style');\n\t\t\t\tdocument.head.appendChild(element);\n\t\t\t}\n\t\t\n\t\t\t\t\n\t\t\t{\n\t\t\t\tvar element = document.getElementById('NetworKit_Overlay');\n\t\t\t\tif (element) {\n\t\t\t\t\telement.parentNode.removeChild(element);\n\t\t\t\t}\n\t\t\t\telement = document.createElement('div');\n\t\t\t\telement.innerHTML = '<div id=\"NetworKit_Overlay_Toolbar_Top\"><div class=\"button icon-close\" id=\"NetworKit_Overlay_Close\" /></div><div id=\"NetworKit_Overlay_Title\" /> <div id=\"NetworKit_Overlay_ImageContainer\"> <div id=\"NetworKit_Overlay_Image\" /> </div> <div id=\"NetworKit_Overlay_Toolbar_Bottom\"> <div class=\"button icon-previous\" onclick=\"NetworKit_overlayImageShift(-1)\" /> <div class=\"button icon-next\" onclick=\"NetworKit_overlayImageShift(1)\" /> <a id=\"NetworKit_Overlay_Toolbar_Bottom_Save\"><div class=\"button icon-save\" /></a> </div>';\n\t\t\t\telement.setAttribute('id', 'NetworKit_Overlay');\n\t\t\t\tdocument.body.appendChild(element);\n\t\t\t\tdocument.getElementById('NetworKit_Overlay_Close').onclick = function (e) {\n\t\t\t\t\tdocument.getElementById('NetworKit_Overlay').style.display = 'none';\n\t\t\t\t}\n\t\t\t}\n\t\t\n\t\t\t-->\n\t\t\t</script>\n\t\t"
     },
     "metadata": {},
     "output_type": "display_data"
    }
   ],
   "source": [
    "from nonasymptotic.envs import StraightLine\n",
    "from nonasymptotic.prm import SimplePRM\n",
    "\n",
    "import matplotlib.pyplot as plt\n",
    "import numpy as np"
   ]
  },
  {
   "cell_type": "code",
   "execution_count": 2,
   "outputs": [
    {
     "name": "stdout",
     "output_type": "stream",
     "text": [
      "N Components: 1\n",
      "N nodes: 10000\n",
      "N edges: 744710\n"
     ]
    }
   ],
   "source": [
    "seed = 1\n",
    "prm_env_2d = StraightLine(dim=2, delta_clearance=0.5, seed=seed)\n",
    "prm = SimplePRM(0.10, prm_env_2d.is_motion_valid, prm_env_2d.sample_from_env, prm_env_2d.distance_to_path, seed=seed)\n",
    "prm.grow_to_n_samples(10000)\n",
    "\n",
    "# plt.figure()\n",
    "# for u, v in prm.g_prm.iterEdges():\n",
    "#     coords_u = prm.samples[u]\n",
    "#     coords_v = prm.samples[v]\n",
    "# \n",
    "#     plt.plot([coords_u[0], coords_v[0]], [coords_u[1], coords_v[1]], 'ro-')\n",
    "# \n",
    "# plt.show()\n",
    "\n",
    "# some other computations to help other visual tests later on:\n",
    "print('N Components: %i' % len(prm.g_cc.getComponents()))\n",
    "print('N nodes: %i' % prm.num_vertices())\n",
    "print('N edges: %i' % prm.num_edges())\n"
   ],
   "metadata": {
    "collapsed": false,
    "ExecuteTime": {
     "end_time": "2024-01-16T16:37:28.956577217Z",
     "start_time": "2024-01-16T16:36:53.278893876Z"
    }
   },
   "id": "a451572cb2a8ac5"
  },
  {
   "cell_type": "code",
   "execution_count": 3,
   "outputs": [
    {
     "name": "stdout",
     "output_type": "stream",
     "text": [
      "N nodes: 10000\n",
      "N edges: 744710\n"
     ]
    }
   ],
   "source": [
    "# do some connection queries with some existing points\n",
    "s = np.array([0., 0.])\n",
    "g = np.array([1., 0.])\n",
    "\n",
    "sol_dist, sol_path = prm.query_best_solution(s, g)\n",
    "sol_path = np.concatenate([[s], sol_path, [g]])\n",
    "\n",
    "# plt.figure()\n",
    "# \n",
    "# # plot the existing prm\n",
    "# for u, v in prm.g_prm.iterEdges():\n",
    "#     coords_u = prm.samples[u]\n",
    "#     coords_v = prm.samples[v]\n",
    "# \n",
    "#     plt.plot([coords_u[0], coords_v[0]], [coords_u[1], coords_v[1]], 'ro-')\n",
    "# \n",
    "# for i in range(sol_path.shape[0] - 1):\n",
    "#     u = sol_path[i]\n",
    "#     v = sol_path[i + 1]\n",
    "#     plt.plot([u[0], v[0]], [u[1], v[1]], 'bo-')\n",
    "# \n",
    "# plt.plot()\n",
    "print('N nodes: %i' % prm.num_vertices())\n",
    "print('N edges: %i' % prm.num_edges())\n"
   ],
   "metadata": {
    "collapsed": false,
    "ExecuteTime": {
     "end_time": "2024-01-16T16:37:38.517446518Z",
     "start_time": "2024-01-16T16:37:28.938037239Z"
    }
   },
   "id": "62264bcd928ebca0"
  },
  {
   "cell_type": "code",
   "execution_count": 4,
   "outputs": [],
   "source": [
    "pairs, _, _ = prm.query_all_graph_connections(s, g)\n",
    "# plt.figure()\n",
    "\n",
    "# plot the existing prm\n",
    "# for u, v in prm.g_prm.iterEdges():\n",
    "#     coords_u = prm.samples[u]\n",
    "#     coords_v = prm.samples[v]\n",
    "# \n",
    "#     plt.plot([coords_u[0], coords_v[0]], [coords_u[1], coords_v[1]], 'ro-')\n",
    "# \n",
    "# for u, v in pairs:\n",
    "#     plt.plot([u[0], v[0]], [u[1], v[1]], 'bo-')\n",
    "# \n",
    "# plt.show()\n"
   ],
   "metadata": {
    "collapsed": false,
    "ExecuteTime": {
     "end_time": "2024-01-16T16:37:38.561583553Z",
     "start_time": "2024-01-16T16:37:38.519379579Z"
    }
   },
   "id": "47339704f2da6257"
  },
  {
   "cell_type": "code",
   "execution_count": 5,
   "outputs": [
    {
     "name": "stdout",
     "output_type": "stream",
     "text": [
      "full cover!\n",
      "38.235031692999996\n"
     ]
    }
   ],
   "source": [
    "import time\n",
    "t_start = time.process_time()\n",
    "prm_env_2d.is_prm_epsilon_delta_complete(prm, 0.75, n_samples_per_check=500, timeout=30.0, vis=True)\n",
    "t_end = time.process_time()\n",
    "print(t_end - t_start)"
   ],
   "metadata": {
    "collapsed": false,
    "ExecuteTime": {
     "end_time": "2024-01-16T16:38:16.766710370Z",
     "start_time": "2024-01-16T16:37:38.561702876Z"
    }
   },
   "id": "7db9ea99edcd953e"
  },
  {
   "cell_type": "markdown",
   "source": [],
   "metadata": {
    "collapsed": false
   },
   "id": "24443a2d5e71e991"
  },
  {
   "cell_type": "code",
   "outputs": [],
   "source": [
    "start = np.array([0.00506189, 0.0])\n",
    "goal = np.array([0.10611559, 0.0])\n",
    "\n",
    "dist, path = prm.query_best_solution(start, goal)\n",
    "print(dist - (1 + 0.5) * (goal[0] - start[0]))\n",
    "\n",
    "print(np.linalg.norm(path[0] - path[1]))\n",
    "sol_pts, sol_dists = prm.query_all_graph_connections(start, goal)\n",
    "is_best_pair = np.all(np.equal(sol_pts, np.array([path[0], path[1]])), axis = (1, 2))\n",
    "print(sol_dists[is_best_pair] - np.linalg.norm(path[0] - path[1]))\n",
    "\n",
    "start_norms = np.linalg.norm(prm.samples - start, axis = 1)\n",
    "start_selector = start_norms <= 0.1\n",
    "all_neighbors_start = np.arange(1000)[start_selector]\n",
    "start_sort = np.argsort(start_norms[start_selector])\n",
    "\n",
    "goal_norms = np.linalg.norm(prm.samples - goal, axis=-1)\n",
    "goal_selector = goal_norms <= 0.1\n",
    "all_neighbors_goal = np.arange(1000)[goal_selector]\n",
    "goal_sort = np.argsort(goal_norms[goal_selector])\n"
   ],
   "metadata": {
    "collapsed": false,
    "ExecuteTime": {
     "start_time": "2024-01-15T15:25:10.369514422Z"
    }
   },
   "id": "6b3d1738c64f4d5b",
   "execution_count": null
  },
  {
   "cell_type": "code",
   "outputs": [],
   "source": [
    "print(prm.nn_index.query([start], k=15)[0][0])\n",
    "print(all_neighbors_start[start_sort])\n",
    "print(prm.nn_index.query([start], k=15)[1][0])\n",
    "print(np.sort(start_norms[start_selector]))\n",
    "\n",
    "\n",
    "print(prm.nn_index.query([goal], k=19)[0][0])\n",
    "print(all_neighbors_goal[goal_sort])\n",
    "print(prm.nn_index.query([goal], k=19)[1][0])\n",
    "print(np.sort(goal_norms[goal_selector]))"
   ],
   "metadata": {
    "collapsed": false,
    "ExecuteTime": {
     "start_time": "2024-01-15T15:25:10.369657281Z"
    }
   },
   "id": "1337d4054063b0",
   "execution_count": null
  },
  {
   "cell_type": "code",
   "outputs": [
    {
     "data": {
      "text/plain": "<Figure size 640x480 with 1 Axes>",
      "image/png": "[encoded data removed]"
     },
     "metadata": {},
     "output_type": "display_data"
    }
   ],
   "source": [
    "# volume sphere generator\n",
    "def compute_vol_to_nd(rad, d):\n",
    "    res = np.zeros(d + 1)\n",
    "    res[0] = 1\n",
    "    res[1] = 2 * rad\n",
    "    \n",
    "    for i in range(2, d + 1):\n",
    "        res[i] = 2 * np.pi / (i + 1) * res[i - 2]\n",
    "        \n",
    "    return res[1:]\n",
    "\n",
    "\n",
    "vols = compute_vol_to_nd(0.25, 16)\n",
    "plt.figure()\n",
    "plt.plot(range(1, 17), vols)\n",
    "plt.show()\n",
    "    "
   ],
   "metadata": {
    "collapsed": false,
    "ExecuteTime": {
     "end_time": "2024-01-15T17:58:06.954520864Z",
     "start_time": "2024-01-15T17:58:06.113197588Z"
    }
   },
   "id": "e857b7aa0abaaf4d",
   "execution_count": 13
  }
 ],
 "metadata": {
  "kernelspec": {
   "display_name": "Python 3",
   "language": "python",
   "name": "python3"
  },
  "language_info": {
   "codemirror_mode": {
    "name": "ipython",
    "version": 2
   },
   "file_extension": ".py",
   "mimetype": "text/x-python",
   "name": "python",
   "nbconvert_exporter": "python",
   "pygments_lexer": "ipython2",
   "version": "2.7.6"
  }
 },
 "nbformat": 4,
 "nbformat_minor": 5
}
