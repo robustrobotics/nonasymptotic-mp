{
 "cells": [
  {
   "cell_type": "code",
   "execution_count": 1,
   "id": "initial_id",
   "metadata": {
    "collapsed": true,
    "ExecuteTime": {
     "end_time": "2024-01-19T18:35:27.198684343Z",
     "start_time": "2024-01-19T18:35:23.842738583Z"
    }
   },
   "outputs": [
    {
     "data": {
      "text/html": "\n\t\t\t<script type=\"text/javascript\">\n\t\t\t<!--\n\t\t\t\t\n\t\t\t{\n\t\t\t\tvar element = document.getElementById('NetworKit_script');\n\t\t\t\tif (element) {\n\t\t\t\t\telement.parentNode.removeChild(element);\n\t\t\t\t}\n\t\t\t\telement = document.createElement('script');\n\t\t\t\telement.type = 'text/javascript';\n\t\t\t\telement.innerHTML = 'function NetworKit_pageEmbed(id) { var i, j; var elements; elements = document.getElementById(id).getElementsByClassName(\"Plot\"); for (i=0; i<elements.length; i++) { elements[i].id = id + \"_Plot_\" + i; var data = elements[i].getAttribute(\"data-image\").split(\"|\"); elements[i].removeAttribute(\"data-image\"); var content = \"<div class=\\\\\"Image\\\\\" id=\\\\\"\" + elements[i].id + \"_Image\\\\\" />\"; elements[i].innerHTML = content; elements[i].setAttribute(\"data-image-index\", 0); elements[i].setAttribute(\"data-image-length\", data.length); for (j=0; j<data.length; j++) { elements[i].setAttribute(\"data-image-\" + j, data[j]); } NetworKit_plotUpdate(elements[i]); elements[i].onclick = function (e) { NetworKit_overlayShow((e.target) ? e.target : e.srcElement); } } elements = document.getElementById(id).getElementsByClassName(\"HeatCell\"); for (i=0; i<elements.length; i++) { var data = parseFloat(elements[i].getAttribute(\"data-heat\")); var color = \"#00FF00\"; if (data <= 1 && data > 0) { color = \"hsla(0, 100%, 75%, \" + (data) + \")\"; } else if (data <= 0 && data >= -1) { color = \"hsla(240, 100%, 75%, \" + (-data) + \")\"; } elements[i].style.backgroundColor = color; } elements = document.getElementById(id).getElementsByClassName(\"Details\"); for (i=0; i<elements.length; i++) { elements[i].setAttribute(\"data-title\", \"-\"); NetworKit_toggleDetails(elements[i]); elements[i].onclick = function (e) { NetworKit_toggleDetails((e.target) ? e.target : e.srcElement); } } elements = document.getElementById(id).getElementsByClassName(\"MathValue\"); for (i=elements.length-1; i>=0; i--) { value = elements[i].innerHTML.trim(); if (value === \"nan\") { elements[i].parentNode.innerHTML = \"\" } } elements = document.getElementById(id).getElementsByClassName(\"SubCategory\"); for (i=elements.length-1; i>=0; i--) { value = elements[i].innerHTML.trim(); if (value === \"\") { elements[i].parentNode.removeChild(elements[i]) } } elements = document.getElementById(id).getElementsByClassName(\"Category\"); for (i=elements.length-1; i>=0; i--) { value = elements[i].innerHTML.trim(); if (value === \"\") { elements[i].parentNode.removeChild(elements[i]) } } var isFirefox = false; try { isFirefox = typeof InstallTrigger !== \"undefined\"; } catch (e) {} if (!isFirefox) { alert(\"Currently the function\\'s output is only fully supported by Firefox.\"); } } function NetworKit_plotUpdate(source) { var index = source.getAttribute(\"data-image-index\"); var data = source.getAttribute(\"data-image-\" + index); var image = document.getElementById(source.id + \"_Image\"); image.style.backgroundImage = \"url(\" + data + \")\"; } function NetworKit_showElement(id, show) { var element = document.getElementById(id); element.style.display = (show) ? \"block\" : \"none\"; } function NetworKit_overlayShow(source) { NetworKit_overlayUpdate(source); NetworKit_showElement(\"NetworKit_Overlay\", true); } function NetworKit_overlayUpdate(source) { document.getElementById(\"NetworKit_Overlay_Title\").innerHTML = source.title; var index = source.getAttribute(\"data-image-index\"); var data = source.getAttribute(\"data-image-\" + index); var image = document.getElementById(\"NetworKit_Overlay_Image\"); image.setAttribute(\"data-id\", source.id); image.style.backgroundImage = \"url(\" + data + \")\"; var link = document.getElementById(\"NetworKit_Overlay_Toolbar_Bottom_Save\"); link.href = data; link.download = source.title + \".svg\"; } function NetworKit_overlayImageShift(delta) { var image = document.getElementById(\"NetworKit_Overlay_Image\"); var source = document.getElementById(image.getAttribute(\"data-id\")); var index = parseInt(source.getAttribute(\"data-image-index\")); var length = parseInt(source.getAttribute(\"data-image-length\")); var index = (index+delta) % length; if (index < 0) { index = length + index; } source.setAttribute(\"data-image-index\", index); NetworKit_overlayUpdate(source); } function NetworKit_toggleDetails(source) { var childs = source.children; var show = false; if (source.getAttribute(\"data-title\") == \"-\") { source.setAttribute(\"data-title\", \"+\"); show = false; } else { source.setAttribute(\"data-title\", \"-\"); show = true; } for (i=0; i<childs.length; i++) { if (show) { childs[i].style.display = \"block\"; } else { childs[i].style.display = \"none\"; } } }';\n\t\t\t\telement.setAttribute('id', 'NetworKit_script');\n\t\t\t\tdocument.head.appendChild(element);\n\t\t\t}\n\t\t\n\t\t\t\t\n\t\t\t{\n\t\t\t\tvar element = document.getElementById('NetworKit_style');\n\t\t\t\tif (element) {\n\t\t\t\t\telement.parentNode.removeChild(element);\n\t\t\t\t}\n\t\t\t\telement = document.createElement('style');\n\t\t\t\telement.type = 'text/css';\n\t\t\t\telement.innerHTML = '.NetworKit_Page { font-family: Arial, Helvetica, sans-serif; font-size: 14px; } .NetworKit_Page .Value:before { font-family: Arial, Helvetica, sans-serif; font-size: 1.05em; content: attr(data-title) \":\"; margin-left: -2.5em; padding-right: 0.5em; } .NetworKit_Page .Details .Value:before { display: block; } .NetworKit_Page .Value { font-family: monospace; white-space: pre; padding-left: 2.5em; white-space: -moz-pre-wrap !important; white-space: -pre-wrap; white-space: -o-pre-wrap; white-space: pre-wrap; word-wrap: break-word; tab-size: 4; -moz-tab-size: 4; } .NetworKit_Page .Category { clear: both; padding-left: 1em; margin-bottom: 1.5em; } .NetworKit_Page .Category:before { content: attr(data-title); font-size: 1.75em; display: block; margin-left: -0.8em; margin-bottom: 0.5em; } .NetworKit_Page .SubCategory { margin-bottom: 1.5em; padding-left: 1em; } .NetworKit_Page .SubCategory:before { font-size: 1.6em; display: block; margin-left: -0.8em; margin-bottom: 0.5em; } .NetworKit_Page .SubCategory[data-title]:before { content: attr(data-title); } .NetworKit_Page .Block { display: block; } .NetworKit_Page .Block:after { content: \".\"; visibility: hidden; display: block; height: 0; clear: both; } .NetworKit_Page .Block .Thumbnail_Overview, .NetworKit_Page .Block .Thumbnail_ScatterPlot { width: 260px; float: left; } .NetworKit_Page .Block .Thumbnail_Overview img, .NetworKit_Page .Block .Thumbnail_ScatterPlot img { width: 260px; } .NetworKit_Page .Block .Thumbnail_Overview:before, .NetworKit_Page .Block .Thumbnail_ScatterPlot:before { display: block; text-align: center; font-weight: bold; } .NetworKit_Page .Block .Thumbnail_Overview:before { content: attr(data-title); } .NetworKit_Page .HeatCell { font-family: \"Courier New\", Courier, monospace; cursor: pointer; } .NetworKit_Page .HeatCell, .NetworKit_Page .HeatCellName { display: inline; padding: 0.1em; margin-right: 2px; background-color: #FFFFFF } .NetworKit_Page .HeatCellName { margin-left: 0.25em; } .NetworKit_Page .HeatCell:before { content: attr(data-heat); display: inline-block; color: #000000; width: 4em; text-align: center; } .NetworKit_Page .Measure { clear: both; } .NetworKit_Page .Measure .Details { cursor: pointer; } .NetworKit_Page .Measure .Details:before { content: \"[\" attr(data-title) \"]\"; display: block; } .NetworKit_Page .Measure .Details .Value { border-left: 1px dotted black; margin-left: 0.4em; padding-left: 3.5em; pointer-events: none; } .NetworKit_Page .Measure .Details .Spacer:before { content: \".\"; opacity: 0.0; pointer-events: none; } .NetworKit_Page .Measure .Plot { width: 440px; height: 440px; cursor: pointer; float: left; margin-left: -0.9em; margin-right: 20px; } .NetworKit_Page .Measure .Plot .Image { background-repeat: no-repeat; background-position: center center; background-size: contain; height: 100%; pointer-events: none; } .NetworKit_Page .Measure .Stat { width: 500px; float: left; } .NetworKit_Page .Measure .Stat .Group { padding-left: 1.25em; margin-bottom: 0.75em; } .NetworKit_Page .Measure .Stat .Group .Title { font-size: 1.1em; display: block; margin-bottom: 0.3em; margin-left: -0.75em; border-right-style: dotted; border-right-width: 1px; border-bottom-style: dotted; border-bottom-width: 1px; background-color: #D0D0D0; padding-left: 0.2em; } .NetworKit_Page .Measure .Stat .Group .List { -webkit-column-count: 3; -moz-column-count: 3; column-count: 3; } .NetworKit_Page .Measure .Stat .Group .List .Entry { position: relative; line-height: 1.75em; } .NetworKit_Page .Measure .Stat .Group .List .Entry[data-tooltip]:before { position: absolute; left: 0; top: -40px; background-color: #808080; color: #ffffff; height: 30px; line-height: 30px; border-radius: 5px; padding: 0 15px; content: attr(data-tooltip); white-space: nowrap; display: none; } .NetworKit_Page .Measure .Stat .Group .List .Entry[data-tooltip]:after { position: absolute; left: 15px; top: -10px; border-top: 7px solid #808080; border-left: 7px solid transparent; border-right: 7px solid transparent; content: \"\"; display: none; } .NetworKit_Page .Measure .Stat .Group .List .Entry[data-tooltip]:hover:after, .NetworKit_Page .Measure .Stat .Group .List .Entry[data-tooltip]:hover:before { display: block; } .NetworKit_Page .Measure .Stat .Group .List .Entry .MathValue { font-family: \"Courier New\", Courier, monospace; } .NetworKit_Page .Measure:after { content: \".\"; visibility: hidden; display: block; height: 0; clear: both; } .NetworKit_Page .PartitionPie { clear: both; } .NetworKit_Page .PartitionPie img { width: 600px; } #NetworKit_Overlay { left: 0px; top: 0px; display: none; position: absolute; width: 100%; height: 100%; background-color: rgba(0,0,0,0.6); z-index: 1000; } #NetworKit_Overlay_Title { position: absolute; color: white; transform: rotate(-90deg); width: 32em; height: 32em; padding-right: 0.5em; padding-top: 0.5em; text-align: right; font-size: 40px; } #NetworKit_Overlay .button { background: white; cursor: pointer; } #NetworKit_Overlay .button:before { size: 13px; display: inline-block; text-align: center; margin-top: 0.5em; margin-bottom: 0.5em; width: 1.5em; height: 1.5em; } #NetworKit_Overlay .icon-close:before { content: \"X\"; } #NetworKit_Overlay .icon-previous:before { content: \"P\"; } #NetworKit_Overlay .icon-next:before { content: \"N\"; } #NetworKit_Overlay .icon-save:before { content: \"S\"; } #NetworKit_Overlay_Toolbar_Top, #NetworKit_Overlay_Toolbar_Bottom { position: absolute; width: 40px; right: 13px; text-align: right; z-index: 1100; } #NetworKit_Overlay_Toolbar_Top { top: 0.5em; } #NetworKit_Overlay_Toolbar_Bottom { Bottom: 0.5em; } #NetworKit_Overlay_ImageContainer { position: absolute; top: 5%; left: 5%; height: 90%; width: 90%; background-repeat: no-repeat; background-position: center center; background-size: contain; } #NetworKit_Overlay_Image { height: 100%; width: 100%; background-repeat: no-repeat; background-position: center center; background-size: contain; }';\n\t\t\t\telement.setAttribute('id', 'NetworKit_style');\n\t\t\t\tdocument.head.appendChild(element);\n\t\t\t}\n\t\t\n\t\t\t\t\n\t\t\t{\n\t\t\t\tvar element = document.getElementById('NetworKit_Overlay');\n\t\t\t\tif (element) {\n\t\t\t\t\telement.parentNode.removeChild(element);\n\t\t\t\t}\n\t\t\t\telement = document.createElement('div');\n\t\t\t\telement.innerHTML = '<div id=\"NetworKit_Overlay_Toolbar_Top\"><div class=\"button icon-close\" id=\"NetworKit_Overlay_Close\" /></div><div id=\"NetworKit_Overlay_Title\" /> <div id=\"NetworKit_Overlay_ImageContainer\"> <div id=\"NetworKit_Overlay_Image\" /> </div> <div id=\"NetworKit_Overlay_Toolbar_Bottom\"> <div class=\"button icon-previous\" onclick=\"NetworKit_overlayImageShift(-1)\" /> <div class=\"button icon-next\" onclick=\"NetworKit_overlayImageShift(1)\" /> <a id=\"NetworKit_Overlay_Toolbar_Bottom_Save\"><div class=\"button icon-save\" /></a> </div>';\n\t\t\t\telement.setAttribute('id', 'NetworKit_Overlay');\n\t\t\t\tdocument.body.appendChild(element);\n\t\t\t\tdocument.getElementById('NetworKit_Overlay_Close').onclick = function (e) {\n\t\t\t\t\tdocument.getElementById('NetworKit_Overlay').style.display = 'none';\n\t\t\t\t}\n\t\t\t}\n\t\t\n\t\t\t-->\n\t\t\t</script>\n\t\t"
     },
     "metadata": {},
     "output_type": "display_data"
    }
   ],
   "source": [
    "from nonasymptotic.envs import StraightLine\n",
    "from nonasymptotic.prm import SimplePRM\n",
    "\n",
    "import numpy as np"
   ]
  },
  {
   "cell_type": "code",
   "execution_count": 2,
   "outputs": [
    {
     "name": "stdout",
     "output_type": "stream",
     "text": [
      "N Components: 1\n",
      "N nodes: 1000\n",
      "N edges: 8212\n"
     ]
    }
   ],
   "source": [
    "seed = 1\n",
    "prm_env_2d = StraightLine(dim=2, delta_clearance=0.5, seed=seed)\n",
    "prm = SimplePRM(0.10, prm_env_2d.is_motion_valid, prm_env_2d.sample_from_env, prm_env_2d.distance_to_path, seed=seed)\n",
    "prm.grow_to_n_samples(1000)\n",
    "\n",
    "# plt.figure()\n",
    "# for u, v in prm.g_prm.iterEdges():\n",
    "#     coords_u = prm.samples[u]\n",
    "#     coords_v = prm.samples[v]\n",
    "# \n",
    "#     plt.plot([coords_u[0], coords_v[0]], [coords_u[1], coords_v[1]], 'ro-')\n",
    "# \n",
    "# plt.show()\n",
    "\n",
    "# some other computations to help other visual tests later on:\n",
    "print('N Components: %i' % len(prm.g_cc.getComponents()))\n",
    "print('N nodes: %i' % prm.num_vertices())\n",
    "print('N edges: %i' % prm.num_edges())\n"
   ],
   "metadata": {
    "collapsed": false,
    "ExecuteTime": {
     "end_time": "2024-01-19T18:35:38.828401206Z",
     "start_time": "2024-01-19T18:35:27.215127693Z"
    }
   },
   "id": "a451572cb2a8ac5"
  },
  {
   "cell_type": "code",
   "execution_count": 3,
   "outputs": [
    {
     "name": "stdout",
     "output_type": "stream",
     "text": [
      "N nodes: 1000\n",
      "N edges: 8212\n"
     ]
    }
   ],
   "source": [
    "# do some connection queries with some existing points\n",
    "s = np.array([0., 0.])\n",
    "g = np.array([1., 0.])\n",
    "\n",
    "sol_dist, sol_path = prm.query_best_solution(s, g)\n",
    "sol_path = np.concatenate([[s], sol_path, [g]])\n",
    "\n",
    "# plt.figure()\n",
    "# \n",
    "# # plot the existing prm\n",
    "# for u, v in prm.g_prm.iterEdges():\n",
    "#     coords_u = prm.samples[u]\n",
    "#     coords_v = prm.samples[v]\n",
    "# \n",
    "#     plt.plot([coords_u[0], coords_v[0]], [coords_u[1], coords_v[1]], 'ro-')\n",
    "# \n",
    "# for i in range(sol_path.shape[0] - 1):\n",
    "#     u = sol_path[i]\n",
    "#     v = sol_path[i + 1]\n",
    "#     plt.plot([u[0], v[0]], [u[1], v[1]], 'bo-')\n",
    "# \n",
    "# plt.plot()\n",
    "print('N nodes: %i' % prm.num_vertices())\n",
    "print('N edges: %i' % prm.num_edges())\n"
   ],
   "metadata": {
    "collapsed": false,
    "ExecuteTime": {
     "end_time": "2024-01-19T18:35:45.888952192Z",
     "start_time": "2024-01-19T18:35:38.828480204Z"
    }
   },
   "id": "62264bcd928ebca0"
  },
  {
   "cell_type": "code",
   "execution_count": 4,
   "outputs": [],
   "source": [
    "pairs, _, _ = prm.query_all_graph_connections(s, g)\n",
    "# plt.figure()\n",
    "\n",
    "# plot the existing prm\n",
    "# for u, v in prm.g_prm.iterEdges():\n",
    "#     coords_u = prm.samples[u]\n",
    "#     coords_v = prm.samples[v]\n",
    "# \n",
    "#     plt.plot([coords_u[0], coords_v[0]], [coords_u[1], coords_v[1]], 'ro-')\n",
    "# \n",
    "# for u, v in pairs:\n",
    "#     plt.plot([u[0], v[0]], [u[1], v[1]], 'bo-')\n",
    "# \n",
    "# plt.show()\n"
   ],
   "metadata": {
    "collapsed": false,
    "ExecuteTime": {
     "end_time": "2024-01-19T18:35:45.889516782Z",
     "start_time": "2024-01-19T18:35:45.886434901Z"
    }
   },
   "id": "47339704f2da6257"
  },
  {
   "cell_type": "code",
   "execution_count": 28,
   "outputs": [
    {
     "name": "stdout",
     "output_type": "stream",
     "text": [
      "covered!\n",
      "covered!\n",
      "covered!\n",
      "covered!\n",
      "covered!\n",
      "covered!\n",
      "covered!\n"
     ]
    },
    {
     "ename": "KeyboardInterrupt",
     "evalue": "",
     "output_type": "error",
     "traceback": [
      "\u001B[0;31m---------------------------------------------------------------------------\u001B[0m",
      "\u001B[0;31mKeyboardInterrupt\u001B[0m                         Traceback (most recent call last)",
      "Cell \u001B[0;32mIn[28], line 6\u001B[0m\n\u001B[1;32m      4\u001B[0m \u001B[38;5;28;01mfor\u001B[39;00m _ \u001B[38;5;129;01min\u001B[39;00m \u001B[38;5;28mrange\u001B[39m(\u001B[38;5;241m100\u001B[39m):\n\u001B[1;32m      5\u001B[0m     t_start \u001B[38;5;241m=\u001B[39m time\u001B[38;5;241m.\u001B[39mprocess_time()\n\u001B[0;32m----> 6\u001B[0m     \u001B[43mprm_env_2d\u001B[49m\u001B[38;5;241;43m.\u001B[39;49m\u001B[43mis_prm_epsilon_delta_complete\u001B[49m\u001B[43m(\u001B[49m\u001B[43mprm\u001B[49m\u001B[43m,\u001B[49m\u001B[43m \u001B[49m\u001B[38;5;241;43m0.28\u001B[39;49m\u001B[43m,\u001B[49m\u001B[43m \u001B[49m\u001B[43mn_samples_per_check\u001B[49m\u001B[38;5;241;43m=\u001B[39;49m\u001B[38;5;241;43m100\u001B[39;49m\u001B[43m,\u001B[49m\u001B[43m \u001B[49m\u001B[43mtimeout\u001B[49m\u001B[38;5;241;43m=\u001B[39;49m\u001B[38;5;241;43m60.0\u001B[39;49m\u001B[43m,\u001B[49m\u001B[43m \u001B[49m\u001B[43mtimeout_area_tol\u001B[49m\u001B[38;5;241;43m=\u001B[39;49m\u001B[38;5;241;43m1e-6\u001B[39;49m\u001B[43m,\u001B[49m\u001B[43m \u001B[49m\u001B[43mvis\u001B[49m\u001B[38;5;241;43m=\u001B[39;49m\u001B[38;5;28;43;01mTrue\u001B[39;49;00m\u001B[43m)\u001B[49m\n\u001B[1;32m      7\u001B[0m     t_end \u001B[38;5;241m=\u001B[39m time\u001B[38;5;241m.\u001B[39mprocess_time()\n\u001B[1;32m      8\u001B[0m     times\u001B[38;5;241m.\u001B[39mappend(t_end \u001B[38;5;241m-\u001B[39m t_start)\n",
      "File \u001B[0;32m~/Research/nonasymptotic-mp/nonasymptotic/envs.py:311\u001B[0m, in \u001B[0;36mStraightLine.is_prm_epsilon_delta_complete\u001B[0;34m(self, prm, tol, n_samples_per_check, timeout, timeout_area_tol, vis)\u001B[0m\n\u001B[1;32m    308\u001B[0m \u001B[38;5;28;01mif\u001B[39;00m Point(prm_query)\u001B[38;5;241m.\u001B[39mwithin(cover_union):\n\u001B[1;32m    309\u001B[0m     \u001B[38;5;28;01mcontinue\u001B[39;00m\n\u001B[0;32m--> 311\u001B[0m query_successful, new_cover_sets \u001B[38;5;241m=\u001B[39m \u001B[43m_process_query\u001B[49m\u001B[43m(\u001B[49m\u001B[43mprm_query\u001B[49m\u001B[43m)\u001B[49m\n\u001B[1;32m    313\u001B[0m \u001B[38;5;28;01mif\u001B[39;00m \u001B[38;5;129;01mnot\u001B[39;00m query_successful:\n\u001B[1;32m    314\u001B[0m     \u001B[38;5;28;01mreturn\u001B[39;00m \u001B[38;5;28;01mFalse\u001B[39;00m\n",
      "File \u001B[0;32m~/Research/nonasymptotic-mp/nonasymptotic/envs.py:246\u001B[0m, in \u001B[0;36mStraightLine.is_prm_epsilon_delta_complete.<locals>._process_query\u001B[0;34m(query_point)\u001B[0m\n\u001B[1;32m    243\u001B[0m \u001B[38;5;28;01mdef\u001B[39;00m \u001B[38;5;21m_process_query\u001B[39m(query_point):\n\u001B[1;32m    244\u001B[0m     \u001B[38;5;66;03m# returns True if successfully queried, False if the PRM does not support the query with the\u001B[39;00m\n\u001B[1;32m    245\u001B[0m     \u001B[38;5;66;03m# the required tolerance\u001B[39;00m\n\u001B[0;32m--> 246\u001B[0m     query_sol_ios, query_sol_dists, sols_ids \u001B[38;5;241m=\u001B[39m \u001B[43m_find_valid_prm_entry_exit_points\u001B[49m\u001B[43m(\u001B[49m\u001B[43mquery_point\u001B[49m\u001B[43m)\u001B[49m\n\u001B[1;32m    248\u001B[0m     \u001B[38;5;28;01mif\u001B[39;00m query_sol_ios\u001B[38;5;241m.\u001B[39msize \u001B[38;5;241m<\u001B[39m\u001B[38;5;241m=\u001B[39m \u001B[38;5;241m0\u001B[39m:\n\u001B[1;32m    249\u001B[0m         \u001B[38;5;28mprint\u001B[39m(\u001B[38;5;124m'\u001B[39m\u001B[38;5;124mnot e-d complete! failing query: \u001B[39m\u001B[38;5;132;01m%s\u001B[39;00m\u001B[38;5;124m'\u001B[39m \u001B[38;5;241m%\u001B[39m \u001B[38;5;28mstr\u001B[39m(query_point))\n",
      "File \u001B[0;32m~/Research/nonasymptotic-mp/nonasymptotic/envs.py:122\u001B[0m, in \u001B[0;36mStraightLine.is_prm_epsilon_delta_complete.<locals>._find_valid_prm_entry_exit_points\u001B[0;34m(sample_query)\u001B[0m\n\u001B[1;32m    120\u001B[0m goal \u001B[38;5;241m=\u001B[39m \u001B[38;5;28mself\u001B[39m\u001B[38;5;241m.\u001B[39marclength_to_curve_point(t_goal)\n\u001B[1;32m    121\u001B[0m path_length \u001B[38;5;241m=\u001B[39m t_goal \u001B[38;5;241m-\u001B[39m t_start\n\u001B[0;32m--> 122\u001B[0m sols_in_and_outs, sols_distances, sols_ids \u001B[38;5;241m=\u001B[39m \u001B[43mprm\u001B[49m\u001B[38;5;241;43m.\u001B[39;49m\u001B[43mquery_all_graph_connections\u001B[49m\u001B[43m(\u001B[49m\u001B[43mstart\u001B[49m\u001B[43m,\u001B[49m\u001B[43m \u001B[49m\u001B[43mgoal\u001B[49m\u001B[43m)\u001B[49m\n\u001B[1;32m    123\u001B[0m valid_pairs \u001B[38;5;241m=\u001B[39m (sols_distances\n\u001B[1;32m    124\u001B[0m                \u001B[38;5;241m+\u001B[39m np\u001B[38;5;241m.\u001B[39mlinalg\u001B[38;5;241m.\u001B[39mnorm(start \u001B[38;5;241m-\u001B[39m sols_in_and_outs[:, \u001B[38;5;241m0\u001B[39m, :], axis\u001B[38;5;241m=\u001B[39m\u001B[38;5;241m1\u001B[39m)\n\u001B[1;32m    125\u001B[0m                \u001B[38;5;241m+\u001B[39m np\u001B[38;5;241m.\u001B[39mlinalg\u001B[38;5;241m.\u001B[39mnorm(goal \u001B[38;5;241m-\u001B[39m sols_in_and_outs[:, \u001B[38;5;241m1\u001B[39m, :], axis\u001B[38;5;241m=\u001B[39m\u001B[38;5;241m1\u001B[39m)) \u001B[38;5;241m<\u001B[39m\u001B[38;5;241m=\u001B[39m path_length \u001B[38;5;241m*\u001B[39m (\u001B[38;5;241m1\u001B[39m \u001B[38;5;241m+\u001B[39m tol)\n\u001B[1;32m    126\u001B[0m \u001B[38;5;66;03m# store valid queries in some structure that encodes the multiset\u001B[39;00m\n\u001B[1;32m    127\u001B[0m \u001B[38;5;66;03m# compute new convex hulls.\u001B[39;00m\n",
      "File \u001B[0;32m~/Research/nonasymptotic-mp/nonasymptotic/prm.py:202\u001B[0m, in \u001B[0;36mSimplePRM.query_all_graph_connections\u001B[0;34m(self, start, goal)\u001B[0m\n\u001B[1;32m    191\u001B[0m prm_sols_in_and_outs \u001B[38;5;241m=\u001B[39m np\u001B[38;5;241m.\u001B[39mtranspose([\n\u001B[1;32m    192\u001B[0m     np\u001B[38;5;241m.\u001B[39mtile(coll_free_start_nns, \u001B[38;5;28mlen\u001B[39m(coll_free_goal_nns)),\n\u001B[1;32m    193\u001B[0m     np\u001B[38;5;241m.\u001B[39mrepeat(coll_free_goal_nns, \u001B[38;5;28mlen\u001B[39m(coll_free_start_nns))\n\u001B[1;32m    194\u001B[0m ])\n\u001B[1;32m    196\u001B[0m prm_sols_distances \u001B[38;5;241m=\u001B[39m \u001B[38;5;28mself\u001B[39m\u001B[38;5;241m.\u001B[39mg_sp_lookup[\n\u001B[1;32m    197\u001B[0m     \u001B[38;5;28mself\u001B[39m\u001B[38;5;241m.\u001B[39msample_to_lookup_ind[prm_sols_in_and_outs[:, \u001B[38;5;241m0\u001B[39m]],\n\u001B[1;32m    198\u001B[0m     \u001B[38;5;28mself\u001B[39m\u001B[38;5;241m.\u001B[39msample_to_lookup_ind[prm_sols_in_and_outs[:, \u001B[38;5;241m1\u001B[39m]]\n\u001B[1;32m    199\u001B[0m ]\n\u001B[1;32m    201\u001B[0m \u001B[38;5;28;01mreturn\u001B[39;00m (\n\u001B[0;32m--> 202\u001B[0m     \u001B[43mnp\u001B[49m\u001B[38;5;241;43m.\u001B[39;49m\u001B[43mstack\u001B[49m\u001B[43m(\u001B[49m\u001B[43m[\u001B[49m\n\u001B[1;32m    203\u001B[0m \u001B[43m        \u001B[49m\u001B[38;5;28;43mself\u001B[39;49m\u001B[38;5;241;43m.\u001B[39;49m\u001B[43msamples\u001B[49m\u001B[43m[\u001B[49m\u001B[43mprm_sols_in_and_outs\u001B[49m\u001B[43m[\u001B[49m\u001B[43m:\u001B[49m\u001B[43m,\u001B[49m\u001B[43m \u001B[49m\u001B[38;5;241;43m0\u001B[39;49m\u001B[43m]\u001B[49m\u001B[43m]\u001B[49m\u001B[43m,\u001B[49m\n\u001B[1;32m    204\u001B[0m \u001B[43m        \u001B[49m\u001B[38;5;28;43mself\u001B[39;49m\u001B[38;5;241;43m.\u001B[39;49m\u001B[43msamples\u001B[49m\u001B[43m[\u001B[49m\u001B[43mprm_sols_in_and_outs\u001B[49m\u001B[43m[\u001B[49m\u001B[43m:\u001B[49m\u001B[43m,\u001B[49m\u001B[43m \u001B[49m\u001B[38;5;241;43m1\u001B[39;49m\u001B[43m]\u001B[49m\u001B[43m]\u001B[49m\n\u001B[1;32m    205\u001B[0m \u001B[43m    \u001B[49m\u001B[43m]\u001B[49m\u001B[43m,\u001B[49m\u001B[43m \u001B[49m\u001B[43maxis\u001B[49m\u001B[38;5;241;43m=\u001B[39;49m\u001B[38;5;241;43m0\u001B[39;49m\u001B[43m)\u001B[49m\u001B[38;5;241m.\u001B[39mswapaxes(\u001B[38;5;241m0\u001B[39m, \u001B[38;5;241m1\u001B[39m),\n\u001B[1;32m    206\u001B[0m     prm_sols_distances,\n\u001B[1;32m    207\u001B[0m     prm_sols_in_and_outs\n\u001B[1;32m    208\u001B[0m )\n",
      "File \u001B[0;32m<__array_function__ internals>:200\u001B[0m, in \u001B[0;36mstack\u001B[0;34m(*args, **kwargs)\u001B[0m\n",
      "File \u001B[0;32m~/Research/nonasymptotic-mp/venv/lib/python3.8/site-packages/numpy/core/shape_base.py:471\u001B[0m, in \u001B[0;36mstack\u001B[0;34m(arrays, axis, out, dtype, casting)\u001B[0m\n\u001B[1;32m    469\u001B[0m sl \u001B[38;5;241m=\u001B[39m (\u001B[38;5;28mslice\u001B[39m(\u001B[38;5;28;01mNone\u001B[39;00m),) \u001B[38;5;241m*\u001B[39m axis \u001B[38;5;241m+\u001B[39m (_nx\u001B[38;5;241m.\u001B[39mnewaxis,)\n\u001B[1;32m    470\u001B[0m expanded_arrays \u001B[38;5;241m=\u001B[39m [arr[sl] \u001B[38;5;28;01mfor\u001B[39;00m arr \u001B[38;5;129;01min\u001B[39;00m arrays]\n\u001B[0;32m--> 471\u001B[0m \u001B[38;5;28;01mreturn\u001B[39;00m \u001B[43m_nx\u001B[49m\u001B[38;5;241;43m.\u001B[39;49m\u001B[43mconcatenate\u001B[49m\u001B[43m(\u001B[49m\u001B[43mexpanded_arrays\u001B[49m\u001B[43m,\u001B[49m\u001B[43m \u001B[49m\u001B[43maxis\u001B[49m\u001B[38;5;241;43m=\u001B[39;49m\u001B[43maxis\u001B[49m\u001B[43m,\u001B[49m\u001B[43m \u001B[49m\u001B[43mout\u001B[49m\u001B[38;5;241;43m=\u001B[39;49m\u001B[43mout\u001B[49m\u001B[43m,\u001B[49m\n\u001B[1;32m    472\u001B[0m \u001B[43m                       \u001B[49m\u001B[43mdtype\u001B[49m\u001B[38;5;241;43m=\u001B[39;49m\u001B[43mdtype\u001B[49m\u001B[43m,\u001B[49m\u001B[43m \u001B[49m\u001B[43mcasting\u001B[49m\u001B[38;5;241;43m=\u001B[39;49m\u001B[43mcasting\u001B[49m\u001B[43m)\u001B[49m\n",
      "File \u001B[0;32m<__array_function__ internals>:200\u001B[0m, in \u001B[0;36mconcatenate\u001B[0;34m(*args, **kwargs)\u001B[0m\n",
      "\u001B[0;31mKeyboardInterrupt\u001B[0m: "
     ]
    }
   ],
   "source": [
    "import time\n",
    "\n",
    "times = []\n",
    "for _ in range(100):\n",
    "    t_start = time.process_time()\n",
    "    prm_env_2d.is_prm_epsilon_delta_complete(prm, 0.28, n_samples_per_check=100, timeout=60.0, timeout_area_tol=1e-6, vis=True)\n",
    "    t_end = time.process_time()\n",
    "    times.append(t_end - t_start)\n",
    "    \n",
    "print('mean: %f, std: %f' % (np.mean(times), np.std(times)))"
   ],
   "metadata": {
    "collapsed": false,
    "ExecuteTime": {
     "end_time": "2024-01-19T20:14:24.862262046Z",
     "start_time": "2024-01-19T20:13:51.630485140Z"
    }
   },
   "id": "7db9ea99edcd953e"
  },
  {
   "cell_type": "markdown",
   "source": [],
   "metadata": {
    "collapsed": false
   },
   "id": "24443a2d5e71e991"
  },
  {
   "cell_type": "code",
   "outputs": [
    {
     "name": "stdout",
     "output_type": "stream",
     "text": [
      "5.475329756740588e-05\n",
      "0.0\n"
     ]
    }
   ],
   "source": [
    "start = np.array([0.5034941, 0.0])\n",
    "goal = np.array([0.6034941, 0.0])\n",
    "\n",
    "dist, path = prm.query_best_solution(start, goal)\n",
    "print(dist - (1 + 0.256) * (goal[0] - start[0]))\n",
    "\n",
    "# sol pair is (789, 789); [0.54648089 0.03865867]\n",
    "\n",
    "print(np.linalg.norm(path[0] - path[0]))\n",
    "sol_pts, sol_dists, sol_ids = prm.query_all_graph_connections(start, goal)\n",
    "\n",
    "start_norms = np.linalg.norm(prm.samples - start, axis=1)\n",
    "start_selector = start_norms <= 0.1\n",
    "all_neighbors_start = np.arange(1000)[start_selector]\n",
    "start_sort = np.argsort(start_norms[start_selector])\n",
    "\n",
    "goal_norms = np.linalg.norm(prm.samples - goal, axis=-1)\n",
    "goal_selector = goal_norms <= 0.1\n",
    "all_neighbors_goal = np.arange(1000)[goal_selector]\n",
    "goal_sort = np.argsort(goal_norms[goal_selector])\n",
    " "
   ],
   "metadata": {
    "collapsed": false,
    "ExecuteTime": {
     "end_time": "2024-01-19T19:52:30.535769165Z",
     "start_time": "2024-01-19T19:52:30.350484665Z"
    }
   },
   "id": "6b3d1738c64f4d5b",
   "execution_count": 23
  },
  {
   "cell_type": "code",
   "outputs": [
    {
     "data": {
      "text/plain": "32"
     },
     "execution_count": 7,
     "metadata": {},
     "output_type": "execute_result"
    }
   ],
   "source": [
    "prm.k_neighbors"
   ],
   "metadata": {
    "collapsed": false,
    "ExecuteTime": {
     "end_time": "2024-01-18T08:32:28.281318980Z",
     "start_time": "2024-01-18T08:32:28.273668632Z"
    }
   },
   "id": "8b9b638d29854367",
   "execution_count": 7
  },
  {
   "cell_type": "code",
   "outputs": [
    {
     "name": "stdout",
     "output_type": "stream",
     "text": [
      "[171 897 944 789 172 581 282 841 315 477 614 501 261 494 729]\n",
      "[171 897 944 789 172 581 282 841 315 477 614 501 261 494]\n",
      "[0.02752812 0.03136257 0.0523346  0.0572447  0.06185896 0.06200621\n",
      " 0.06251651 0.07732189 0.07831659 0.08200165 0.08363293 0.08393107\n",
      " 0.09146561 0.09627791 0.10210367]\n",
      "[0.02752812 0.03136257 0.0523346  0.05724469 0.06185896 0.06200621\n",
      " 0.06251653 0.07732191 0.07831661 0.08200166 0.08363293 0.08393108\n",
      " 0.09146563 0.09627791]\n",
      "[150 841 755 696 282 315 789 261 186 534 262 571 477 881 897 463 665 729\n",
      " 586]\n",
      "[150 841 755 696 282 315 789 261 186 534 262 571 477 881]\n",
      "[0.00383368 0.05566616 0.05584162 0.06454111 0.07452732 0.07526896\n",
      " 0.07531777 0.07597972 0.07638264 0.0764377  0.08494437 0.08499358\n",
      " 0.08618211 0.09057384 0.10130286 0.1100651  0.1106575  0.11180214\n",
      " 0.11208599]\n",
      "[0.00383369 0.05566616 0.0558416  0.06454111 0.07452732 0.07526896\n",
      " 0.07531779 0.07597971 0.07638265 0.0764377  0.08494433 0.08499358\n",
      " 0.08618211 0.09057384]\n"
     ]
    },
    {
     "data": {
      "text/plain": "0.0043319162935468725"
     },
     "execution_count": 12,
     "metadata": {},
     "output_type": "execute_result"
    }
   ],
   "source": [
    "print(prm.nn_index.query([start], k=15)[0][0])\n",
    "print(all_neighbors_start[start_sort])\n",
    "print(prm.nn_index.query([start], k=15)[1][0])\n",
    "print(np.sort(start_norms[start_selector]))\n",
    "\n",
    "print(prm.nn_index.query([goal], k=19)[0][0])\n",
    "print(all_neighbors_goal[goal_sort])\n",
    "print(prm.nn_index.query([goal], k=19)[1][0])\n",
    "print(np.sort(goal_norms[goal_selector]))\n",
    "\n",
    "np.linalg.norm(prm.samples[789] - start) + np.linalg.norm(prm.samples[789] - goal) - 1.20 * (goal[0] - start[0])"
   ],
   "metadata": {
    "collapsed": false,
    "ExecuteTime": {
     "end_time": "2024-01-18T20:23:17.999356851Z",
     "start_time": "2024-01-18T20:23:17.950887802Z"
    }
   },
   "id": "1337d4054063b0",
   "execution_count": 12
  }
 ],
 "metadata": {
  "kernelspec": {
   "display_name": "Python 3",
   "language": "python",
   "name": "python3"
  },
  "language_info": {
   "codemirror_mode": {
    "name": "ipython",
    "version": 2
   },
   "file_extension": ".py",
   "mimetype": "text/x-python",
   "name": "python",
   "nbconvert_exporter": "python",
   "pygments_lexer": "ipython2",
   "version": "2.7.6"
  }
 },
 "nbformat": 4,
 "nbformat_minor": 5
}
