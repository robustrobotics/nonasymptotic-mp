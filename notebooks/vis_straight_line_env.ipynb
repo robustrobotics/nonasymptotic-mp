{
 "cells": [
  {
   "cell_type": "code",
   "execution_count": null,
   "id": "initial_id",
   "metadata": {
    "collapsed": true,
    "is_executing": true
   },
   "outputs": [],
   "source": [
    "%env OMPL_PATH= /home/seiji/Research/ompl/py-bindings\n",
    "from nonasymptotic.envs import StraightLine\n",
    "from nonasymptotic.prm import SimplePRM\n",
    "\n",
    "import matplotlib.pyplot as plt\n",
    "import numpy as np"
   ]
  },
  {
   "cell_type": "code",
   "execution_count": null,
   "outputs": [],
   "source": [
    "prm_env_2d = StraightLine(dim=2, delta_clearance=0.5)\n",
    "prm = SimplePRM(0.2, prm_env_2d.is_motion_valid, prm_env_2d.sample_from_env)\n",
    "prm.grow_to_n_samples(10000)\n",
    "\n",
    "plt.figure()\n",
    "for u, v in prm.g_prm.iterEdges():\n",
    "    coords_u = prm.samples[u]\n",
    "    coords_v = prm.samples[v]\n",
    "\n",
    "    plt.plot([coords_u[0], coords_v[0]], [coords_u[1], coords_v[1]], 'ro-')\n",
    "\n",
    "plt.show()\n",
    "\n",
    "# some other computations to help other visual tests later on:\n",
    "print('N Components: %i' % len(prm.g_cc.getComponents()))\n",
    "print('N nodes: %i' % prm.num_vertices())\n",
    "print('N edges: %i' % prm.num_edges())\n"
   ],
   "metadata": {
    "collapsed": false,
    "is_executing": true
   },
   "id": "a451572cb2a8ac5"
  },
  {
   "cell_type": "code",
   "execution_count": null,
   "outputs": [],
   "source": [
    "# do some connection queries with some existing points\n",
    "s = np.array([0., 0.])\n",
    "g = np.array([1., 0.])\n",
    "\n",
    "sol_dist, sol_path = prm.query_best_solution(s, g)\n",
    "sol_path = np.concatenate([[s], sol_path, [g]])\n",
    "\n",
    "plt.figure()\n",
    "\n",
    "# plot the existing prm\n",
    "for u, v in prm.g_prm.iterEdges():\n",
    "    coords_u = prm.samples[u]\n",
    "    coords_v = prm.samples[v]\n",
    "\n",
    "    plt.plot([coords_u[0], coords_v[0]], [coords_u[1], coords_v[1]], 'ro-')\n",
    "\n",
    "for i in range(sol_path.shape[0] - 1):\n",
    "    u = sol_path[i]\n",
    "    v = sol_path[i+1]\n",
    "    plt.plot([u[0], v[0]], [u[1], v[1]], 'bo-')\n",
    "\n",
    "plt.plot()\n",
    "print('N nodes: %i' % prm.num_vertices())\n",
    "print('N edges: %i' % prm.num_edges())\n"
   ],
   "metadata": {
    "collapsed": false,
    "is_executing": true,
    "ExecuteTime": {
     "start_time": "2024-01-06T17:20:40.813833702Z"
    }
   },
   "id": "62264bcd928ebca0"
  },
  {
   "cell_type": "code",
   "execution_count": null,
   "outputs": [],
   "source": [
    "pairs, _ = prm.query_all_graph_connections(s, g)\n",
    "plt.figure()\n",
    "\n",
    "# plot the existing prm\n",
    "for u, v in prm.g_prm.iterEdges():\n",
    "    coords_u = prm.samples[u]\n",
    "    coords_v = prm.samples[v]\n",
    "\n",
    "    plt.plot([coords_u[0], coords_v[0]], [coords_u[1], coords_v[1]], 'ro-')\n",
    "    \n",
    "for u, v in pairs:\n",
    "    plt.plot([u[0], v[0]], [u[1], v[1]], 'bo-')\n",
    "    \n",
    "plt.show()\n"
   ],
   "metadata": {
    "collapsed": false,
    "is_executing": true,
    "ExecuteTime": {
     "start_time": "2024-01-06T17:21:21.149886761Z"
    }
   },
   "id": "47339704f2da6257"
  },
  {
   "cell_type": "code",
   "execution_count": null,
   "outputs": [],
   "source": [
    "prm_env_2d.is_prm_epsilon_delta_complete(prm, 0.2, n_samples_per_check=1000, timeout=60.0, vis=True)"
   ],
   "metadata": {
    "collapsed": false,
    "is_executing": true
   },
   "id": "7db9ea99edcd953e"
  }
 ],
 "metadata": {
  "kernelspec": {
   "display_name": "Python 3",
   "language": "python",
   "name": "python3"
  },
  "language_info": {
   "codemirror_mode": {
    "name": "ipython",
    "version": 2
   },
   "file_extension": ".py",
   "mimetype": "text/x-python",
   "name": "python",
   "nbconvert_exporter": "python",
   "pygments_lexer": "ipython2",
   "version": "2.7.6"
  }
 },
 "nbformat": 4,
 "nbformat_minor": 5
}
