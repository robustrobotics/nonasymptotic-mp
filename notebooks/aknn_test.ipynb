{
 "cells": [
  {
   "metadata": {
    "ExecuteTime": {
     "end_time": "2024-04-24T22:22:45.041674Z",
     "start_time": "2024-04-24T22:22:40.704354Z"
    }
   },
   "cell_type": "code",
   "source": [
    "from numpy import random\n",
    "import kgraph\n",
    "import time\n",
    "\n",
    "K = 32\n",
    "L = 100\n",
    "dataset = random.rand(100000, 16)\n",
    "\n",
    "index = kgraph.KGraph(dataset, 'euclidean')  # another option is 'angular'\n",
    "\n",
    "graph_construct_st = time.process_time()\n",
    "index.build(reverse=0, K=K, L=L)                        #\n",
    "graph_construct_et = time.process_time()\n",
    "print('Construct time: ' + str(graph_construct_et - graph_construct_st))\n",
    "\n",
    "graph_query_st = time.process_time()\n",
    "knn = index.search(dataset, K=K)\n",
    "graph_query_et = time.process_time()\n",
    "print('Query time: ' + str(graph_query_et - graph_query_st))\n",
    "\n",
    "# index.save(\"index_file\")\n",
    "# load with index.load(\"index_file\");\n",
    "\n",
    "# knn = index.search(query, K=10)                       # this uses all CPU threads\n",
    "# knn = index.search(query, K=1000, P=100)              # search for 1000-nn, no need to recompute index."
   ],
   "id": "ca0f9cc8738e1f87",
   "outputs": [
    {
     "name": "stderr",
     "output_type": "stream",
     "text": [
      "Generating control...\n",
      "Initializing...\n",
      "iteration: 1 recall: 0.0028125 accuracy: 1.51349 cost: 0.00380004 M: 10 delta: 1 time: 0.422607 one-recall: 0.01 one-ratio: 2.40687\n",
      "iteration: 2 recall: 0.0278125 accuracy: 0.901114 cost: 0.00597253 M: 10 delta: 0.763452 time: 0.64321 one-recall: 0.06 one-ratio: 1.72541\n",
      "iteration: 3 recall: 0.128438 accuracy: 0.432266 cost: 0.00986408 M: 12.5898 delta: 0.759856 time: 0.908124 one-recall: 0.24 one-ratio: 1.30078\n",
      "iteration: 4 recall: 0.407187 accuracy: 0.158893 cost: 0.0140328 M: 12.8419 delta: 0.681793 time: 1.16327 one-recall: 0.52 one-ratio: 1.11349\n",
      "iteration: 5 recall: 0.730937 accuracy: 0.0416323 cost: 0.0185287 M: 14.5704 delta: 0.535571 time: 1.4148 one-recall: 0.9 one-ratio: 1.02169\n",
      "iteration: 6 recall: 0.909688 accuracy: 0.0106529 cost: 0.024501 M: 20.2068 delta: 0.308374 time: 1.68961 one-recall: 0.98 one-ratio: 1.00624\n",
      "iteration: 7 recall: 0.974375 accuracy: 0.00273955 cost: 0.0324863 M: 28.5304 delta: 0.112313 time: 1.98494 one-recall: 0.99 one-ratio: 1.00502\n",
      "iteration: 8 recall: 0.993125 accuracy: 0.000533997 cost: 0.0399583 M: 34.2434 delta: 0.0472766 time: 2.22786 one-recall: 1 one-ratio: 1\n"
     ]
    },
    {
     "name": "stdout",
     "output_type": "stream",
     "text": [
      "Construct time: 33.247604244\n",
      "Query time: 25.675380523\n"
     ]
    }
   ],
   "execution_count": 1
  },
  {
   "metadata": {
    "ExecuteTime": {
     "end_time": "2024-04-24T22:25:34.611614Z",
     "start_time": "2024-04-24T22:25:34.599710Z"
    }
   },
   "cell_type": "code",
   "source": "import SPTAG",
   "id": "cf0d69746c0c413f",
   "outputs": [
    {
     "ename": "ModuleNotFoundError",
     "evalue": "No module named 'SPTAG'",
     "output_type": "error",
     "traceback": [
      "\u001B[0;31m---------------------------------------------------------------------------\u001B[0m",
      "\u001B[0;31mModuleNotFoundError\u001B[0m                       Traceback (most recent call last)",
      "Cell \u001B[0;32mIn[6], line 1\u001B[0m\n\u001B[0;32m----> 1\u001B[0m \u001B[38;5;28;01mimport\u001B[39;00m \u001B[38;5;21;01mSPTAG\u001B[39;00m\n",
      "\u001B[0;31mModuleNotFoundError\u001B[0m: No module named 'SPTAG'"
     ]
    }
   ],
   "execution_count": 6
  }
 ],
 "metadata": {
  "kernelspec": {
   "display_name": "Python 3",
   "language": "python",
   "name": "python3"
  },
  "language_info": {
   "codemirror_mode": {
    "name": "ipython",
    "version": 2
   },
   "file_extension": ".py",
   "mimetype": "text/x-python",
   "name": "python",
   "nbconvert_exporter": "python",
   "pygments_lexer": "ipython2",
   "version": "2.7.6"
  }
 },
 "nbformat": 4,
 "nbformat_minor": 5
}
