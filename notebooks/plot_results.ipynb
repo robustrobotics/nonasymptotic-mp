{
 "cells": [
  {
   "cell_type": "code",
   "execution_count": 13,
   "metadata": {
    "ExecuteTime": {
     "end_time": "2023-06-12T03:39:06.332846949Z",
     "start_time": "2023-06-12T03:39:06.331794086Z"
    }
   },
   "outputs": [],
   "source": [
    "import math\n",
    "\n",
    "import pandas as pd\n",
    "import numpy as np\n",
    "import matplotlib.pyplot as plt\n",
    "import seaborn as sns\n",
    "import json\n",
    "import os"
   ]
  },
  {
   "cell_type": "code",
   "execution_count": 14,
   "metadata": {
    "ExecuteTime": {
     "end_time": "2023-06-12T03:21:25.857312845Z",
     "start_time": "2023-06-12T03:21:25.814181763Z"
    }
   },
   "outputs": [],
   "source": [
    "# specify experiment date\n",
    "log_date = '06-11-2023'\n",
    "log_name = ''"
   ]
  },
  {
   "cell_type": "code",
   "execution_count": 15,
   "metadata": {
    "ExecuteTime": {
     "end_time": "2023-06-12T03:21:26.932589083Z",
     "start_time": "2023-06-12T03:21:26.928880683Z"
    }
   },
   "outputs": [],
   "source": [
    "# compute log directory, params, etc\n",
    "log_dir = os.path.join('data', log_date + '_' + log_name)\n",
    "\n",
    "with open(os.path.join(log_dir, 'params.json'), 'r') as handle:\n",
    "    params = json.load(handle)\n",
    "\n",
    "# reconstruct the dataframe\n",
    "all_d_frames = []\n",
    "for d in params['ds']:\n",
    "    all_d_frames.append(pd.read_pickle(os.path.join(log_dir, 'prm_%s_d%i.pkl' % (log_date, d))))\n",
    "\n",
    "all_ds_df = pd.concat(all_d_frames, axis=1, keys=params['ds'], names=['dimension', 'n samples'])"
   ]
  },
  {
   "cell_type": "code",
   "execution_count": 16,
   "metadata": {
    "ExecuteTime": {
     "end_time": "2023-06-12T03:50:38.549638184Z",
     "start_time": "2023-06-12T03:50:38.544430636Z"
    }
   },
   "outputs": [
    {
     "data": {
      "text/html": [
       "<div>\n",
       "<style scoped>\n",
       "    .dataframe tbody tr th:only-of-type {\n",
       "        vertical-align: middle;\n",
       "    }\n",
       "\n",
       "    .dataframe tbody tr th {\n",
       "        vertical-align: top;\n",
       "    }\n",
       "\n",
       "    .dataframe thead tr th {\n",
       "        text-align: left;\n",
       "    }\n",
       "</style>\n",
       "<table border=\"1\" class=\"dataframe\">\n",
       "  <thead>\n",
       "    <tr>\n",
       "      <th>dimension</th>\n",
       "      <th colspan=\"5\" halign=\"left\">2</th>\n",
       "      <th colspan=\"5\" halign=\"left\">4</th>\n",
       "      <th colspan=\"5\" halign=\"left\">6</th>\n",
       "    </tr>\n",
       "    <tr>\n",
       "      <th>n samples</th>\n",
       "      <th>10</th>\n",
       "      <th>100</th>\n",
       "      <th>1000</th>\n",
       "      <th>10000</th>\n",
       "      <th>100000</th>\n",
       "      <th>10</th>\n",
       "      <th>100</th>\n",
       "      <th>1000</th>\n",
       "      <th>10000</th>\n",
       "      <th>100000</th>\n",
       "      <th>10</th>\n",
       "      <th>100</th>\n",
       "      <th>1000</th>\n",
       "      <th>10000</th>\n",
       "      <th>100000</th>\n",
       "    </tr>\n",
       "  </thead>\n",
       "  <tbody>\n",
       "    <tr>\n",
       "      <th>0</th>\n",
       "      <td>0.5</td>\n",
       "      <td>1.0</td>\n",
       "      <td>1.0</td>\n",
       "      <td>0.5</td>\n",
       "      <td>0.5</td>\n",
       "      <td>0.0</td>\n",
       "      <td>0.0</td>\n",
       "      <td>0.0</td>\n",
       "      <td>0.0</td>\n",
       "      <td>0.0</td>\n",
       "      <td>0.0</td>\n",
       "      <td>0.0</td>\n",
       "      <td>0.0</td>\n",
       "      <td>0.0</td>\n",
       "      <td>0.0</td>\n",
       "    </tr>\n",
       "  </tbody>\n",
       "</table>\n",
       "</div>"
      ],
      "text/plain": [
       "dimension      2                                  4                       \\\n",
       "n samples 10     100    1000   10000  100000 10     100    1000   10000    \n",
       "0            0.5    1.0    1.0    0.5    0.5    0.0    0.0    0.0    0.0   \n",
       "\n",
       "dimension             6                              \n",
       "n samples 100000 10     100    1000   10000  100000  \n",
       "0            0.0    0.0    0.0    0.0    0.0    0.0  "
      ]
     },
     "execution_count": 16,
     "metadata": {},
     "output_type": "execute_result"
    }
   ],
   "source": [
    "# first, take floor so non-perfect trials are zeroes out\n",
    "all_ds_df_floored = all_ds_df.apply(np.floor)\n",
    "\n",
    "# now sum across trials, divide for prob estimate\n",
    "all_ds_df_likelihoods = all_ds_df_floored.sum(axis=0).divide(params['n_trials']).to_frame().transpose()\n",
    "\n",
    "all_ds_df_likelihoods"
   ]
  },
  {
   "cell_type": "code",
   "execution_count": 17,
   "metadata": {
    "ExecuteTime": {
     "end_time": "2023-06-12T03:21:29.760202880Z",
     "start_time": "2023-06-12T03:21:29.756708783Z"
    }
   },
   "outputs": [
    {
     "data": {
      "text/html": [
       "<div>\n",
       "<style scoped>\n",
       "    .dataframe tbody tr th:only-of-type {\n",
       "        vertical-align: middle;\n",
       "    }\n",
       "\n",
       "    .dataframe tbody tr th {\n",
       "        vertical-align: top;\n",
       "    }\n",
       "\n",
       "    .dataframe thead th {\n",
       "        text-align: right;\n",
       "    }\n",
       "</style>\n",
       "<table border=\"1\" class=\"dataframe\">\n",
       "  <thead>\n",
       "    <tr style=\"text-align: right;\">\n",
       "      <th></th>\n",
       "      <th>dimension</th>\n",
       "      <th>n samples</th>\n",
       "      <th>value</th>\n",
       "    </tr>\n",
       "  </thead>\n",
       "  <tbody>\n",
       "    <tr>\n",
       "      <th>0</th>\n",
       "      <td>2</td>\n",
       "      <td>10</td>\n",
       "      <td>0.5</td>\n",
       "    </tr>\n",
       "    <tr>\n",
       "      <th>1</th>\n",
       "      <td>2</td>\n",
       "      <td>100</td>\n",
       "      <td>1.0</td>\n",
       "    </tr>\n",
       "    <tr>\n",
       "      <th>2</th>\n",
       "      <td>2</td>\n",
       "      <td>1000</td>\n",
       "      <td>1.0</td>\n",
       "    </tr>\n",
       "    <tr>\n",
       "      <th>3</th>\n",
       "      <td>2</td>\n",
       "      <td>10000</td>\n",
       "      <td>0.5</td>\n",
       "    </tr>\n",
       "    <tr>\n",
       "      <th>4</th>\n",
       "      <td>2</td>\n",
       "      <td>100000</td>\n",
       "      <td>0.5</td>\n",
       "    </tr>\n",
       "    <tr>\n",
       "      <th>5</th>\n",
       "      <td>4</td>\n",
       "      <td>10</td>\n",
       "      <td>0.0</td>\n",
       "    </tr>\n",
       "    <tr>\n",
       "      <th>6</th>\n",
       "      <td>4</td>\n",
       "      <td>100</td>\n",
       "      <td>0.0</td>\n",
       "    </tr>\n",
       "    <tr>\n",
       "      <th>7</th>\n",
       "      <td>4</td>\n",
       "      <td>1000</td>\n",
       "      <td>0.0</td>\n",
       "    </tr>\n",
       "    <tr>\n",
       "      <th>8</th>\n",
       "      <td>4</td>\n",
       "      <td>10000</td>\n",
       "      <td>0.0</td>\n",
       "    </tr>\n",
       "    <tr>\n",
       "      <th>9</th>\n",
       "      <td>4</td>\n",
       "      <td>100000</td>\n",
       "      <td>0.0</td>\n",
       "    </tr>\n",
       "    <tr>\n",
       "      <th>10</th>\n",
       "      <td>6</td>\n",
       "      <td>10</td>\n",
       "      <td>0.0</td>\n",
       "    </tr>\n",
       "    <tr>\n",
       "      <th>11</th>\n",
       "      <td>6</td>\n",
       "      <td>100</td>\n",
       "      <td>0.0</td>\n",
       "    </tr>\n",
       "    <tr>\n",
       "      <th>12</th>\n",
       "      <td>6</td>\n",
       "      <td>1000</td>\n",
       "      <td>0.0</td>\n",
       "    </tr>\n",
       "    <tr>\n",
       "      <th>13</th>\n",
       "      <td>6</td>\n",
       "      <td>10000</td>\n",
       "      <td>0.0</td>\n",
       "    </tr>\n",
       "    <tr>\n",
       "      <th>14</th>\n",
       "      <td>6</td>\n",
       "      <td>100000</td>\n",
       "      <td>0.0</td>\n",
       "    </tr>\n",
       "  </tbody>\n",
       "</table>\n",
       "</div>"
      ],
      "text/plain": [
       "    dimension  n samples  value\n",
       "0           2         10    0.5\n",
       "1           2        100    1.0\n",
       "2           2       1000    1.0\n",
       "3           2      10000    0.5\n",
       "4           2     100000    0.5\n",
       "5           4         10    0.0\n",
       "6           4        100    0.0\n",
       "7           4       1000    0.0\n",
       "8           4      10000    0.0\n",
       "9           4     100000    0.0\n",
       "10          6         10    0.0\n",
       "11          6        100    0.0\n",
       "12          6       1000    0.0\n",
       "13          6      10000    0.0\n",
       "14          6     100000    0.0"
      ]
     },
     "execution_count": 17,
     "metadata": {},
     "output_type": "execute_result"
    }
   ],
   "source": [
    "all_ds_df_likelihoods.melt()"
   ]
  },
  {
   "cell_type": "code",
   "execution_count": 18,
   "metadata": {
    "ExecuteTime": {
     "end_time": "2023-06-12T03:57:50.175575662Z",
     "start_time": "2023-06-12T03:57:50.169641705Z"
    }
   },
   "outputs": [
    {
     "name": "stderr",
     "output_type": "stream",
     "text": [
      "/tmp/ipykernel_732815/1707483540.py:8: RuntimeWarning: overflow encountered in exp\n",
      "  return 2 / np.exp(exponent)\n"
     ]
    }
   ],
   "source": [
    "# compute the probability the bound would give and load into dataframe\n",
    "def vol_unit_d_ball(d):\n",
    "    return math.pow(math.pi, float(d) / 2) / math.gamma(float(d / 2) + 1)\n",
    "\n",
    "def compute_failure_prob_from_sample(m, tol, d):\n",
    "    alpha = tol / math.sqrt(1 + tol * tol)\n",
    "    exponent =  m * math.pow(alpha, d) * vol_unit_d_ball(d) / 4\n",
    "    return 2 / np.exp(exponent)\n",
    "\n",
    "ms = np.array(params['sample_schedule'])\n",
    "success_probs = []\n",
    "for d in params['ds']:\n",
    "    success_prob = 1 - compute_failure_prob_from_sample(ms, params['tol'], d)\n",
    "    success_probs.append(success_prob)\n",
    "\n",
    "mc = pd.MultiIndex.from_product([params['ds'], params['sample_schedule']],\n",
    "                                names=['dimension', 'n samples'])\n",
    "theoretical_likelihood_bound = pd.DataFrame(np.concatenate(success_probs).reshape(1, -1), columns=mc)"
   ]
  },
  {
   "cell_type": "code",
   "execution_count": 20,
   "metadata": {
    "ExecuteTime": {
     "end_time": "2023-06-12T04:02:39.616739182Z",
     "start_time": "2023-06-12T04:02:39.124936698Z"
    }
   },
   "outputs": [
    {
     "data": {
      "image/png": "[encoded data removed]",
      "text/plain": [
       "<Figure size 640x480 with 1 Axes>"
      ]
     },
     "metadata": {},
     "output_type": "display_data"
    }
   ],
   "source": [
    "bound_and_experiment_df = pd.concat(\n",
    "    [all_ds_df_likelihoods, theoretical_likelihood_bound],\n",
    "    axis=1,\n",
    "    keys=['experiment', 'predicted'],\n",
    "    names=['theo or exp']\n",
    ")\n",
    "\n",
    "# melt the data into long form, plot on seaborn\n",
    "likelihoods_long_form = bound_and_experiment_df.melt(value_name='p rel opt')\n",
    "\n",
    "plt.figure()\n",
    "sns.set_theme(style='whitegrid')\n",
    "sns.lineplot(x='n samples', y='p rel opt', hue='dimension', style='theo or exp', data=likelihoods_long_form)\n",
    "plt.xscale('log')\n",
    "plt.legend(loc='lower right')\n",
    "plt.title('Prob all paths are rel optimal, tol=%f n_trials=%i n_paths=%i' % (params['tol'], params['n_trials'], params['n_paths']))\n",
    "\n",
    "# compute the result the bound would give\n",
    "plt.show()\n"
   ]
  },
  {
   "cell_type": "code",
   "execution_count": null,
   "metadata": {},
   "outputs": [],
   "source": []
  }
 ],
 "metadata": {
  "kernelspec": {
   "display_name": "Python 3 (ipykernel)",
   "language": "python",
   "name": "python3"
  },
  "language_info": {
   "codemirror_mode": {
    "name": "ipython",
    "version": 3
   },
   "file_extension": ".py",
   "mimetype": "text/x-python",
   "name": "python",
   "nbconvert_exporter": "python",
   "pygments_lexer": "ipython3",
   "version": "3.8.10"
  }
 },
 "nbformat": 4,
 "nbformat_minor": 1
}
