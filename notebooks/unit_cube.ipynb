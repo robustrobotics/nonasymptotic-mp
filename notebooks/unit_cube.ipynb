{
 "cells": [
  {
   "cell_type": "code",
   "execution_count": null,
   "outputs": [],
   "source": [
    "# [x] see if we have multi query capabilities\n",
    "# [x] expose connection radius infrastructure\n",
    "    # what we want:\n",
    "    # [x] we want to create new states first with a specific connection radius - implement a ConnectionFilter instead of trying to import BoundedConnectionStrategy\n",
    "    # [x] then we want to reconfigure the planner to only create new states when adding start and goals without growing the roadmap more (just 'using') - clear input query every time\n",
    "# [x] decide on experiment apparatus\n",
    "    # Run from d: 2....20\n",
    "    # Naive: Pre-constructed instance (empty, narrow corridor, etc.). Then run with m (~500>) different roadmaps. Each roadmap is a single Monte-Carlo sample.\n",
    "    # Naive: Run n trials on one roadmap <-- problem: number of trials we need to run scales alongside epsilon nets. ironic! ~either sample new states or just reuse graph states? sample lots of states and reuse?\n",
    "# [x] write up experiment apparatus\n",
    "    # [x] switch to manually defining problems instead of simple setup since we need more control\n",
    "    # [x] define validation of ONE d-dimensional roadmap\n",
    "    # [x] add in multiple d-dimensional roadmaps\n",
    "    # [x] add in control of graph growth in solution criterion\n",
    "    # [x] add in parameter/n prob solution infrastructure\n",
    "        # AS SAMPLES INCREASE m inc.\n",
    "            # maintain a list of tolerances\n",
    "    # [x] add in pandas dataframe charting infrastructure\n",
    "        # current array format: N_trial x M_sample x T_tol -> # frac paths rel opt\n",
    "# [ ] design parameters and run experiment\n",
    "    # --what is likely going to happen is that given the current level of control we have form the python bindings, since we can only query individual paths, it's going to be too slow.\n",
    "    # --run anyway so we can present data to nick\n",
    "    # --but for interpretability, _now_ formally prove the result that means `if we want uniform converage with \\epsilon-optimality' => we need an \\epsilon'-net"
   ],
   "metadata": {
    "collapsed": false
   }
  },
  {
   "cell_type": "code",
   "execution_count": 5,
   "outputs": [
    {
     "name": "stdout",
     "output_type": "stream",
     "text": [
      "env: OMPL_PATH=/home/seiji/Research/ompl/py-bindings\n"
     ]
    }
   ],
   "source": [
    "%env OMPL_PATH=/home/seiji/Research/ompl/py-bindings\n",
    "from nonasymptotic import ompl\n",
    "from ompl import base as ob\n",
    "from ompl import geometric as og\n",
    "\n",
    "import numpy as np\n",
    "import pandas as pd\n",
    "from datetime import datetime\n",
    "import json\n",
    "import os"
   ],
   "metadata": {
    "collapsed": false,
    "ExecuteTime": {
     "end_time": "2023-06-12T04:03:39.126971856Z",
     "start_time": "2023-06-12T04:03:39.121318115Z"
    }
   }
  },
  {
   "cell_type": "code",
   "execution_count": 6,
   "outputs": [],
   "source": [
    "# defining free parameters: dimension, obstacles (i.e. state validity)\n",
    "sample_schedule = [10, 100, 1000, 10000, 100000]\n",
    "tol = 0.5\n",
    "n_trials = 500\n",
    "ds = [2, 6, 10, 14, 17, 20]\n",
    "r = tol / np.sqrt(1 + tol * tol)\n",
    "n_paths = 500 # should be a function of dimensionality in the future for coverage\n",
    "is_state_valid = lambda state: True"
   ],
   "metadata": {
    "collapsed": false,
    "ExecuteTime": {
     "end_time": "2023-06-12T04:03:40.517732326Z",
     "start_time": "2023-06-12T04:03:40.512594022Z"
    }
   }
  },
  {
   "cell_type": "code",
   "execution_count": 7,
   "outputs": [],
   "source": [
    "# make a new log directory and save experiment params\n",
    "name = 'long'\n",
    "date_str = datetime.now().strftime('%m-%d-%Y')\n",
    "log_dir = 'data/' + date_str + '_' + name\n",
    "try:\n",
    "    os.mkdir(log_dir)\n",
    "except FileExistsError:\n",
    "    print('WARNING: Made that log directory already!')\n",
    "\n",
    "params = {\n",
    "    \"sample_schedule\": sample_schedule,\n",
    "    \"tol\": tol,\n",
    "    \"ds\": ds,\n",
    "    \"n_paths\": n_paths,\n",
    "    \"n_trials\": n_trials,\n",
    "}\n",
    "\n",
    "with open(os.path.join(log_dir, 'params.json'), 'w') as handle:\n",
    "    json.dump(params, handle, indent=4)\n"
   ],
   "metadata": {
    "collapsed": false,
    "ExecuteTime": {
     "end_time": "2023-06-12T04:03:43.489729278Z",
     "start_time": "2023-06-12T04:03:43.486537120Z"
    }
   }
  },
  {
   "cell_type": "code",
   "execution_count": 8,
   "outputs": [
    {
     "ename": "KeyboardInterrupt",
     "evalue": "",
     "output_type": "error",
     "traceback": [
      "\u001B[0;31m---------------------------------------------------------------------------\u001B[0m",
      "\u001B[0;31mKeyboardInterrupt\u001B[0m                         Traceback (most recent call last)",
      "Cell \u001B[0;32mIn[8], line 47\u001B[0m\n\u001B[1;32m     44\u001B[0m planner\u001B[38;5;241m.\u001B[39mgrowRoadmap(term_cond)\n\u001B[1;32m     46\u001B[0m \u001B[38;5;66;03m# allow to create _one_ state\u001B[39;00m\n\u001B[0;32m---> 47\u001B[0m solved \u001B[38;5;241m=\u001B[39m \u001B[43mplanner\u001B[49m\u001B[38;5;241;43m.\u001B[39;49m\u001B[43msolve\u001B[49m\u001B[43m(\u001B[49m\u001B[38;5;241;43m0.0001\u001B[39;49m\u001B[43m)\u001B[49m\n\u001B[1;32m     49\u001B[0m \u001B[38;5;28;01mif\u001B[39;00m \u001B[38;5;28mstr\u001B[39m(solved) \u001B[38;5;241m==\u001B[39m \u001B[38;5;124m'\u001B[39m\u001B[38;5;124mExact solution\u001B[39m\u001B[38;5;124m'\u001B[39m:\n\u001B[1;32m     50\u001B[0m     path \u001B[38;5;241m=\u001B[39m pdef\u001B[38;5;241m.\u001B[39mgetSolutionPath()\n",
      "\u001B[0;31mKeyboardInterrupt\u001B[0m: "
     ]
    }
   ],
   "source": [
    "for d in ds:\n",
    "    # set up unit cube space with obstacles\n",
    "    space = ob.RealVectorStateSpace(d)\n",
    "    space.setBounds(0.0, 1.0)\n",
    "\n",
    "    si = ob.SpaceInformation(space)\n",
    "    si.setStateValidityChecker(ob.StateValidityCheckerFn(is_state_valid))\n",
    "    pdef = ob.ProblemDefinition(si)\n",
    "\n",
    "    # set up the PRM planner\n",
    "    planner = og.PRM(si)\n",
    "    accept_if_within_r = lambda v1, v2: planner.distanceFunction(v1, v2) <= r\n",
    "    planner.setConnectionFilter(og.ConnectionFilter(accept_if_within_r))\n",
    "    planner.setProblemDefinition(pdef)\n",
    "    planner.setup() # no harm in recalling if setup already\n",
    "\n",
    "    rec = np.zeros((n_trials, len(sample_schedule)))\n",
    "\n",
    "    for i_trial in range(n_trials):\n",
    "        planner.clear()\n",
    "        pdef.clearStartStates()\n",
    "        pdef.clearGoal()\n",
    "\n",
    "        # save fraction of rel-optness\n",
    "        for i_sample, m_samples in enumerate(sample_schedule):\n",
    "            num_rel_opt_paths = 0\n",
    "            graph_has_m_samples = lambda: planner.milestoneCount() >= m_samples\n",
    "            term_cond = ob.PlannerTerminationConditionFn(graph_has_m_samples)\n",
    "            for i_path in range(n_paths):\n",
    "                # set up problem instance\n",
    "                start = ob.State(space)\n",
    "                start.random()\n",
    "\n",
    "                goal = ob.State(space)\n",
    "                goal.random()\n",
    "\n",
    "                # compute optimum (remember to turn objects into pointers!)\n",
    "                opt_len = space.distance(start(), goal())\n",
    "\n",
    "                planner.clearQuery() # clear previous queries so we can multi-query\n",
    "                pdef.setStartAndGoalStates(start, goal)\n",
    "\n",
    "                # need to grow first to get to the # of states we want\n",
    "                planner.growRoadmap(term_cond)\n",
    "\n",
    "                # allow to create _one_ state\n",
    "                solved = planner.solve(0.0001)\n",
    "\n",
    "                if str(solved) == 'Exact solution':\n",
    "                    path = pdef.getSolutionPath()\n",
    "                    length = path.length()\n",
    "                    opt_tol = (1 + tol) * opt_len\n",
    "                    within_tols = int(length < opt_tol)\n",
    "                    num_rel_opt_paths += within_tols\n",
    "\n",
    "            rec[i_trial, i_sample] = float(num_rel_opt_paths) / n_paths\n",
    "\n",
    "    # save data\n",
    "    df = pd.DataFrame(rec, index=range(n_trials), columns=sample_schedule)\n",
    "    df.to_pickle(os.path.join(log_dir, 'prm_%s_d%i.pkl' % (date_str, d)))\n"
   ],
   "metadata": {
    "collapsed": false,
    "ExecuteTime": {
     "end_time": "2023-06-12T04:04:07.068132670Z",
     "start_time": "2023-06-12T04:03:55.352950116Z"
    }
   }
  },
  {
   "cell_type": "markdown",
   "source": [],
   "metadata": {
    "collapsed": false
   }
  }
 ],
 "metadata": {
  "kernelspec": {
   "display_name": "Python 3",
   "language": "python",
   "name": "python3"
  },
  "language_info": {
   "codemirror_mode": {
    "name": "ipython",
    "version": 2
   },
   "file_extension": ".py",
   "mimetype": "text/x-python",
   "name": "python",
   "nbconvert_exporter": "python",
   "pygments_lexer": "ipython2",
   "version": "2.7.6"
  }
 },
 "nbformat": 4,
 "nbformat_minor": 0
}
