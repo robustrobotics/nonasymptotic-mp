{
 "cells": [
  {
   "cell_type": "code",
   "execution_count": null,
   "outputs": [],
   "source": [
    "# [x] see if we have multi query capabilities\n",
    "# [x] expose connection radius infrastructure\n",
    "    # what we want:\n",
    "    # [x] we want to create new states first with a specific connection radius - implement a ConnectionFilter instead of trying to import BoundedConnectionStrategy\n",
    "    # [x] then we want to reconfigure the planner to only create new states when adding start and goals without growing the roadmap more (just 'using') - clear input query every time\n",
    "# [x] decide on experiment apparatus\n",
    "    # Run from d: 2....20\n",
    "    # Naive: Pre-constructed instance (empty, narrow corridor, etc.). Then run with m (~500>) different roadmaps. Each roadmap is a single Monte-Carlo sample.\n",
    "    # Naive: Run n trials on one roadmap <-- problem: number of trials we need to run scales alongside epsilon nets. ironic! ~either sample new states or just reuse graph states? sample lots of states and reuse?\n",
    "# [ ] write up experiment apparatus\n",
    "    # [x] switch to manually defining problems instead of simple setup since we need more control\n",
    "    # [x] define validation of ONE d-dimensional roadmap\n",
    "    # [x] add in multiple d-dimensional roadmaps\n",
    "    # [x] add in control of graph growth in solution criterion\n",
    "    # [x] add in parameter/n prob solution infrastructure\n",
    "        # AS SAMPLES INCREASE m inc.\n",
    "            # maintain a list of tolerances\n",
    "    # [x] add in pandas dataframe charting infrastructure\n",
    "        # current array format: N_trial x M_sample x T_tol -> # frac paths rel opt\n",
    "# [ ] design parameters and run experiment\n",
    "    # --what is likely going to happen is that given the current level of control we have form the python bindings, since we can only query individual paths, it's going to be too slow.\n",
    "    # --run anyway so we can present data to nick\n",
    "    # --but for interpretability, _now_ formally prove the result that means `if we want uniform converage with \\epsilon-optimality' => we need an \\epsilon'-net"
   ],
   "metadata": {
    "collapsed": false
   }
  },
  {
   "cell_type": "code",
   "execution_count": 8,
   "outputs": [
    {
     "name": "stdout",
     "output_type": "stream",
     "text": [
      "env: OMPL_PATH=/home/seiji/Research/ompl/py-bindings\n"
     ]
    }
   ],
   "source": [
    "%env OMPL_PATH=/home/seiji/Research/ompl/py-bindings\n",
    "from nonasymptotic import ompl\n",
    "from ompl import base as ob\n",
    "from ompl import geometric as og\n",
    "\n",
    "import numpy as np\n",
    "import pandas as pd\n",
    "from datetime import datetime"
   ],
   "metadata": {
    "collapsed": false,
    "ExecuteTime": {
     "end_time": "2023-06-11T22:08:04.052144953Z",
     "start_time": "2023-06-11T22:08:04.010114864Z"
    }
   }
  },
  {
   "cell_type": "code",
   "execution_count": 2,
   "outputs": [],
   "source": [
    "# defining free parameters: dimension, obstacles (i.e. state validity)\n",
    "sample_schedule = [10, 100, 1000, 10000, 100000, 1000000]\n",
    "tols = np.array([0.5, 0.25, 0.1, 0.05])\n",
    "n_trials = 5000\n",
    "d = 3\n",
    "r = 0.5\n",
    "n_paths = 1000 # should be a function of dimensionality in the future for coverage\n",
    "is_state_valid = lambda state: True"
   ],
   "metadata": {
    "collapsed": false,
    "ExecuteTime": {
     "end_time": "2023-06-11T17:39:35.064281880Z",
     "start_time": "2023-06-11T17:39:35.061409218Z"
    }
   }
  },
  {
   "cell_type": "code",
   "execution_count": 6,
   "outputs": [
    {
     "ename": "SyntaxError",
     "evalue": "unexpected EOF while parsing (1798147844.py, line 34)",
     "output_type": "error",
     "traceback": [
      "\u001B[0;36m  Cell \u001B[0;32mIn[6], line 34\u001B[0;36m\u001B[0m\n\u001B[0;31m    else:\u001B[0m\n\u001B[0m         ^\u001B[0m\n\u001B[0;31mSyntaxError\u001B[0m\u001B[0;31m:\u001B[0m unexpected EOF while parsing\n"
     ]
    }
   ],
   "source": [
    "# set up unit cube space with obstacles\n",
    "space = ob.RealVectorStateSpace(d)\n",
    "space.setBounds(0.0, 1.0)\n",
    "\n",
    "si = ob.SpaceInformation(space)\n",
    "si.setStateValidityChecker(ob.StateValidityCheckerFn(is_state_valid))\n",
    "pdef = ob.ProblemDefinition(si)\n",
    "\n",
    "# set up the PRM planner\n",
    "planner = og.PRM(si)\n",
    "accept_if_within_r = lambda v1, v2: planner.distanceFunction(v1, v2) <= r\n",
    "planner.setConnectionFilter(og.ConnectionFilter(accept_if_within_r))\n",
    "planner.setProblemDefinition(pdef)\n",
    "\n",
    "rec = np.array((n_trials, len(sample_schedule), tols.size))\n",
    "\n",
    "for i_trial in range(n_trials):\n",
    "    planner.clear()\n",
    "    pdef.clearStartStates()\n",
    "    pdef.clearGoal()\n",
    "\n",
    "    # save fraction of rel-optness\n",
    "    for i_sample, m_samples in enumerate(sample_schedule):\n",
    "        num_rel_opt_paths = np.zeros_like(tols)\n",
    "        graph_has_m_samples = lambda: planner.milestoneCount() >= m_samples\n",
    "        term_cond = ob.PlannerTerminationConditionFn(graph_has_m_samples)\n",
    "        for i_path in range(n_paths):\n",
    "            # set up problem instance\n",
    "            start = ob.State(space)\n",
    "            start.random()\n",
    "\n",
    "            goal = ob.State(space)\n",
    "            goal.random()\n",
    "\n",
    "            # compute optimum\n",
    "            opt_len = planner.distanceFunction(start, goal)\n",
    "            planner.clearQuery() # clear previous queries so we can multi-query\n",
    "            pdef.setStartAndGoalStates(start, goal)\n",
    "\n",
    "            planner.setup() # no harm in recalling if setup already\n",
    "            solved = planner.solve(term_cond)\n",
    "\n",
    "            if solved:\n",
    "                path = pdef.getSolutionPath()\n",
    "                length = path.length()\n",
    "\n",
    "                num_rel_opt_paths += np.less_equal(length, (1 + tols) * opt_len, dtype=np.int)\n",
    "\n",
    "        rec[i_trial, i_sample, :] = num_rel_opt_paths"
   ],
   "metadata": {
    "collapsed": false,
    "ExecuteTime": {
     "end_time": "2023-06-11T18:01:34.717076968Z",
     "start_time": "2023-06-11T18:01:34.679111484Z"
    }
   }
  },
  {
   "cell_type": "code",
   "execution_count": null,
   "outputs": [],
   "source": [
    "# save data\n",
    "mc = pd.MultiIndex.from_product([sample_schedule, tols], names=['n samples', 'tolerance'])\n",
    "d = pd.DataFrame(rec.reshape((n_trials, -1), order='C'), index=range(n_trials), columns=mc)\n",
    "d.to_pickle('data/prm_%s_%d.pkl' % (datetime.now().strftime('%m-%d-%Y'), d))"
   ],
   "metadata": {
    "collapsed": false
   }
  }
 ],
 "metadata": {
  "kernelspec": {
   "display_name": "Python 3",
   "language": "python",
   "name": "python3"
  },
  "language_info": {
   "codemirror_mode": {
    "name": "ipython",
    "version": 2
   },
   "file_extension": ".py",
   "mimetype": "text/x-python",
   "name": "python",
   "nbconvert_exporter": "python",
   "pygments_lexer": "ipython2",
   "version": "2.7.6"
  }
 },
 "nbformat": 4,
 "nbformat_minor": 0
}
