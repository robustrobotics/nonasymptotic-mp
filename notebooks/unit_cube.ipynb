{
 "cells": [
  {
   "cell_type": "code",
   "execution_count": 1,
   "metadata": {},
   "outputs": [],
   "source": [
    "# [x] see if we have multi query capabilities\n",
    "# [x] expose connection radius infrastructure\n",
    "# what we want:\n",
    "# [x] we want to create new states first with a specific connection radius - implement a ConnectionFilter instead of trying to import BoundedConnectionStrategy\n",
    "# [x] then we want to reconfigure the planner to only create new states when adding start and goals without growing the roadmap more (just 'using') - clear input query every time\n",
    "# [x] decide on experiment apparatus\n",
    "# Run from d: 2....20\n",
    "# Naive: Pre-constructed instance (empty, narrow corridor, etc.). Then run with m (~500>) different roadmaps. Each roadmap is a single Monte-Carlo sample.\n",
    "# Naive: Run n trials on one roadmap <-- problem: number of trials we need to run scales alongside epsilon nets. ironic! ~either sample new states or just reuse graph states? sample lots of states and reuse?\n",
    "# [x] write up experiment apparatus\n",
    "# [x] switch to manually defining problems instead of simple setup since we need more control\n",
    "# [x] define validation of ONE d-dimensional roadmap\n",
    "# [x] add in multiple d-dimensional roadmaps\n",
    "# [x] add in control of graph growth in solution criterion\n",
    "# [x] add in parameter/n prob solution infrastructure\n",
    "# AS SAMPLES INCREASE m inc.\n",
    "# maintain a list of tolerances\n",
    "# [x] add in pandas dataframe charting infrastructure\n",
    "# current array format: N_trial x M_sample x T_tol -> # frac paths rel opt\n",
    "\n",
    "# [x] implement StateValidityChecker for d-dimensional snake environments\n",
    "# [ ] implement a ValidStateSampler so we do not need to rejection-sample in high-dimensional environments\n",
    "# [ ] work out math and implement the strategic spots we need to check for full environment coverage in snake\n",
    "# [ ] save more data than just estimated success rate\n",
    "\n",
    "# [ ] modularize the pieces of the script to be easily integrated into a supercloud mapreduce pattern\n",
    "# [ ] design parameters and run experiment\n",
    "# --what is likely going to happen is that given the current level of control we have form the python bindings, since we can only query individual paths, it's going to be too slow.\n",
    "# --run anyway so we can present data to nick\n",
    "# --but for interpretability, _now_ formally prove the result that means `if we want uniform converage with \\epsilon-optimality' => we need an \\epsilon'-net"
   ]
  },
  {
   "cell_type": "code",
   "execution_count": 34,
   "metadata": {
    "ExecuteTime": {
     "end_time": "2023-08-22T01:24:30.337573692Z",
     "start_time": "2023-08-22T01:24:30.292423377Z"
    }
   },
   "outputs": [
    {
     "name": "stdout",
     "output_type": "stream",
     "text": [
      "env: OMPL_PATH=/home/seiji/Research/ompl/py-bindings\n"
     ]
    }
   ],
   "source": [
    "%env OMPL_PATH= /home/seiji/Research/ompl/py-bindings\n",
    "from nonasymptotic import ompl\n",
    "from ompl import base as ob\n",
    "from ompl import geometric as og\n",
    "from nonasymptotic.envs import GrayCodePathWalls\n",
    "\n",
    "import numpy as np\n",
    "import pandas as pd\n",
    "from datetime import datetime\n",
    "import json\n",
    "import copy\n",
    "import os"
   ]
  },
  {
   "cell_type": "code",
   "execution_count": 2,
   "metadata": {
    "ExecuteTime": {
     "end_time": "2023-06-12T04:03:40.517732326Z",
     "start_time": "2023-06-12T04:03:40.512594022Z"
    }
   },
   "outputs": [],
   "source": [
    "# defining free parameters: dimension, obstacles (i.e. state validity)\n",
    "sample_schedule = [10, 100, 1000]  #[10, 100, 1000, 10000, 100000]\n",
    "tol = 0.5\n",
    "delta = 0.25\n",
    "n_trials = 10\n",
    "ds = [2, 3]  #[2, 6, 10, 14, 17, 20]\n",
    "r = tol / np.sqrt(1 + tol * tol) * delta\n",
    "n_paths = 5  # should be a function of dimensionality in the future for coverage\n",
    "is_state_valid = lambda state: True"
   ]
  },
  {
   "cell_type": "code",
   "execution_count": 3,
   "metadata": {
    "ExecuteTime": {
     "end_time": "2023-06-12T04:03:43.489729278Z",
     "start_time": "2023-06-12T04:03:43.486537120Z"
    }
   },
   "outputs": [
    {
     "name": "stdout",
     "output_type": "stream",
     "text": [
      "WARNING: Made that log directory already!\n"
     ]
    }
   ],
   "source": [
    "# make a new log directory and save experiment params\n",
    "name = 'long'\n",
    "date_str = datetime.now().strftime('%m-%d-%Y')\n",
    "log_dir = 'data/' + date_str + '_' + name\n",
    "try:\n",
    "    os.mkdir(log_dir)\n",
    "except FileExistsError:\n",
    "    print('WARNING: Made that log directory already!')\n",
    "\n",
    "params = {\n",
    "    \"sample_schedule\": sample_schedule,\n",
    "    \"tol\": tol,\n",
    "    \"ds\": ds,\n",
    "    \"n_paths\": n_paths,\n",
    "    \"n_trials\": n_trials,\n",
    "}\n",
    "\n",
    "with open(os.path.join(log_dir, 'params.json'), 'w') as handle:\n",
    "    json.dump(params, handle, indent=4)\n"
   ]
  },
  {
   "cell_type": "code",
   "execution_count": null,
   "metadata": {
    "ExecuteTime": {
     "end_time": "2023-06-12T04:04:07.068132670Z",
     "start_time": "2023-06-12T04:03:55.352950116Z"
    }
   },
   "outputs": [],
   "source": [
    "for d in ds:\n",
    "    # set up unit cube space with obstacles\n",
    "    space = ob.RealVectorStateSpace(d)  \n",
    "    walls = GrayCodePathWalls(d, 4, 0.05)\n",
    "    space.setBounds(0.0, 1.0)  # we'll need to do that with a new type of state validity checker\n",
    "\n",
    "    si = ob.SpaceInformation(space)\n",
    "    si.setStateValidityChecker(ob.StateValidityCheckerFn(is_state_valid))\n",
    "    pdef = ob.ProblemDefinition(si)\n",
    "\n",
    "    # TODO: define a ValidStateSampler to sample directly from the space without having to evaluate isValid\n",
    "\n",
    "    # set up the PRM planner\n",
    "    planner = og.PRM(si)\n",
    "    accept_if_within_r = lambda v1, v2: planner.distanceFunction(v1, v2) <= r\n",
    "    planner.setConnectionFilter(og.ConnectionFilter(accept_if_within_r))\n",
    "    planner.setProblemDefinition(pdef)\n",
    "    planner.setup()  # no harm in recalling if setup already\n",
    "\n",
    "    rec = np.zeros((n_trials, len(sample_schedule)))\n",
    "\n",
    "    for i_trial in range(n_trials):\n",
    "        planner.clear()\n",
    "        pdef.clearStartStates()\n",
    "        pdef.clearGoal()\n",
    "\n",
    "        # save fraction of rel-optness\n",
    "        for i_sample, m_samples in enumerate(sample_schedule):\n",
    "            num_rel_opt_paths = 0\n",
    "            graph_has_m_samples = lambda: planner.milestoneCount() >= m_samples\n",
    "            term_cond = ob.PlannerTerminationConditionFn(graph_has_m_samples)\n",
    "            for i_path in range(n_paths):\n",
    "                # set up problem instance\n",
    "                start = ob.State(space)\n",
    "                start.random()\n",
    "\n",
    "                goal = ob.State(space)\n",
    "                goal.random()  # TODO: based on accuracy tolerance, choose starts and goals strategically based on space construction\n",
    "\n",
    "                # compute optimum (remember to turn objects into pointers!)\n",
    "                opt_len = space.distance(start(), goal())\n",
    "\n",
    "                planner.clearQuery()  # clear previous queries so we can multi-query\n",
    "                pdef.setStartAndGoalStates(start, goal)\n",
    "\n",
    "                # need to grow first to get to the # of states we want\n",
    "                planner.growRoadmap(term_cond)\n",
    "\n",
    "                # allow to create _one_ state\n",
    "                solved = planner.solve(0.001)\n",
    "\n",
    "                if str(solved) == 'Exact solution':\n",
    "                    path = pdef.getSolutionPath()\n",
    "                    length = path.length()\n",
    "                    opt_tol = (1 + tol) * opt_len\n",
    "                    within_tols = int(length < opt_tol)\n",
    "                    num_rel_opt_paths += within_tols\n",
    "\n",
    "            rec[i_trial, i_sample] = float(\n",
    "                num_rel_opt_paths) / n_paths  # TODO: save more data than just an estimated success rate\n",
    "\n",
    "    # save data\n",
    "    df = pd.DataFrame(rec, index=range(n_trials), columns=sample_schedule)\n",
    "    df.to_pickle(os.path.join(log_dir, 'prm_%s_d%i.pkl' % (date_str, d)))\n"
   ]
  },
  {
   "cell_type": "markdown",
   "metadata": {},
   "source": []
  }
 ],
 "metadata": {
  "kernelspec": {
   "display_name": "Python 3 (ipykernel)",
   "language": "python",
   "name": "python3"
  },
  "language_info": {
   "codemirror_mode": {
    "name": "ipython",
    "version": 3
   },
   "file_extension": ".py",
   "mimetype": "text/x-python",
   "name": "python",
   "nbconvert_exporter": "python",
   "pygments_lexer": "ipython3",
   "version": "3.8.10"
  }
 },
 "nbformat": 4,
 "nbformat_minor": 1
}
