{
 "cells": [
  {
   "cell_type": "code",
   "execution_count": null,
   "outputs": [],
   "source": [
    "# [x] see if we have multi query capabilities\n",
    "# [x] expose connection radius infrastructure\n",
    "    # what we want:\n",
    "    # [x] we want to create new states first with a specific connection radius - implement a ConnectionFilter instead of trying to import BoundedConnectionStrategy\n",
    "    # [x] then we want to reconfigure the planner to only create new states when adding start and goals without growing the roadmap more (just 'using') - clear input query every time\n",
    "# [ ] decide on experiment apparatus\n",
    "# [ ] write up experiment apparatus\n"
   ],
   "metadata": {
    "collapsed": false
   }
  },
  {
   "cell_type": "code",
   "execution_count": 1,
   "outputs": [
    {
     "name": "stdout",
     "output_type": "stream",
     "text": [
      "env: OMPL_PATH=/home/seiji/Research/ompl/py-bindings\n"
     ]
    }
   ],
   "source": [
    "%env OMPL_PATH=/home/seiji/Research/ompl/py-bindings\n",
    "from nonasymptotic import ompl\n",
    "from ompl import base as ob\n",
    "from ompl import geometric as og"
   ],
   "metadata": {
    "collapsed": false,
    "ExecuteTime": {
     "end_time": "2023-06-09T18:31:05.512873617Z",
     "start_time": "2023-06-09T18:31:05.407824804Z"
    }
   }
  },
  {
   "cell_type": "code",
   "execution_count": 9,
   "outputs": [],
   "source": [
    "# defining free parameters: dimension, obstacles (i.e. state validity)\n",
    "d = 3\n",
    "r = 0.5\n",
    "is_state_valid = lambda state: True"
   ],
   "metadata": {
    "collapsed": false,
    "ExecuteTime": {
     "end_time": "2023-06-09T20:09:08.546539842Z",
     "start_time": "2023-06-09T20:09:08.543847852Z"
    }
   }
  },
  {
   "cell_type": "code",
   "execution_count": 10,
   "outputs": [
    {
     "name": "stdout",
     "output_type": "stream",
     "text": [
      "Info:    PRM: Starting planning with 2 states already in datastructure\n",
      "Geometric path with 20 states\n",
      "RealVectorState [0.375715 0.943103 0.0687855]\n",
      "RealVectorState [0.407978 0.87856 0.117453]\n",
      "RealVectorState [0.390772 0.847105 0.169103]\n",
      "RealVectorState [0.41031 0.78278 0.209429]\n",
      "RealVectorState [0.347103 0.765233 0.268821]\n",
      "RealVectorState [0.338661 0.736135 0.318259]\n",
      "RealVectorState [0.356505 0.723777 0.391042]\n",
      "RealVectorState [0.39968 0.735259 0.437088]\n",
      "RealVectorState [0.379044 0.680014 0.496026]\n",
      "RealVectorState [0.367498 0.646184 0.507229]\n",
      "RealVectorState [0.374563 0.597791 0.572593]\n",
      "RealVectorState [0.411528 0.539803 0.611042]\n",
      "RealVectorState [0.459241 0.468916 0.622606]\n",
      "RealVectorState [0.456295 0.442426 0.65605]\n",
      "RealVectorState [0.463887 0.362022 0.69918]\n",
      "RealVectorState [0.460758 0.36952 0.732932]\n",
      "RealVectorState [0.492994 0.304624 0.789806]\n",
      "RealVectorState [0.512199 0.237054 0.857277]\n",
      "RealVectorState [0.54662 0.15233 0.88492]\n",
      "RealVectorState [0.563781 0.0785127 0.931463]\n",
      "\n",
      "\n",
      "Info:    PRM: Created 2836 states\n",
      "Info:    Solution found in 0.101056 seconds\n",
      "Info:    PRM: Starting planning with 2840 states already in datastructure\n",
      "Geometric path with 18 states\n",
      "RealVectorState [0.0422855 0.812693 0.209307]\n",
      "RealVectorState [0.0639808 0.809234 0.224289]\n",
      "RealVectorState [0.0848189 0.740252 0.280788]\n",
      "RealVectorState [0.118584 0.681357 0.317858]\n",
      "RealVectorState [0.135067 0.652833 0.318179]\n",
      "RealVectorState [0.196927 0.610115 0.358118]\n",
      "RealVectorState [0.263 0.577802 0.389055]\n",
      "RealVectorState [0.32411 0.572256 0.407202]\n",
      "RealVectorState [0.394576 0.583202 0.454897]\n",
      "RealVectorState [0.470511 0.560933 0.466528]\n",
      "RealVectorState [0.558327 0.553424 0.486984]\n",
      "RealVectorState [0.623638 0.496186 0.529113]\n",
      "RealVectorState [0.689856 0.481151 0.583896]\n",
      "RealVectorState [0.735139 0.423856 0.585913]\n",
      "RealVectorState [0.793556 0.392857 0.598563]\n",
      "RealVectorState [0.870037 0.345477 0.598205]\n",
      "RealVectorState [0.96144 0.32608 0.620286]\n",
      "RealVectorState [0.993652 0.252726 0.640651]\n",
      "\n",
      "\n",
      "Info:    PRM: Created 1997 states\n",
      "Info:    Solution found in 0.100757 seconds\n"
     ]
    }
   ],
   "source": [
    "# set up unit cube space with obstacles\n",
    "space = ob.RealVectorStateSpace(d)\n",
    "space.setBounds(0.0, 1.0)\n",
    "ss = og.SimpleSetup(space)\n",
    "ss.setStateValidityChecker(ob.StateValidityCheckerFn(is_state_valid))\n",
    "\n",
    "# ensure we are using the PRM with the settings we want\n",
    "si = ss.getSpaceInformation()\n",
    "planner = og.PRM(si)\n",
    "\n",
    "accept_if_within_r = lambda v1, v2: planner.distanceFunction(v1, v2) <= r\n",
    "planner.setConnectionFilter(og.ConnectionFilter(accept_if_within_r))\n",
    "\n",
    "ss.setPlanner(planner)\n",
    "\n",
    "# set random start and goal (for now)\n",
    "start = ob.State(space)\n",
    "start.random()\n",
    "\n",
    "goal = ob.State(space)\n",
    "goal.random()\n",
    "\n",
    "ss.setStartAndGoalStates(start, goal)\n",
    "solved = ss.solve(1.0)\n",
    "\n",
    "if solved:\n",
    "    print(ss.getSolutionPath())\n",
    "\n",
    "# set random start and goal (for now)\n",
    "start = ob.State(space)\n",
    "start.random()\n",
    "\n",
    "goal = ob.State(space)\n",
    "goal.random()\n",
    "\n",
    "ss.setStartAndGoalStates(start, goal)\n",
    "solved = ss.solve(1.0)\n",
    "\n",
    "# planner.clearQuery()\n",
    "if solved:\n",
    "    print(ss.getSolutionPath())"
   ],
   "metadata": {
    "collapsed": false,
    "ExecuteTime": {
     "end_time": "2023-06-09T20:09:10.037740774Z",
     "start_time": "2023-06-09T20:09:09.825104469Z"
    }
   }
  }
 ],
 "metadata": {
  "kernelspec": {
   "display_name": "Python 3",
   "language": "python",
   "name": "python3"
  },
  "language_info": {
   "codemirror_mode": {
    "name": "ipython",
    "version": 2
   },
   "file_extension": ".py",
   "mimetype": "text/x-python",
   "name": "python",
   "nbconvert_exporter": "python",
   "pygments_lexer": "ipython2",
   "version": "2.7.6"
  }
 },
 "nbformat": 4,
 "nbformat_minor": 0
}
