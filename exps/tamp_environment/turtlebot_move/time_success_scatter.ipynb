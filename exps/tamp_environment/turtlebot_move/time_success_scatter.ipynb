{
 "cells": [
  {
   "cell_type": "code",
   "execution_count": 1,
   "metadata": {},
   "outputs": [],
   "source": [
    "import numpy as np\n",
    "import matplotlib.pyplot as plt\n",
    "import os\n",
    "import re\n",
    "import ast\n",
    "from collections import defaultdict\n",
    "from tqdm import tqdm\n",
    "\n",
    "# Set the path to the directory containing the subfolders\n",
    "parent_directory = './runs'\n",
    "\n",
    "# This list will hold all the numbers found\n",
    "successes = {}\n",
    "times = {}\n",
    "args = {}\n",
    "# Regular expression to find numbers\n",
    "number_pattern = re.compile(r'\\d+')\n"
   ]
  },
  {
   "cell_type": "code",
   "execution_count": 5,
   "metadata": {},
   "outputs": [
    {
     "name": "stderr",
     "output_type": "stream",
     "text": [
      "  4%|▍         | 179/4101 [00:00<00:04, 886.38it/s]"
     ]
    },
    {
     "name": "stdout",
     "output_type": "stream",
     "text": [
      "./runs/prm-13--20240502-130259/1714669393.5387292/1714669393.545196.log\n",
      "./runs/prm-3--20240503-044106/1714725673.5549006/1714725673.556095.log\n",
      "./runs/prm-3--20240502-191112/1714691478.5843275/1714691478.5859597.log\n",
      "./runs/prm-3--20240503-015757/1714715883.8964188/1714715883.8981845.log\n",
      "./runs/prm-7--20240503-030703/1714720029.599844/1714720029.6009686.log\n"
     ]
    },
    {
     "name": "stderr",
     "output_type": "stream",
     "text": [
      "  9%|▉         | 365/4101 [00:00<00:04, 912.87it/s]"
     ]
    },
    {
     "name": "stdout",
     "output_type": "stream",
     "text": [
      "./runs/prm-7--20240502-232550/1714706757.6869926/1714706757.6885135.log\n",
      "./runs/prm-7--20240502-140158/1714672924.2705972/1714672924.2717996.log\n",
      "./runs/prm-7--20240502-180928/1714687774.093202/1714687774.094652.log\n",
      "./runs/prm-7--20240502-202731/1714696057.8353846/1714696057.837009.log\n",
      "./runs/prm-13--20240502-151053/1714677059.8976443/1714677059.8989239.log\n"
     ]
    },
    {
     "name": "stderr",
     "output_type": "stream",
     "text": [
      " 14%|█▎        | 555/4101 [00:00<00:04, 878.37it/s]"
     ]
    },
    {
     "name": "stdout",
     "output_type": "stream",
     "text": [
      "./runs/prm-13--20240503-040806/1714723693.1615994/1714723693.1627848.log\n",
      "./runs/prm-3--20240503-001554/1714709761.0519893/1714709761.053369.log\n",
      "./runs/prm-13--20240502-170519/1714683925.494516/1714683925.4959497.log\n",
      "./runs/prm-7--20240503-001554/1714709760.8600316/1714709760.8618498.log\n",
      "./runs/prm-13--20240503-022738/1714717665.3390827/1714717665.3403592.log\n"
     ]
    },
    {
     "name": "stderr",
     "output_type": "stream",
     "text": [
      " 21%|██        | 841/4101 [00:00<00:03, 916.30it/s]"
     ]
    },
    {
     "name": "stdout",
     "output_type": "stream",
     "text": [
      "./runs/prm-13--20240502-211624/1714698991.4163911/1714698991.417674.log\n",
      "./runs/prm-3--20240502-202731/1714696058.0793016/1714696058.08048.log\n",
      "./runs/prm-3--20240502-180928/1714687775.282312/1714687775.284762.log\n",
      "./runs/prm-7--20240503-013455/1714714502.3570933/1714714502.358752.log\n",
      "./runs/prm-19--20240503-030703/1714720029.719732/1714720029.7211819.log\n",
      "./runs/prm-3--20240503-030703/1714720030.1945496/1714720030.1969378.log\n",
      "./runs/prm-13--20240502-233526/1714707332.6036096/1714707332.604825.log\n",
      "./runs/prm-3--20240502-140158/1714672924.4719336/1714672924.473423.log\n"
     ]
    },
    {
     "name": "stderr",
     "output_type": "stream",
     "text": [
      " 25%|██▌       | 1037/4101 [00:01<00:03, 935.00it/s]"
     ]
    },
    {
     "name": "stdout",
     "output_type": "stream",
     "text": [
      "./runs/prm-3--20240502-232550/1714706758.1489317/1714706758.151192.log\n",
      "./runs/prm-13--20240503-024059/1714718465.731104/1714718465.7322907.log\n",
      "./runs/prm-7--20240503-015757/1714715884.0279908/1714715884.0292408.log\n",
      "./runs/prm-7--20240503-044106/1714725672.9010785/1714725672.9026093.log\n",
      "./runs/prm-7--20240502-191112/1714691480.82311/1714691480.8249044.log\n",
      "./runs/prm-13--20240502-164233/1714682559.8161068/1714682559.817664.log\n",
      "./runs/prm-13--20240502-153225/1714678351.8222136/1714678351.8235776.log\n"
     ]
    },
    {
     "name": "stderr",
     "output_type": "stream",
     "text": [
      " 30%|██▉       | 1223/4101 [00:01<00:03, 864.93it/s]"
     ]
    },
    {
     "name": "stdout",
     "output_type": "stream",
     "text": [
      "./runs/prm-7--20240502-153225/1714678351.3662488/1714678351.3673775.log\n",
      "./runs/prm-7--20240502-164233/1714682560.1975121/1714682560.1994855.log\n",
      "./runs/prm-13--20240503-044106/1714725673.0199533/1714725673.0211844.log\n",
      "./runs/prm-13--20240502-191112/1714691480.1163054/1714691480.118101.log\n",
      "./runs/prm-13--20240503-015757/1714715884.1374822/1714715884.1394455.log\n",
      "./runs/prm-7--20240503-024059/1714718465.6297746/1714718465.630769.log\n",
      "./runs/prm-7--20240502-233526/1714707332.7508588/1714707332.7520783.log\n"
     ]
    },
    {
     "name": "stderr",
     "output_type": "stream",
     "text": [
      " 36%|███▌      | 1485/4101 [00:01<00:03, 847.53it/s]"
     ]
    },
    {
     "name": "stdout",
     "output_type": "stream",
     "text": [
      "./runs/prm-3--20240502-130258/1714669386.2090795/1714669386.21037.log\n",
      "./runs/prm-7--20240502-190225/1714690951.753117/1714690951.7545679.log\n",
      "./runs/prm-3--20240502-151053/1714677059.8402004/1714677059.8416421.log\n",
      "./runs/prm-7--20240502-211624/1714698991.405176/1714698991.4077609.log\n",
      "./runs/prm-3--20240502-170519/1714683925.4446983/1714683925.4465446.log\n"
     ]
    },
    {
     "name": "stderr",
     "output_type": "stream",
     "text": [
      " 38%|███▊      | 1570/4101 [00:01<00:03, 805.35it/s]"
     ]
    },
    {
     "name": "stdout",
     "output_type": "stream",
     "text": [
      "./runs/prm-7--20240503-022738/1714717665.7549913/1714717665.7564769.log\n",
      "./runs/prm-13--20240503-001554/1714709760.9429686/1714709760.9445348.log\n",
      "./runs/prm-3--20240503-040806/1714723693.2285597/1714723693.230355.log\n",
      "./runs/prm-7--20240502-170519/1714683926.6834106/1714683926.686142.log\n",
      "./runs/prm-7--20240503-040806/1714723693.2607508/1714723693.2624998.log\n",
      "./runs/prm-3--20240503-022738/1714717665.1928177/1714717665.1943042.log\n"
     ]
    },
    {
     "name": "stderr",
     "output_type": "stream",
     "text": [
      " 44%|████▍     | 1823/4101 [00:02<00:02, 830.77it/s]"
     ]
    },
    {
     "name": "stdout",
     "output_type": "stream",
     "text": [
      "./runs/prm-7--20240502-130258/1714669386.2096074/1714669386.211868.log\n",
      "./runs/prm-3--20240502-190225/1714690951.6519496/1714690951.6534567.log\n",
      "./runs/prm-3--20240502-211624/1714698991.4254951/1714698991.4269195.log\n",
      "./runs/prm-7--20240502-151053/1714677059.7811356/1714677059.782751.log\n",
      "./runs/prm-13--20240502-202731/1714696057.8036575/1714696057.8053315.log\n",
      "./runs/prm-13--20240502-180928/1714687774.0773005/1714687774.0789483.log\n",
      "./runs/prm-13--20240502-140158/1714672924.518922/1714672924.520624.log\n",
      "./runs/prm-3--20240503-024059/1714718465.6934466/1714718465.6960351.log\n",
      "./runs/prm-13--20240502-232550/1714706758.4673438/1714706758.4689927.log\n"
     ]
    },
    {
     "name": "stderr",
     "output_type": "stream",
     "text": [
      " 49%|████▉     | 2001/4101 [00:02<00:02, 852.14it/s]"
     ]
    },
    {
     "name": "stdout",
     "output_type": "stream",
     "text": [
      "./runs/prm-13--20240503-030703/1714720029.7467701/1714720029.7481933.log\n",
      "./runs/prm-3--20240502-233526/1714707332.4197834/1714707332.4210505.log\n",
      "./runs/prm-3--20240502-153225/1714678351.0890508/1714678351.0906737.log\n",
      "./runs/prm-3--20240502-164233/1714682559.8363836/1714682559.8377323.log\n"
     ]
    },
    {
     "name": "stderr",
     "output_type": "stream",
     "text": [
      " 54%|█████▎    | 2201/4101 [00:02<00:02, 920.50it/s]"
     ]
    },
    {
     "name": "stdout",
     "output_type": "stream",
     "text": [
      "./runs/prm-4--20240502-190225/1714690951.9546967/1714690951.9562092.log\n",
      "./runs/prm-13--20240502-220244/1714701771.379592/1714701771.3812807.log\n",
      "./runs/prm-3--20240503-052808/1714728494.9596663/1714728494.960788.log\n",
      "./runs/prm-3--20240502-150417/1714676663.170691/1714676663.1720438.log\n",
      "./runs/prm-7--20240502-223045/1714703457.2035146/1714703457.207288.log\n",
      "./runs/prm-7--20240503-010755/1714712881.9382083/1714712881.9398382.log\n",
      "./runs/prm-7--20240502-125958/1714669304.0635507/1714669304.068951.log\n",
      "./runs/prm-46--20240502-174734/1714686460.9723873/1714686460.9737506.log\n",
      "./runs/prm-13--20240503-033552/1714721758.4231586/1714721758.424633.log\n",
      "./runs/prm-7--20240502-133851/1714671537.0505593/1714671537.0521185.log\n"
     ]
    },
    {
     "name": "stderr",
     "output_type": "stream",
     "text": [
      " 59%|█████▊    | 2401/4101 [00:02<00:01, 933.33it/s]"
     ]
    },
    {
     "name": "stdout",
     "output_type": "stream",
     "text": [
      "./runs/prm-7--20240502-200407/1714694653.6661313/1714694653.6675022.log\n",
      "./runs/prm-7--20240502-174734/1714686461.8278654/1714686461.8304436.log\n",
      "./runs/prm-13--20240502-160329/1714680216.0777044/1714680216.0794091.log\n",
      "./runs/prm-3--20240502-132437/1714670683.290344/1714670683.292162.log\n"
     ]
    },
    {
     "name": "stderr",
     "output_type": "stream",
     "text": [
      " 63%|██████▎   | 2601/4101 [00:02<00:01, 915.97it/s]"
     ]
    },
    {
     "name": "stdout",
     "output_type": "stream",
     "text": [
      "./runs/prm-3--20240503-013451/1714714498.3476572/1714714498.3492892.log\n",
      "./runs/prm-13--20240502-190534/1714691140.4391522/1714691140.4405572.log\n",
      "./runs/prm-7--20240503-000754/1714709281.151891/1714709281.1532633.log\n",
      "./runs/prm-3--20240503-000754/1714709282.1304033/1714709282.1321483.log\n",
      "./runs/prm-13--20240502-143414/1714674860.4079278/1714674860.409445.log\n",
      "./runs/prm-13--20240502-204753/1714697279.749584/1714697279.7510045.log\n"
     ]
    },
    {
     "name": "stderr",
     "output_type": "stream",
     "text": [
      " 68%|██████▊   | 2786/4101 [00:03<00:01, 828.23it/s]"
     ]
    },
    {
     "name": "stdout",
     "output_type": "stream",
     "text": [
      "./runs/prm-13--20240503-004054/1714711261.5283735/1714711261.5294807.log\n",
      "./runs/prm-3--20240502-174734/1714686460.4768333/1714686460.4784005.log\n",
      "./runs/prm-13--20240502-183033/1714689040.0008461/1714689040.002664.log\n",
      "./runs/prm-7--20240502-132437/1714670684.7091234/1714670684.713455.log\n",
      "./runs/prm-3--20240502-133851/1714671537.7485466/1714671537.7503872.log\n"
     ]
    },
    {
     "name": "stderr",
     "output_type": "stream",
     "text": [
      " 73%|███████▎  | 2979/4101 [00:03<00:01, 864.74it/s]"
     ]
    },
    {
     "name": "stdout",
     "output_type": "stream",
     "text": [
      "./runs/prm-3--20240502-200407/1714694653.5858722/1714694653.5873876.log\n",
      "./runs/prm-13--20240502-213515/1714700121.6564424/1714700121.6577442.log\n",
      "./runs/prm-3--20240502-125958/1714669304.0635226/1714669304.0688.log\n",
      "./runs/prm-3--20240503-010755/1714712881.8660178/1714712881.8673978.log\n",
      "./runs/prm-3--20240502-223045/1714703451.7832286/1714703451.784576.log\n",
      "./runs/prm-7--20240502-150417/1714676663.4463367/1714676663.4477525.log\n"
     ]
    },
    {
     "name": "stderr",
     "output_type": "stream",
     "text": [
      " 77%|███████▋  | 3158/4101 [00:03<00:01, 864.90it/s]"
     ]
    },
    {
     "name": "stdout",
     "output_type": "stream",
     "text": [
      "./runs/prm-7--20240503-052808/1714728494.663162/1714728494.664401.log\n",
      "./runs/prm-44--20240502-164233/1714682560.1009321/1714682560.102576.log\n",
      "./runs/prm-13--20240502-150417/1714676663.4682617/1714676663.4697137.log\n",
      "./runs/prm-13--20240503-052808/1714728495.3372808/1714728495.3384893.log\n",
      "./runs/prm-3--20240502-220244/1714701771.2384923/1714701771.2399108.log\n"
     ]
    },
    {
     "name": "stderr",
     "output_type": "stream",
     "text": [
      " 81%|████████▏ | 3335/4101 [00:03<00:00, 854.99it/s]"
     ]
    },
    {
     "name": "stdout",
     "output_type": "stream",
     "text": [
      "./runs/prm-7--20240502-213515/1714700121.5723763/1714700121.5735614.log\n",
      "./runs/prm-3--20240502-185014/1714690220.6558313/1714690220.6575055.log\n",
      "./runs/prm-3--20240503-033552/1714721758.5893095/1714721758.590533.log\n",
      "./runs/prm-13--20240502-132437/1714670684.7090561/1714670684.7133393.log\n",
      "./runs/prm-7--20240502-183033/1714689039.6042826/1714689039.6055803.log\n",
      "./runs/prm-3--20240502-160329/1714680215.7817364/1714680215.7826607.log\n"
     ]
    },
    {
     "name": "stderr",
     "output_type": "stream",
     "text": [
      " 89%|████████▊ | 3635/4101 [00:04<00:00, 933.03it/s]"
     ]
    },
    {
     "name": "stdout",
     "output_type": "stream",
     "text": [
      "./runs/prm-7--20240503-004054/1714711261.6334805/1714711261.634651.log\n",
      "./runs/prm-3--20240502-190533/1714691141.4673033/1714691141.469059.log\n",
      "./runs/prm-7--20240502-143414/1714674860.2429185/1714674860.2445703.log\n",
      "./runs/prm-13--20240503-013456/1714714502.2336159/1714714502.2350404.log\n",
      "./runs/prm-7--20240502-204753/1714697279.6729662/1714697279.6743178.log\n",
      "./runs/prm-3--20240502-204753/1714697279.7466204/1714697279.747956.log\n",
      "./runs/prm-3--20240502-143414/1714674860.2163413/1714674860.2176225.log\n",
      "./runs/prm-13--20240503-000754/1714709282.4121878/1714709282.4137495.log\n",
      "./runs/prm-7--20240502-190533/1714691139.7794714/1714691139.7812293.log\n",
      "./runs/prm-3--20240503-004054/1714711262.206468/1714711262.2083082.log\n"
     ]
    },
    {
     "name": "stderr",
     "output_type": "stream",
     "text": [
      " 93%|█████████▎| 3820/4101 [00:04<00:00, 871.16it/s]"
     ]
    },
    {
     "name": "stdout",
     "output_type": "stream",
     "text": [
      "./runs/prm-3--20240502-183033/1714689039.7928932/1714689039.7942736.log\n",
      "./runs/prm-7--20240502-160329/1714680216.1978934/1714680216.1995938.log\n",
      "./runs/prm-13--20240502-174734/1714686460.3728163/1714686460.374403.log\n",
      "./runs/prm-3--20240502-213515/1714700121.811747/1714700121.8133302.log\n",
      "./runs/prm-13--20240502-200407/1714694653.8544624/1714694653.8556843.log\n",
      "./runs/prm-7--20240502-185014/1714690220.538078/1714690220.540259.log\n",
      "./runs/prm-7--20240503-033552/1714721758.5830255/1714721758.5841439.log\n"
     ]
    },
    {
     "name": "stderr",
     "output_type": "stream",
     "text": [
      "100%|██████████| 4101/4101 [00:04<00:00, 868.45it/s]"
     ]
    },
    {
     "name": "stdout",
     "output_type": "stream",
     "text": [
      "./runs/prm-13--20240502-133851/1714671537.2387025/1714671537.2403793.log\n",
      "./runs/prm-1--20240502-190225/1714690951.8917036/1714690951.893333.log\n",
      "./runs/prm-13--20240503-010755/1714712882.2449152/1714712882.246117.log\n",
      "./runs/prm-13--20240502-223045/1714703452.039351/1714703452.0409286.log\n",
      "./runs/prm-13--20240502-125958/1714669304.0494637/1714669304.0544138.log\n",
      "./runs/prm-7--20240502-220244/1714701771.401166/1714701771.402752.log\n"
     ]
    },
    {
     "name": "stderr",
     "output_type": "stream",
     "text": [
      "\n"
     ]
    }
   ],
   "source": [
    "\n",
    "all_files = list(os.walk(parent_directory))\n",
    "for root, dirs, files in tqdm(all_files):\n",
    "    for file in files:\n",
    "        if file.endswith(\".log\"):  # Checks if the file is a log file\n",
    "            file_path = os.path.join(root, file)\n",
    "            with open(file_path, 'r') as f:\n",
    "                lines = f.readlines()\n",
    "                args[file] = ast.literal_eval(lines[1])\n",
    "         \n",
    "                for i, line in enumerate(lines):\n",
    "                    if line.startswith(\"Solved:\"):\n",
    "                        successes[file] = int((\"True\" in lines[i].strip()))\n",
    "                    if(line.startswith(\"Time:\")):\n",
    "                        times[file] = float(lines[i].strip().replace(\"Time: \", \"\"))\n",
    "                if(file not in times or file not in successes):\n",
    "                    print(file_path)\n"
   ]
  },
  {
   "cell_type": "code",
   "execution_count": 6,
   "metadata": {},
   "outputs": [
    {
     "name": "stdout",
     "output_type": "stream",
     "text": [
      "1924\n",
      "1924\n",
      "2050\n"
     ]
    }
   ],
   "source": [
    "print(len(times))\n",
    "print(len(successes))\n",
    "print(len(args))\n",
    "\n",
    "plot_points = {}\n",
    "plot_successes = defaultdict(list)\n",
    "plot_times = defaultdict(list)\n",
    "for key in times:\n",
    "    plot_successes[(args[key][\"min_samples\"], args[key][\"max_samples\"], args[key][\"adaptive_n\"])].append(successes[key])\n",
    "    plot_times[(args[key][\"min_samples\"], args[key][\"max_samples\"], args[key][\"adaptive_n\"])].append(times[key])"
   ]
  },
  {
   "cell_type": "code",
   "execution_count": 10,
   "metadata": {},
   "outputs": [
    {
     "name": "stdout",
     "output_type": "stream",
     "text": [
      "41\n",
      "14570\n",
      "24036\n",
      "28195\n",
      "14453\n",
      "14842\n",
      "17215\n",
      "27841\n",
      "11358\n",
      "30707\n",
      "49941\n",
      "42972\n",
      "3355\n",
      "36455\n",
      "33213\n",
      "11821\n",
      "37400\n",
      "22603\n",
      "49743\n",
      "22528\n",
      "19779\n",
      "49743\n",
      "49941\n",
      "11358\n",
      "22603\n",
      "28195\n",
      "11821\n",
      "14453\n",
      "37400\n",
      "27841\n",
      "42972\n",
      "36455\n",
      "24036\n",
      "30707\n",
      "3355\n",
      "14570\n",
      "19779\n",
      "17215\n",
      "14842\n",
      "33213\n",
      "22528\n",
      "2000\n"
     ]
    },
    {
     "data": {
      "text/plain": [
       "Text(0.5, 0, 'Time (s)')"
      ]
     },
     "execution_count": 10,
     "metadata": {},
     "output_type": "execute_result"
    },
    {
     "data": {
      "image/png": "[encoded data removed]",
      "text/plain": [
       "<Figure size 640x480 with 1 Axes>"
      ]
     },
     "metadata": {},
     "output_type": "display_data"
    }
   ],
   "source": [
    "\n",
    "print(len(plot_times))\n",
    "plt.figure()\n",
    "legend = [\"sPRM\", \"iPRM\", \"aPRM\"]\n",
    "# Plot the sPRM results\n",
    "for condition in legend:\n",
    "    xs = []\n",
    "    ys = []\n",
    "    x_errs = []\n",
    "    y_errs = []\n",
    "    ns = []\n",
    "    for k in plot_successes:\n",
    "        min_samples, max_samples, adaptive_n = k\n",
    "        \n",
    "        if((condition == \"iPRM\" and (min_samples != max_samples-1 and not adaptive_n)) or\n",
    "           (condition == \"sPRM\" and (min_samples == max_samples-1 and not adaptive_n)) or\n",
    "           (condition == \"aPRM\" and (adaptive_n))):\n",
    "            \n",
    "            print(max_samples)\n",
    "            xs.append(np.mean(plot_times[k]))\n",
    "            ys.append(np.mean(plot_successes[k]))\n",
    "            x_errs.append(np.std(plot_times[k])/np.sqrt(len(plot_times[k])))\n",
    "            y_errs.append(np.std(plot_successes[k])/np.sqrt(len(plot_successes[k])))\n",
    "            ns.append(max_samples)\n",
    "\n",
    "    plt.errorbar(xs, ys, xerr=x_errs, yerr=y_errs, fmt='o')\n",
    "\n",
    "plt.legend(legend, loc=\"lower right\")\n",
    "plt.ylabel(\"Success Probability\")\n",
    "plt.xlabel(\"Time (s)\")\n"
   ]
  },
  {
   "cell_type": "code",
   "execution_count": null,
   "metadata": {},
   "outputs": [],
   "source": []
  }
 ],
 "metadata": {
  "kernelspec": {
   "display_name": "nonasy",
   "language": "python",
   "name": "python3"
  },
  "language_info": {
   "codemirror_mode": {
    "name": "ipython",
    "version": 3
   },
   "file_extension": ".py",
   "mimetype": "text/x-python",
   "name": "python",
   "nbconvert_exporter": "python",
   "pygments_lexer": "ipython3",
   "version": "3.9.18"
  }
 },
 "nbformat": 4,
 "nbformat_minor": 2
}
