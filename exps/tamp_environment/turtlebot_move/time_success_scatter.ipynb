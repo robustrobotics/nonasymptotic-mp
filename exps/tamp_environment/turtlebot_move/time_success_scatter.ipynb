{
 "cells": [
  {
   "cell_type": "code",
   "execution_count": 5,
   "metadata": {},
   "outputs": [],
   "source": [
    "import numpy as np\n",
    "import matplotlib.pyplot as plt\n",
    "import os\n",
    "import re\n",
    "import ast\n",
    "from collections import defaultdict\n",
    "from tqdm import tqdm"
   ]
  },
  {
   "cell_type": "code",
   "execution_count": 16,
   "metadata": {},
   "outputs": [
    {
     "name": "stderr",
     "output_type": "stream",
     "text": [
      "100%|██████████| 501/501 [00:00<00:00, 8882.33it/s]"
     ]
    },
    {
     "name": "stdout",
     "output_type": "stream",
     "text": [
      "./runs/prm-46--20240522-130605/1716397572.0253527/1716397572.0273225.log\n",
      "./runs/prm-11--20240522-124417/1716396264.78018/1716396264.7816355.log\n",
      "./runs/prm-28--20240522-130604/1716397571.623631/1716397571.625588.log\n",
      "./runs/prm-23--20240522-122704/1716395238.3744156/1716395238.3803313.log\n",
      "./runs/prm-30--20240522-124417/1716396264.8394594/1716396264.8407543.log\n",
      "./runs/prm-7--20240522-130604/1716397571.3195965/1716397571.3211343.log\n",
      "./runs/prm-23--20240522-130604/1716397571.199378/1716397571.2021313.log\n",
      "./runs/prm-24--20240522-124417/1716396264.6265817/1716396264.6280007.log\n",
      "./runs/prm-28--20240522-122704/1716395239.2444103/1716395239.2498918.log\n",
      "./runs/prm-49--20240522-122704/1716395238.0824003/1716395238.0872507.log\n",
      "./runs/prm-33--20240522-122704/1716395239.2444634/1716395239.2495985.log\n",
      "./runs/prm-20--20240522-124417/1716396265.157938/1716396265.1593323.log\n",
      "./runs/prm-34--20240522-124417/1716396265.0109122/1716396265.0141864.log\n",
      "./runs/prm-19--20240522-122704/1716395238.374434/1716395238.380496.log\n",
      "./runs/prm-27--20240522-122704/1716395239.244451/1716395239.2499416.log\n",
      "./runs/prm-42--20240522-122704/1716395238.0818849/1716395238.0859437.log\n",
      "./runs/prm-49--20240522-130635/1716397601.7379348/1716397601.7393837.log\n",
      "./runs/prm-15--20240522-124417/1716396265.0595279/1716396265.061698.log\n",
      "./runs/prm-47--20240522-122704/1716395238.0818963/1716395238.0857823.log\n",
      "./runs/prm-10--20240522-124417/1716396265.3777895/1716396265.3793328.log\n",
      "./runs/prm-17--20240522-122704/1716395238.3744137/1716395238.3804793.log\n",
      "./runs/prm-36--20240522-122704/1716395239.244433/1716395239.2499232.log\n",
      "./runs/prm-2--20240522-122704/1716395230.5675218/1716395230.5692182.log\n",
      "./runs/prm-18--20240522-130604/1716397571.6626728/1716397571.6640596.log\n",
      "./runs/prm-39--20240522-130604/1716397571.4488528/1716397571.4514444.log\n",
      "./runs/prm-9--20240522-122704/1716395231.498982/1716395231.502038.log\n",
      "./runs/prm-2--20240522-130604/1716397571.4698074/1716397571.471341.log\n",
      "./runs/prm-26--20240522-122704/1716395238.3744342/1716395238.3802469.log\n",
      "./runs/prm-35--20240522-124417/1716396265.0104105/1716396265.0123775.log\n",
      "./runs/prm-43--20240522-124417/1716396265.29131/1716396265.2939916.log\n",
      "./runs/prm-26--20240522-124417/1716396265.0651572/1716396265.0665581.log\n",
      "./runs/prm-18--20240522-124417/1716396265.0595706/1716396265.0617788.log\n",
      "./runs/prm-44--20240522-122704/1716395238.0818937/1716395238.0858788.log\n",
      "./runs/prm-2--20240522-124417/1716396265.3909616/1716396265.3919945.log\n",
      "./runs/prm-21--20240522-122704/1716395238.3744657/1716395238.3802884.log\n",
      "./runs/prm-50--20240522-130635/1716397601.6282363/1716397601.6299942.log\n",
      "./runs/prm-35--20240522-130604/1716397572.1903276/1716397572.1925492.log\n",
      "./runs/prm-36--20240522-124417/1716396265.2907891/1716396265.293903.log\n",
      "./runs/prm-25--20240522-122704/1716395238.3744137/1716395238.38045.log\n",
      "./runs/prm-40--20240522-130604/1716397571.4488347/1716397571.4515128.log\n",
      "./runs/prm-47--20240522-124417/1716396264.1092095/1716396264.1109517.log\n",
      "./runs/prm-31--20240522-122704/1716395239.244452/1716395239.2478473.log\n",
      "./runs/prm-45--20240522-130605/1716397571.5127776/1716397571.51441.log\n",
      "./runs/prm-15--20240522-130604/1716397571.9880776/1716397571.9896383.log\n",
      "./runs/prm-34--20240522-130604/1716397571.9873638/1716397571.9900508.log\n",
      "./runs/prm-30--20240522-130604/1716397571.659814/1716397571.6610742.log\n",
      "./runs/prm-7--20240522-124417/1716396264.4871526/1716396264.4888427.log\n",
      "./runs/prm-16--20240522-124417/1716396264.9136508/1716396264.9150217.log\n",
      "./runs/prm-11--20240522-122704/1716395231.2096398/1716395231.211037.log\n"
     ]
    },
    {
     "name": "stderr",
     "output_type": "stream",
     "text": [
      "\n"
     ]
    }
   ],
   "source": [
    "# Set the path to the directory containing the subfolders\n",
    "parent_directory = './runs'\n",
    "\n",
    "# This list will hold all the numbers found\n",
    "successes = {}\n",
    "times = {}\n",
    "args = {}\n",
    "# Regular expression to find numbers\n",
    "number_pattern = re.compile(r'\\d+')\n",
    "all_files = list(os.walk(parent_directory))\n",
    "for root, dirs, files in tqdm(all_files):\n",
    "    for file in files:\n",
    "        if file.endswith(\".log\"):  # Checks if the file is a log file\n",
    "            file_path = os.path.join(root, file)\n",
    "            with open(file_path, 'r') as f:\n",
    "                lines = f.readlines()\n",
    "                args[file] = ast.literal_eval(lines[1])\n",
    "                # print(float(file_path.split(\"--\")[1].split(\"/\")[0].replace(\"-\", \".\")))\n",
    "                time = float(file_path.split(\"--\")[1].split(\"/\")[0].replace(\"-\", \".\"))\n",
    "                if(args[file][\"adaptive_n\"]):\n",
    "    \n",
    "                    continue\n",
    "                \n",
    "                \n",
    "                for i, line in enumerate(lines):\n",
    "                    if line.startswith(\"Solved:\"):\n",
    "                        \n",
    "                        successes[file] = int((\"True\" in lines[i].strip()))\n",
    "\n",
    "                        if (args[file][\"adaptive_n\"] and not successes[file]):\n",
    "                            print(file_path)\n",
    "                    if(line.startswith(\"Time:\")):\n",
    "                        print(file_path)\n",
    "                        times[file] = float(lines[i].strip().replace(\"Time: \", \"\"))\n",
    "           \n"
   ]
  },
  {
   "cell_type": "code",
   "execution_count": 14,
   "metadata": {},
   "outputs": [
    {
     "name": "stdout",
     "output_type": "stream",
     "text": [
      "49\n",
      "0\n",
      "250\n",
      "dict_keys(['1716398968.9906268.log', '1716397572.0273225.log', '1716396264.7816355.log', '1716397571.668131.log', '1716397571.625588.log', '1716398969.3392012.log', '1716395238.3803313.log', '1716396264.8407543.log', '1716397571.9900737.log', '1716395117.364535.log', '1716398999.7799118.log', '1716395117.355879.log', '1716397571.3211343.log', '1716395238.0873575.log', '1716397571.2021313.log', '1716396264.6280007.log', '1716395239.2502725.log', '1716395073.5171156.log', '1716398968.8651848.log', '1716395231.5019877.log', '1716395048.4547536.log', '1716396265.2938652.log', '1716395117.3558736.log', '1716398969.9364176.log', '1716395239.2498918.log', '1716395238.3804123.log', '1716398969.2280555.log', '1716395238.0872507.log', '1716397571.4995565.log', '1716395073.5154283.log', '1716398968.8341482.log', '1716397571.9908373.log', '1716395231.6816282.log', '1716395239.2495985.log', '1716397571.6417263.log', '1716397571.679757.log', '1716396265.1593323.log', '1716395231.2619493.log', '1716395048.412924.log', '1716396264.2397447.log', '1716398969.3308315.log', '1716396265.0141864.log', '1716397571.9918559.log', '1716395117.3647501.log', '1716395238.380496.log', '1716395239.2499416.log', '1716397571.380306.log', '1716396265.3824105.log', '1716395238.0859437.log', '1716395117.3558624.log', '1716395231.5021198.log', '1716397571.4962378.log', '1716398968.9906518.log', '1716395239.249879.log', '1716397601.7393837.log', '1716398969.2757564.log', '1716396265.061698.log', '1716397571.378783.log', '1716395238.0857823.log', '1716396265.4884014.log', '1716397571.1139176.log', '1716395117.3559031.log', '1716395117.3645883.log', '1716397572.0992806.log', '1716396265.0142703.log', '1716395238.3803039.log', '1716398968.9194014.log', '1716397571.9309227.log', '1716397572.114178.log', '1716396265.3793328.log', '1716398968.992417.log', '1716397571.4508846.log', '1716398969.7470274.log', '1716395239.2495203.log', '1716395238.3804793.log', '1716398969.4995415.log', '1716395117.3557725.log', '1716396265.2918792.log', '1716395048.4518504.log', '1716395231.5020185.log', '1716398969.4523325.log', '1716395073.5155315.log', '1716395239.2499232.log', '1716396264.5722678.log', '1716395117.3573155.log', '1716397571.2966347.log', '1716398969.0997925.log', '1716396264.4529357.log', '1716395048.8791852.log', '1716395230.5692182.log', '1716396265.210814.log', '1716397571.878713.log', '1716397571.6640596.log', '1716395073.5155375.log', '1716395239.247793.log', '1716395231.502073.log', '1716398969.2598872.log', '1716397571.4514444.log', '1716395073.5151634.log', '1716398969.0347965.log', '1716397571.3461678.log', '1716395238.0859225.log', '1716397571.697181.log', '1716396264.7799838.log', '1716395238.087642.log', '1716398969.4596107.log', '1716397571.5637386.log', '1716398969.2765753.log', '1716395231.502038.log', '1716395048.5203393.log', '1716396264.5992758.log', '1716395238.0859177.log', '1716396264.7125435.log', '1716397571.471341.log', '1716395238.3802192.log', '1716395238.3802469.log', '1716395117.36477.log', '1716397572.0049536.log', '1716396265.0123775.log', '1716395231.499747.log', '1716398969.188222.log', '1716396265.292831.log', '1716395048.5330288.log', '1716395117.3558195.log', '1716398969.2381732.log', '1716396264.5572915.log', '1716395238.0858428.log', '1716398968.9884427.log', '1716395048.357778.log', '1716396265.2939916.log', '1716395231.5022433.log', '1716397571.3545206.log', '1716396265.0665581.log', '1716396265.0617788.log', '1716395073.515447.log', '1716395239.2495294.log', '1716398969.0677729.log', '1716395117.356505.log', '1716398969.6792393.log', '1716395238.0858788.log', '1716397570.9235804.log', '1716396265.3919945.log', '1716395238.3802884.log', '1716397590.834317.log', '1716397601.6299942.log', '1716398968.9814084.log', '1716396265.012572.log', '1716397572.1925492.log', '1716395117.3648283.log', '1716396264.8751278.log', '1716397571.6633577.log', '1716398969.2757082.log', '1716397571.6276417.log', '1716398969.6431055.log', '1716398969.342452.log', '1716396264.4825144.log', '1716398969.4837275.log', '1716395073.515472.log', '1716396265.0616517.log', '1716396265.014126.log', '1716397571.725409.log', '1716395117.3646533.log', '1716398969.1681018.log', '1716395238.0857348.log', '1716397571.3362978.log', '1716396264.8640242.log', '1716395117.3557491.log', '1716395048.5331514.log', '1716396265.293903.log', '1716397571.992132.log', '1716395117.364726.log', '1716395238.38045.log', '1716395048.4591582.log', '1716397571.4515128.log', '1716396264.1109517.log', '1716395230.7486784.log', '1716398969.4540362.log', '1716398969.0776992.log', '1716395073.5161467.log', '1716395239.2478473.log', '1716397571.6564.log', '1716396264.718382.log', '1716395117.3646996.log', '1716398969.4097495.log', '1716395231.4999478.log', '1716398969.1635725.log', '1716395117.3576255.log', '1716395239.2502496.log', '1716395073.5156538.log', '1716398969.243446.log', '1716396264.7624032.log', '1716396265.061736.log', '1716397571.2592125.log', '1716395231.3008227.log', '1716396265.2944384.log', '1716395117.3646145.log', '1716398969.4093122.log', '1716398969.3871405.log', '1716396264.6287858.log', '1716395048.6579063.log', '1716395117.3580496.log', '1716398968.6237488.log', '1716396265.2908225.log', '1716395238.380233.log', '1716396264.1946998.log', '1716397571.51441.log', '1716398969.0687141.log', '1716398969.5274882.log', '1716398969.337327.log', '1716397571.9896383.log', '1716396264.7824512.log', '1716398969.4552796.log', '1716395117.3663938.log', '1716397571.9900508.log', '1716396265.0141654.log', '1716395238.3801775.log', '1716398969.315999.log', '1716396265.1205802.log', '1716397571.0128126.log', '1716395238.0874171.log', '1716395117.3576515.log', '1716395238.3801932.log', '1716395117.3668277.log', '1716397571.6610742.log', '1716396265.2939677.log', '1716395117.3559797.log', '1716395048.4146645.log', '1716396264.4888427.log', '1716395238.0858204.log', '1716398969.2202225.log', '1716395117.366453.log', '1716397571.378807.log', '1716396264.9150217.log', '1716396264.5228791.log', '1716398969.1872423.log', '1716395073.5151596.log', '1716395073.515503.log', '1716398969.4786475.log', '1716395231.211037.log', '1716395117.3573623.log', '1716398969.2077785.log', '1716396265.0342891.log', '1716397571.78496.log', '1716395239.2499137.log', '1716395073.517046.log', '1716398969.2083676.log', '1716398969.1582396.log', '1716396264.7631044.log', '1716397571.5868845.log', '1716395048.4659066.log'])\n",
      "1716397572.0273225.log\n"
     ]
    },
    {
     "ename": "KeyError",
     "evalue": "'1716397572.0273225.log'",
     "output_type": "error",
     "traceback": [
      "\u001b[0;31m---------------------------------------------------------------------------\u001b[0m",
      "\u001b[0;31mKeyError\u001b[0m                                  Traceback (most recent call last)",
      "Cell \u001b[0;32mIn[14], line 14\u001b[0m\n\u001b[1;32m     12\u001b[0m \u001b[38;5;28;01mif\u001b[39;00m(args[key][\u001b[38;5;124m\"\u001b[39m\u001b[38;5;124madaptive_n\u001b[39m\u001b[38;5;124m\"\u001b[39m]):\n\u001b[1;32m     13\u001b[0m     counter \u001b[38;5;241m+\u001b[39m\u001b[38;5;241m=\u001b[39m \u001b[38;5;241m1\u001b[39m\n\u001b[0;32m---> 14\u001b[0m plot_successes[(args[key][\u001b[38;5;124m\"\u001b[39m\u001b[38;5;124mmin_samples\u001b[39m\u001b[38;5;124m\"\u001b[39m], args[key][\u001b[38;5;124m\"\u001b[39m\u001b[38;5;124mmax_samples\u001b[39m\u001b[38;5;124m\"\u001b[39m], args[key][\u001b[38;5;124m\"\u001b[39m\u001b[38;5;124madaptive_n\u001b[39m\u001b[38;5;124m\"\u001b[39m])]\u001b[38;5;241m.\u001b[39mappend(\u001b[43msuccesses\u001b[49m\u001b[43m[\u001b[49m\u001b[43mkey\u001b[49m\u001b[43m]\u001b[49m)\n\u001b[1;32m     15\u001b[0m plot_times[(args[key][\u001b[38;5;124m\"\u001b[39m\u001b[38;5;124mmin_samples\u001b[39m\u001b[38;5;124m\"\u001b[39m], args[key][\u001b[38;5;124m\"\u001b[39m\u001b[38;5;124mmax_samples\u001b[39m\u001b[38;5;124m\"\u001b[39m], args[key][\u001b[38;5;124m\"\u001b[39m\u001b[38;5;124madaptive_n\u001b[39m\u001b[38;5;124m\"\u001b[39m])]\u001b[38;5;241m.\u001b[39mappend(times[key])\n",
      "\u001b[0;31mKeyError\u001b[0m: '1716397572.0273225.log'"
     ]
    }
   ],
   "source": [
    "print(len(times))\n",
    "print(len(successes))\n",
    "print(len(args))\n",
    "\n",
    "plot_points = {}\n",
    "plot_successes = defaultdict(list)\n",
    "plot_times = defaultdict(list)\n",
    "counter = 0\n",
    "print(args.keys())\n",
    "for key in times:\n",
    "    print(key)\n",
    "    if(args[key][\"adaptive_n\"]):\n",
    "        counter += 1\n",
    "    plot_successes[(args[key][\"min_samples\"], args[key][\"max_samples\"], args[key][\"adaptive_n\"])].append(successes[key])\n",
    "    plot_times[(args[key][\"min_samples\"], args[key][\"max_samples\"], args[key][\"adaptive_n\"])].append(times[key])"
   ]
  },
  {
   "cell_type": "code",
   "execution_count": 8,
   "metadata": {},
   "outputs": [
    {
     "name": "stderr",
     "output_type": "stream",
     "text": [
      "/Users/aidancurtis/miniforge3/envs/nonasy/lib/python3.9/site-packages/numpy/core/fromnumeric.py:3464: RuntimeWarning: Mean of empty slice.\n",
      "  return _methods._mean(a, axis=axis, dtype=dtype,\n",
      "/Users/aidancurtis/miniforge3/envs/nonasy/lib/python3.9/site-packages/numpy/core/_methods.py:192: RuntimeWarning: invalid value encountered in scalar divide\n",
      "  ret = ret.dtype.type(ret / rcount)\n",
      "/Users/aidancurtis/miniforge3/envs/nonasy/lib/python3.9/site-packages/numpy/core/_methods.py:269: RuntimeWarning: Degrees of freedom <= 0 for slice\n",
      "  ret = _var(a, axis=axis, dtype=dtype, out=out, ddof=ddof,\n",
      "/Users/aidancurtis/miniforge3/envs/nonasy/lib/python3.9/site-packages/numpy/core/_methods.py:226: RuntimeWarning: invalid value encountered in divide\n",
      "  arrmean = um.true_divide(arrmean, div, out=arrmean,\n",
      "/Users/aidancurtis/miniforge3/envs/nonasy/lib/python3.9/site-packages/numpy/core/_methods.py:261: RuntimeWarning: invalid value encountered in scalar divide\n",
      "  ret = ret.dtype.type(ret / rcount)\n",
      "/Users/aidancurtis/miniforge3/envs/nonasy/lib/python3.9/site-packages/matplotlib/axes/_axes.py:1103: RuntimeWarning: All-NaN axis encountered\n",
      "  minx = np.nanmin(masked_verts[..., 0])\n",
      "/Users/aidancurtis/miniforge3/envs/nonasy/lib/python3.9/site-packages/matplotlib/axes/_axes.py:1104: RuntimeWarning: All-NaN axis encountered\n",
      "  maxx = np.nanmax(masked_verts[..., 0])\n",
      "/Users/aidancurtis/miniforge3/envs/nonasy/lib/python3.9/site-packages/matplotlib/axes/_axes.py:1105: RuntimeWarning: All-NaN axis encountered\n",
      "  miny = np.nanmin(masked_verts[..., 1])\n",
      "/Users/aidancurtis/miniforge3/envs/nonasy/lib/python3.9/site-packages/matplotlib/axes/_axes.py:1106: RuntimeWarning: All-NaN axis encountered\n",
      "  maxy = np.nanmax(masked_verts[..., 1])\n",
      "/Users/aidancurtis/miniforge3/envs/nonasy/lib/python3.9/site-packages/matplotlib/axes/_axes.py:1183: RuntimeWarning: All-NaN axis encountered\n",
      "  minx = np.nanmin(masked_verts[..., 0])\n",
      "/Users/aidancurtis/miniforge3/envs/nonasy/lib/python3.9/site-packages/matplotlib/axes/_axes.py:1184: RuntimeWarning: All-NaN axis encountered\n",
      "  maxx = np.nanmax(masked_verts[..., 0])\n",
      "/Users/aidancurtis/miniforge3/envs/nonasy/lib/python3.9/site-packages/matplotlib/axes/_axes.py:1185: RuntimeWarning: All-NaN axis encountered\n",
      "  miny = np.nanmin(masked_verts[..., 1])\n",
      "/Users/aidancurtis/miniforge3/envs/nonasy/lib/python3.9/site-packages/matplotlib/axes/_axes.py:1186: RuntimeWarning: All-NaN axis encountered\n",
      "  maxy = np.nanmax(masked_verts[..., 1])\n"
     ]
    },
    {
     "data": {
      "image/png": "[encoded data removed]",
      "text/plain": [
       "<Figure size 640x480 with 1 Axes>"
      ]
     },
     "metadata": {},
     "output_type": "display_data"
    }
   ],
   "source": [
    "\n",
    "plt.rcParams.update({'font.size': 18})\n",
    "plt.figure()\n",
    "legend = [\"sPRM\", \"iPRM\", \"aPRM\"]\n",
    "# Plot the sPRM results\n",
    "for condition in legend:\n",
    "    xs = []\n",
    "    ys = []\n",
    "    x_errs = []\n",
    "    y_errs = []\n",
    "    ns = []\n",
    "    for k in plot_successes:\n",
    "        min_samples, max_samples, adaptive_n = k\n",
    "        \n",
    "        if((condition == \"iPRM\" and (min_samples != max_samples-1 and not adaptive_n)) or\n",
    "           (condition == \"sPRM\" and (min_samples == max_samples-1 and not adaptive_n)) or\n",
    "           (condition == \"aPRM\" and (adaptive_n))):\n",
    "            if(condition == \"aPRM\"):\n",
    "                print(len(plot_times[k]))\n",
    "            xs.append(np.mean(plot_times[k]))\n",
    "            ys.append(np.mean(plot_successes[k]))\n",
    "            x_errs.append(np.std(plot_times[k])/np.sqrt(len(plot_times[k])))\n",
    "            y_errs.append(np.std(plot_successes[k])/np.sqrt(len(plot_successes[k])))\n",
    "            ns.append(max_samples)\n",
    "\n",
    "    plt.errorbar(xs, ys, xerr=x_errs, yerr=y_errs, markersize=10, fmt='o')\n",
    "\n",
    "plt.legend(legend, loc=\"lower right\")\n",
    "plt.ylabel(\"Success Probability\")\n",
    "plt.xlabel(\"Time (s)\")\n",
    "plt.savefig('../../../figures/sample_plot.pdf', format='pdf',  bbox_inches='tight')"
   ]
  },
  {
   "cell_type": "code",
   "execution_count": null,
   "metadata": {},
   "outputs": [],
   "source": []
  }
 ],
 "metadata": {
  "kernelspec": {
   "display_name": "nonasy",
   "language": "python",
   "name": "python3"
  },
  "language_info": {
   "codemirror_mode": {
    "name": "ipython",
    "version": 3
   },
   "file_extension": ".py",
   "mimetype": "text/x-python",
   "name": "python",
   "nbconvert_exporter": "python",
   "pygments_lexer": "ipython3",
   "version": "3.9.18"
  }
 },
 "nbformat": 4,
 "nbformat_minor": 2
}
