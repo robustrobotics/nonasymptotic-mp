{
 "cells": [
  {
   "cell_type": "code",
   "execution_count": null,
   "metadata": {},
   "outputs": [],
   "source": [
    "import numpy as np\n",
    "import matplotlib.pyplot as plt\n",
    "import os\n",
    "import re\n",
    "import ast\n",
    "from collections import defaultdict\n",
    "from tqdm import tqdm"
   ]
  },
  {
   "cell_type": "code",
   "execution_count": null,
   "metadata": {},
   "outputs": [],
   "source": [
    "# Set the path to the directory containing the subfolders\n",
    "parent_directory = './runs'\n",
    "\n",
    "# This list will hold all the numbers found\n",
    "successes = {}\n",
    "times = {}\n",
    "args = {}\n",
    "# Regular expression to find numbers\n",
    "number_pattern = re.compile(r'\\d+')\n",
    "all_files = list(os.walk(parent_directory))\n",
    "for root, dirs, files in tqdm(all_files):\n",
    "    for file in files:\n",
    "        if file.endswith(\".log\"):  # Checks if the file is a log file\n",
    "            file_path = os.path.join(root, file)\n",
    "            with open(file_path, 'r') as f:\n",
    "                lines = f.readlines()\n",
    "                args[file] = ast.literal_eval(lines[1])\n",
    "                # print(float(file_path.split(\"--\")[1].split(\"/\")[0].replace(\"-\", \".\")))\n",
    "                time = float(file_path.split(\"--\")[1].split(\"/\")[0].replace(\"-\", \".\"))\n",
    "                if(args[file][\"adaptive_n\"] and time<20240505.17):\n",
    "    \n",
    "                    continue\n",
    "                \n",
    "                \n",
    "                for i, line in enumerate(lines):\n",
    "                    if line.startswith(\"Solved:\"):\n",
    "                        \n",
    "                        successes[file] = int((\"True\" in lines[i].strip()))\n",
    "\n",
    "                        if (args[file][\"adaptive_n\"] and not successes[file]):\n",
    "                            print(file_path)\n",
    "                    if(line.startswith(\"Time:\")):\n",
    "                        times[file] = float(lines[i].strip().replace(\"Time: \", \"\"))\n",
    "           \n"
   ]
  },
  {
   "cell_type": "code",
   "execution_count": null,
   "metadata": {},
   "outputs": [],
   "source": [
    "print(len(times))\n",
    "print(len(successes))\n",
    "print(len(args))\n",
    "\n",
    "plot_points = {}\n",
    "plot_successes = defaultdict(list)\n",
    "plot_times = defaultdict(list)\n",
    "counter = 0\n",
    "for key in times:\n",
    "    if(args[key][\"adaptive_n\"]):\n",
    "        counter += 1\n",
    "        print(counter)\n",
    "    plot_successes[(args[key][\"min_samples\"], args[key][\"max_samples\"], args[key][\"adaptive_n\"])].append(successes[key])\n",
    "    plot_times[(args[key][\"min_samples\"], args[key][\"max_samples\"], args[key][\"adaptive_n\"])].append(times[key])"
   ]
  },
  {
   "cell_type": "code",
   "execution_count": null,
   "metadata": {},
   "outputs": [],
   "source": [
    "\n",
    "plt.rcParams.update({'font.size': 18})\n",
    "plt.figure()\n",
    "legend = [\"sPRM\", \"iPRM\", \"aPRM\"]\n",
    "# Plot the sPRM results\n",
    "for condition in legend:\n",
    "    xs = []\n",
    "    ys = []\n",
    "    x_errs = []\n",
    "    y_errs = []\n",
    "    ns = []\n",
    "    for k in plot_successes:\n",
    "        min_samples, max_samples, adaptive_n = k\n",
    "        \n",
    "        if((condition == \"iPRM\" and (min_samples != max_samples-1 and not adaptive_n)) or\n",
    "           (condition == \"sPRM\" and (min_samples == max_samples-1 and not adaptive_n)) or\n",
    "           (condition == \"aPRM\" and (adaptive_n))):\n",
    "            if(condition == \"aPRM\"):\n",
    "                print(len(plot_times[k]))\n",
    "            xs.append(np.mean(plot_times[k]))\n",
    "            ys.append(np.mean(plot_successes[k]))\n",
    "            x_errs.append(np.std(plot_times[k])/np.sqrt(len(plot_times[k])))\n",
    "            y_errs.append(np.std(plot_successes[k])/np.sqrt(len(plot_successes[k])))\n",
    "            ns.append(max_samples)\n",
    "\n",
    "    plt.errorbar(xs, ys, xerr=x_errs, yerr=y_errs, markersize=10, fmt='o')\n",
    "\n",
    "plt.legend(legend, loc=\"lower right\")\n",
    "plt.ylabel(\"Success Probability\")\n",
    "plt.xlabel(\"Time (s)\")\n",
    "plt.savefig('../../../figures/sample_plot.pdf', format='pdf',  bbox_inches='tight')"
   ]
  }
 ],
 "metadata": {
  "kernelspec": {
   "display_name": "nonasy",
   "language": "python",
   "name": "python3"
  },
  "language_info": {
   "codemirror_mode": {
    "name": "ipython",
    "version": 3
   },
   "file_extension": ".py",
   "mimetype": "text/x-python",
   "name": "python",
   "nbconvert_exporter": "python",
   "pygments_lexer": "ipython3",
   "version": "3.9.18"
  }
 },
 "nbformat": 4,
 "nbformat_minor": 2
}
