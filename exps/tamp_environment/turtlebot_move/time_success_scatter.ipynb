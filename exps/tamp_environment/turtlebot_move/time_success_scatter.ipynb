{
 "cells": [
  {
   "cell_type": "code",
   "execution_count": 12,
   "metadata": {},
   "outputs": [],
   "source": [
    "import numpy as np\n",
    "import matplotlib.pyplot as plt\n",
    "import os\n",
    "import re\n",
    "import ast\n",
    "from collections import defaultdict\n",
    "from tqdm import tqdm\n",
    "\n",
    "\n"
   ]
  },
  {
   "cell_type": "code",
   "execution_count": 41,
   "metadata": {},
   "outputs": [
    {
     "name": "stderr",
     "output_type": "stream",
     "text": [
      "100%|██████████| 4401/4401 [00:03<00:00, 1244.72it/s]\n"
     ]
    }
   ],
   "source": [
    "# Set the path to the directory containing the subfolders\n",
    "parent_directory = './runs'\n",
    "\n",
    "# This list will hold all the numbers found\n",
    "successes = {}\n",
    "times = {}\n",
    "args = {}\n",
    "# Regular expression to find numbers\n",
    "number_pattern = re.compile(r'\\d+')\n",
    "all_files = list(os.walk(parent_directory))\n",
    "for root, dirs, files in tqdm(all_files):\n",
    "    for file in files:\n",
    "        if file.endswith(\".log\"):  # Checks if the file is a log file\n",
    "            file_path = os.path.join(root, file)\n",
    "            with open(file_path, 'r') as f:\n",
    "                lines = f.readlines()\n",
    "                args[file] = ast.literal_eval(lines[1])\n",
    "                # print(float(file_path.split(\"--\")[1].split(\"/\")[0].replace(\"-\", \".\")))\n",
    "                time = float(file_path.split(\"--\")[1].split(\"/\")[0].replace(\"-\", \".\"))\n",
    "                if(args[file][\"adaptive_n\"] and  time< 20240503.17 or time>20240504):\n",
    "                    \n",
    "                    continue\n",
    "                \n",
    "                \n",
    "                for i, line in enumerate(lines):\n",
    "                    if line.startswith(\"Solved:\"):\n",
    "                        successes[file] = int((\"True\" in lines[i].strip()))\n",
    "                    if(line.startswith(\"Time:\")):\n",
    "                        times[file] = float(lines[i].strip().replace(\"Time: \", \"\"))\n",
    "           \n"
   ]
  },
  {
   "cell_type": "code",
   "execution_count": 42,
   "metadata": {},
   "outputs": [
    {
     "name": "stdout",
     "output_type": "stream",
     "text": [
      "1925\n",
      "1925\n",
      "2200\n",
      "1\n",
      "2\n",
      "3\n",
      "4\n",
      "5\n",
      "6\n",
      "7\n",
      "8\n",
      "9\n",
      "10\n",
      "11\n",
      "12\n",
      "13\n",
      "14\n",
      "15\n",
      "16\n",
      "17\n",
      "18\n",
      "19\n",
      "20\n",
      "21\n",
      "22\n",
      "23\n",
      "24\n",
      "25\n",
      "26\n",
      "27\n",
      "28\n",
      "29\n",
      "30\n",
      "31\n",
      "32\n",
      "33\n",
      "34\n",
      "35\n",
      "36\n",
      "37\n",
      "38\n",
      "39\n",
      "40\n",
      "41\n",
      "42\n",
      "43\n",
      "44\n",
      "45\n",
      "46\n",
      "47\n",
      "48\n"
     ]
    }
   ],
   "source": [
    "print(len(times))\n",
    "print(len(successes))\n",
    "print(len(args))\n",
    "\n",
    "plot_points = {}\n",
    "plot_successes = defaultdict(list)\n",
    "plot_times = defaultdict(list)\n",
    "counter = 0\n",
    "for key in times:\n",
    "    if(args[key][\"adaptive_n\"]):\n",
    "        counter += 1\n",
    "        print(counter)\n",
    "    plot_successes[(args[key][\"min_samples\"], args[key][\"max_samples\"], args[key][\"adaptive_n\"])].append(successes[key])\n",
    "    plot_times[(args[key][\"min_samples\"], args[key][\"max_samples\"], args[key][\"adaptive_n\"])].append(times[key])"
   ]
  },
  {
   "cell_type": "code",
   "execution_count": 43,
   "metadata": {},
   "outputs": [
    {
     "name": "stdout",
     "output_type": "stream",
     "text": [
      "48\n"
     ]
    },
    {
     "data": {
      "text/plain": [
       "Text(0.5, 0, 'Time (s)')"
      ]
     },
     "execution_count": 43,
     "metadata": {},
     "output_type": "execute_result"
    },
    {
     "data": {
      "image/png": "[encoded data removed]",
      "text/plain": [
       "<Figure size 640x480 with 1 Axes>"
      ]
     },
     "metadata": {},
     "output_type": "display_data"
    }
   ],
   "source": [
    "\n",
    "\n",
    "plt.figure()\n",
    "legend = [\"sPRM\", \"iPRM\", \"aPRM\"]\n",
    "# Plot the sPRM results\n",
    "for condition in legend:\n",
    "    xs = []\n",
    "    ys = []\n",
    "    x_errs = []\n",
    "    y_errs = []\n",
    "    ns = []\n",
    "    for k in plot_successes:\n",
    "        min_samples, max_samples, adaptive_n = k\n",
    "        \n",
    "        if((condition == \"iPRM\" and (min_samples != max_samples-1 and not adaptive_n)) or\n",
    "           (condition == \"sPRM\" and (min_samples == max_samples-1 and not adaptive_n)) or\n",
    "           (condition == \"aPRM\" and (adaptive_n))):\n",
    "            if(condition == \"aPRM\"):\n",
    "                print(len(plot_times[k]))\n",
    "            xs.append(np.mean(plot_times[k]))\n",
    "            ys.append(np.mean(plot_successes[k]))\n",
    "            x_errs.append(np.std(plot_times[k])/np.sqrt(len(plot_times[k])))\n",
    "            y_errs.append(np.std(plot_successes[k])/np.sqrt(len(plot_successes[k])))\n",
    "            ns.append(max_samples)\n",
    "\n",
    "    plt.errorbar(xs, ys, xerr=x_errs, yerr=y_errs, fmt='o')\n",
    "\n",
    "plt.legend(legend, loc=\"lower right\")\n",
    "plt.ylabel(\"Success Probability\")\n",
    "plt.xlabel(\"Time (s)\")\n"
   ]
  },
  {
   "cell_type": "code",
   "execution_count": null,
   "metadata": {},
   "outputs": [],
   "source": []
  }
 ],
 "metadata": {
  "kernelspec": {
   "display_name": "nonasy",
   "language": "python",
   "name": "python3"
  },
  "language_info": {
   "codemirror_mode": {
    "name": "ipython",
    "version": 3
   },
   "file_extension": ".py",
   "mimetype": "text/x-python",
   "name": "python",
   "nbconvert_exporter": "python",
   "pygments_lexer": "ipython3",
   "version": "3.9.18"
  }
 },
 "nbformat": 4,
 "nbformat_minor": 2
}
